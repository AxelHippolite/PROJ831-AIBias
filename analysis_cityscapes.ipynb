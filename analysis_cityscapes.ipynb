{
 "cells": [
  {
   "attachments": {},
   "cell_type": "markdown",
   "metadata": {},
   "source": [
    "# Data Analysis"
   ]
  },
  {
   "attachments": {},
   "cell_type": "markdown",
   "metadata": {},
   "source": [
    "## Import Librairies"
   ]
  },
  {
   "cell_type": "code",
   "execution_count": 30,
   "metadata": {},
   "outputs": [],
   "source": [
    "import os\n",
    "import imageio\n",
    "from tabulate import tabulate"
   ]
  },
  {
   "attachments": {},
   "cell_type": "markdown",
   "metadata": {},
   "source": [
    "## Check IDs & # Files"
   ]
  },
  {
   "cell_type": "code",
   "execution_count": null,
   "metadata": {},
   "outputs": [],
   "source": [
    "comprehension = ['test', 'train', 'val']\n",
    "header = ['#', 'ID gtFine', '# of File', 'ID leftlmg8bit', '# of File', \"Test ID\", \"Test #\"]\n",
    "\n",
    "for dir in comprehension:\n",
    "    print(dir.upper() + \" Dir. Comprehension\")\n",
    "    gtFine_lst = [file for file in os.listdir('data/gtFine/' + dir) if '.DS_Store' not in file]\n",
    "    gtFine_nb = [len([file for file in os.listdir('data/gtFine/' + dir + '/' + path)]) for path in gtFine_lst]\n",
    "    leftlmg8bit_lst = [file for file in os.listdir('data/leftImg8bit/' + dir)]\n",
    "    leftlmg8bit_nb = [len([file for file in os.listdir('data/gtFine/' + dir + '/' + path)]) for path in leftlmg8bit_lst]\n",
    "    print(\"LEN Verification :\", len(gtFine_lst) == len(leftlmg8bit_lst))\n",
    "\n",
    "    data = [[i, gtFine_lst[i], gtFine_nb[i], leftlmg8bit_lst[i], leftlmg8bit_nb[i], gtFine_lst[i] == leftlmg8bit_lst[i], gtFine_nb[i] == leftlmg8bit_nb[i]] for i in range(len(gtFine_lst))]\n",
    "    data.insert(0, header)\n",
    "\n",
    "    print(tabulate(data, headers='firstrow', tablefmt='fancy_grid') + '\\n')"
   ]
  }
 ],
 "metadata": {
  "kernelspec": {
   "display_name": "Python 3",
   "language": "python",
   "name": "python3"
  },
  "language_info": {
   "codemirror_mode": {
    "name": "ipython",
    "version": 3
   },
   "file_extension": ".py",
   "mimetype": "text/x-python",
   "name": "python",
   "nbconvert_exporter": "python",
   "pygments_lexer": "ipython3",
   "version": "3.10.10"
  },
  "orig_nbformat": 4
 },
 "nbformat": 4,
 "nbformat_minor": 2
}
