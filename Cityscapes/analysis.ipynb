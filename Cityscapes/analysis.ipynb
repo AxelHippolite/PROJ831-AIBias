{
 "cells": [
  {
   "attachments": {},
   "cell_type": "markdown",
   "metadata": {},
   "source": [
    "# Cityscapes Dataset Analysis\n",
    "\n",
    "In this notebook, we analyse the Cityscapes dataset distributed in train, tests and validation sets, available [here](https://www.cityscapes-dataset.com/downloads/). It is also needed to download the leftImg8bit set to count the number of images.\n",
    "\n",
    "The analysis on labels and polygons will be based on the files that were generated with the scripts *generate_files.py* & *generate_fractals.py*."
   ]
  },
  {
   "attachments": {},
   "cell_type": "markdown",
   "metadata": {},
   "source": [
    "## Import libraries"
   ]
  },
  {
   "cell_type": "code",
   "execution_count": 2,
   "metadata": {},
   "outputs": [],
   "source": [
    "import pandas as pd\n",
    "import os\n",
    "import utilities\n",
    "import imageio\n",
    "from tabulate import tabulate\n",
    "import numpy as np\n",
    "import seaborn as sns\n",
    "from skimage.draw import polygon\n",
    "import json\n",
    "from tqdm import tqdm\n",
    "import matplotlib.pyplot as plt\n",
    "import ipywidgets as widgets\n",
    "from ipywidgets import interact\n",
    "import plotly.graph_objects as go\n",
    "from plotly.subplots import make_subplots\n",
    "import cv2\n",
    "import porespy.metrics as pm\n",
    "from scipy.stats import linregress\n",
    "\n",
    "pd.options.plotting.backend = \"plotly\""
   ]
  },
  {
   "attachments": {},
   "cell_type": "markdown",
   "metadata": {},
   "source": [
    "## Check IDs & # Files\n",
    "The code below will creates lists of all the files in the data folder containing both the gtFine and leftImg8bit datasets, in order to check the number of files for each city."
   ]
  },
  {
   "cell_type": "code",
   "execution_count": null,
   "metadata": {},
   "outputs": [
    {
     "name": "stdout",
     "output_type": "stream",
     "text": [
      "TEST Dir. Comprehension\n",
      "LEN Verification : True\n",
      "╒═════╤═════════════╤═════════════╤══════════════════╤═════════════╤═══════════╤══════════╕\n",
      "│   # │ ID gtFine   │   # of File │ ID leftlmg8bit   │   # of File │ Test ID   │ Test #   │\n",
      "╞═════╪═════════════╪═════════════╪══════════════════╪═════════════╪═══════════╪══════════╡\n",
      "│   0 │ bielefeld   │         724 │ bielefeld        │         724 │ True      │ True     │\n",
      "├─────┼─────────────┼─────────────┼──────────────────┼─────────────┼───────────┼──────────┤\n",
      "│   1 │ leverkusen  │         232 │ leverkusen       │         232 │ True      │ True     │\n",
      "├─────┼─────────────┼─────────────┼──────────────────┼─────────────┼───────────┼──────────┤\n",
      "│   2 │ bonn        │         184 │ bonn             │         184 │ True      │ True     │\n",
      "├─────┼─────────────┼─────────────┼──────────────────┼─────────────┼───────────┼──────────┤\n",
      "│   3 │ berlin      │        2176 │ berlin           │        2176 │ True      │ True     │\n",
      "├─────┼─────────────┼─────────────┼──────────────────┼─────────────┼───────────┼──────────┤\n",
      "│   4 │ mainz       │        1192 │ mainz            │        1192 │ True      │ True     │\n",
      "├─────┼─────────────┼─────────────┼──────────────────┼─────────────┼───────────┼──────────┤\n",
      "│   5 │ munich      │        1592 │ munich           │        1592 │ True      │ True     │\n",
      "╘═════╧═════════════╧═════════════╧══════════════════╧═════════════╧═══════════╧══════════╛\n",
      "\n",
      "TRAIN Dir. Comprehension\n",
      "LEN Verification : True\n",
      "╒═════╤═════════════════╤═════════════╤══════════════════╤═════════════╤═══════════╤══════════╕\n",
      "│   # │ ID gtFine       │   # of File │ ID leftlmg8bit   │   # of File │ Test ID   │ Test #   │\n",
      "╞═════╪═════════════════╪═════════════╪══════════════════╪═════════════╪═══════════╪══════════╡\n",
      "│   0 │ zurich          │         488 │ zurich           │         488 │ True      │ True     │\n",
      "├─────┼─────────────────┼─────────────┼──────────────────┼─────────────┼───────────┼──────────┤\n",
      "│   1 │ strasbourg      │        1460 │ strasbourg       │        1460 │ True      │ True     │\n",
      "├─────┼─────────────────┼─────────────┼──────────────────┼─────────────┼───────────┼──────────┤\n",
      "│   2 │ weimar          │         568 │ weimar           │         568 │ True      │ True     │\n",
      "├─────┼─────────────────┼─────────────┼──────────────────┼─────────────┼───────────┼──────────┤\n",
      "│   3 │ aachen          │         696 │ aachen           │         696 │ True      │ True     │\n",
      "├─────┼─────────────────┼─────────────┼──────────────────┼─────────────┼───────────┼──────────┤\n",
      "│   4 │ tubingen        │         576 │ tubingen         │         576 │ True      │ True     │\n",
      "├─────┼─────────────────┼─────────────┼──────────────────┼─────────────┼───────────┼──────────┤\n",
      "│   5 │ jena            │         476 │ jena             │         476 │ True      │ True     │\n",
      "├─────┼─────────────────┼─────────────┼──────────────────┼─────────────┼───────────┼──────────┤\n",
      "│   6 │ bochum          │         384 │ bochum           │         384 │ True      │ True     │\n",
      "├─────┼─────────────────┼─────────────┼──────────────────┼─────────────┼───────────┼──────────┤\n",
      "│   7 │ darmstadt       │         340 │ darmstadt        │         340 │ True      │ True     │\n",
      "├─────┼─────────────────┼─────────────┼──────────────────┼─────────────┼───────────┼──────────┤\n",
      "│   8 │ dusseldorf      │         884 │ dusseldorf       │         884 │ True      │ True     │\n",
      "├─────┼─────────────────┼─────────────┼──────────────────┼─────────────┼───────────┼──────────┤\n",
      "│   9 │ hamburg         │         992 │ hamburg          │         992 │ True      │ True     │\n",
      "├─────┼─────────────────┼─────────────┼──────────────────┼─────────────┼───────────┼──────────┤\n",
      "│  10 │ cologne         │         616 │ cologne          │         616 │ True      │ True     │\n",
      "├─────┼─────────────────┼─────────────┼──────────────────┼─────────────┼───────────┼──────────┤\n",
      "│  11 │ monchengladbach │         376 │ monchengladbach  │         376 │ True      │ True     │\n",
      "├─────┼─────────────────┼─────────────┼──────────────────┼─────────────┼───────────┼──────────┤\n",
      "│  12 │ krefeld         │         396 │ krefeld          │         396 │ True      │ True     │\n",
      "├─────┼─────────────────┼─────────────┼──────────────────┼─────────────┼───────────┼──────────┤\n",
      "│  13 │ ulm             │         380 │ ulm              │         380 │ True      │ True     │\n",
      "├─────┼─────────────────┼─────────────┼──────────────────┼─────────────┼───────────┼──────────┤\n",
      "│  14 │ hanover         │         784 │ hanover          │         784 │ True      │ True     │\n",
      "├─────┼─────────────────┼─────────────┼──────────────────┼─────────────┼───────────┼──────────┤\n",
      "│  15 │ stuttgart       │         784 │ stuttgart        │         784 │ True      │ True     │\n",
      "├─────┼─────────────────┼─────────────┼──────────────────┼─────────────┼───────────┼──────────┤\n",
      "│  16 │ erfurt          │         436 │ erfurt           │         436 │ True      │ True     │\n",
      "├─────┼─────────────────┼─────────────┼──────────────────┼─────────────┼───────────┼──────────┤\n",
      "│  17 │ bremen          │        1264 │ bremen           │        1264 │ True      │ True     │\n",
      "╘═════╧═════════════════╧═════════════╧══════════════════╧═════════════╧═══════════╧══════════╛\n",
      "\n",
      "VAL Dir. Comprehension\n",
      "LEN Verification : True\n",
      "╒═════╤═════════════╤═════════════╤══════════════════╤═════════════╤═══════════╤══════════╕\n",
      "│   # │ ID gtFine   │   # of File │ ID leftlmg8bit   │   # of File │ Test ID   │ Test #   │\n",
      "╞═════╪═════════════╪═════════════╪══════════════════╪═════════════╪═══════════╪══════════╡\n",
      "│   0 │ munster     │         696 │ munster          │         696 │ True      │ True     │\n",
      "├─────┼─────────────┼─────────────┼──────────────────┼─────────────┼───────────┼──────────┤\n",
      "│   1 │ lindau      │         236 │ lindau           │         236 │ True      │ True     │\n",
      "├─────┼─────────────┼─────────────┼──────────────────┼─────────────┼───────────┼──────────┤\n",
      "│   2 │ frankfurt   │        1068 │ frankfurt        │        1068 │ True      │ True     │\n",
      "╘═════╧═════════════╧═════════════╧══════════════════╧═════════════╧═══════════╧══════════╛\n",
      "\n"
     ]
    }
   ],
   "source": [
    "comprehension = ['test', 'train', 'val']\n",
    "header = ['#', 'ID gtFine', '# of File', 'ID leftlmg8bit', '# of File', \"Test ID\", \"Test #\"]\n",
    "\n",
    "for dir in comprehension:\n",
    "    print(dir.upper() + \" Dir. Comprehension\")\n",
    "    gtFine_lst = [file for file in os.listdir('data/gtFine/' + dir) if '.DS_Store' not in file]\n",
    "    gtFine_nb = [len([file for file in os.listdir('data/gtFine/' + dir + '/' + path)]) for path in gtFine_lst]\n",
    "    leftlmg8bit_lst = [file for file in os.listdir('data/leftImg8bit/' + dir)]\n",
    "    leftlmg8bit_nb = [len([file for file in os.listdir('data/gtFine/' + dir + '/' + path)]) for path in leftlmg8bit_lst]\n",
    "    print(\"LEN Verification :\", len(gtFine_lst) == len(leftlmg8bit_lst))\n",
    "\n",
    "    data = [[i, gtFine_lst[i], gtFine_nb[i], leftlmg8bit_lst[i], leftlmg8bit_nb[i], gtFine_lst[i] == leftlmg8bit_lst[i], gtFine_nb[i] == leftlmg8bit_nb[i]] for i in range(len(gtFine_lst))]\n",
    "    data.insert(0, header)\n",
    "\n",
    "    print(tabulate(data, headers='firstrow', tablefmt='fancy_grid') + '\\n')"
   ]
  },
  {
   "attachments": {},
   "cell_type": "markdown",
   "metadata": {},
   "source": [
    "We can confirm that there a total of 5000 images, and the corresponding number of images for each city."
   ]
  },
  {
   "attachments": {},
   "cell_type": "markdown",
   "metadata": {},
   "source": [
    "## Check IMGs Size\n",
    "\n",
    "We now need to check if every images have the same size, which is expected to be (2048x1024)."
   ]
  },
  {
   "cell_type": "code",
   "execution_count": null,
   "metadata": {},
   "outputs": [
    {
     "name": "stdout",
     "output_type": "stream",
     "text": [
      "Dir. test : (2048.0, 1024.0)\n",
      "Dir. train : (2048.0, 1024.0)\n",
      "Dir. val : (2048.0, 1024.0)\n"
     ]
    }
   ],
   "source": [
    "comprehension = ['test', 'train', 'val']\n",
    "for dir in comprehension:\n",
    "    gtFine_lst = [file for file in os.listdir('data/gtFine/' + dir) if '.DS_Store' not in file]\n",
    "    gtFine_file = [['data/gtFine/' + dir + '/' + path + '/' + file for file in os.listdir('data/gtFine/' + dir + '/' + path) if '.json' in file] for path in gtFine_lst]\n",
    "    gtFine_size_w, gtFine_size_h = [], []\n",
    "    for city in range(len(gtFine_lst)):\n",
    "        city_lst_w, city_lst_h = [], []\n",
    "        for file in gtFine_file[city]:\n",
    "            with open(file, 'r') as f:\n",
    "                data = json.load(f)\n",
    "                city_lst_w.append(data['imgWidth']), city_lst_h.append(data['imgHeight'])\n",
    "        gtFine_size_w.append(city_lst_w), gtFine_size_h.append(city_lst_h)\n",
    "    print(\"Dir. \" + dir + \" :\", (utilities.multi_mean_tuple(gtFine_size_w), utilities.multi_mean_tuple(gtFine_size_h)))"
   ]
  },
  {
   "attachments": {},
   "cell_type": "markdown",
   "metadata": {},
   "source": [
    "## Load Generated Files\n",
    "\n",
    "We load in a pandas dataframe the result of the count of labels for each file, to make easier the calculations on the data."
   ]
  },
  {
   "cell_type": "code",
   "execution_count": 2,
   "metadata": {},
   "outputs": [
    {
     "data": {
      "text/html": [
       "<div>\n",
       "<style scoped>\n",
       "    .dataframe tbody tr th:only-of-type {\n",
       "        vertical-align: middle;\n",
       "    }\n",
       "\n",
       "    .dataframe tbody tr th {\n",
       "        vertical-align: top;\n",
       "    }\n",
       "\n",
       "    .dataframe thead th {\n",
       "        text-align: right;\n",
       "    }\n",
       "</style>\n",
       "<table border=\"1\" class=\"dataframe\">\n",
       "  <thead>\n",
       "    <tr style=\"text-align: right;\">\n",
       "      <th></th>\n",
       "      <th>city</th>\n",
       "      <th>terrain</th>\n",
       "      <th>rider</th>\n",
       "      <th>traffic sign</th>\n",
       "      <th>license plate</th>\n",
       "      <th>road</th>\n",
       "      <th>sidewalk</th>\n",
       "      <th>vegetation</th>\n",
       "      <th>out of roi</th>\n",
       "      <th>building</th>\n",
       "      <th>...</th>\n",
       "      <th>tunnel</th>\n",
       "      <th>caravan</th>\n",
       "      <th>truck</th>\n",
       "      <th>guard rail</th>\n",
       "      <th>rectification border</th>\n",
       "      <th>rail track</th>\n",
       "      <th>train</th>\n",
       "      <th>motorcyclegroup</th>\n",
       "      <th>ridergroup</th>\n",
       "      <th>truckgroup</th>\n",
       "    </tr>\n",
       "  </thead>\n",
       "  <tbody>\n",
       "    <tr>\n",
       "      <th>0</th>\n",
       "      <td>aachen</td>\n",
       "      <td>4.0</td>\n",
       "      <td>1.0</td>\n",
       "      <td>11.0</td>\n",
       "      <td>3.0</td>\n",
       "      <td>1.0</td>\n",
       "      <td>2.0</td>\n",
       "      <td>5.0</td>\n",
       "      <td>1</td>\n",
       "      <td>2.0</td>\n",
       "      <td>...</td>\n",
       "      <td>NaN</td>\n",
       "      <td>NaN</td>\n",
       "      <td>NaN</td>\n",
       "      <td>NaN</td>\n",
       "      <td>NaN</td>\n",
       "      <td>NaN</td>\n",
       "      <td>NaN</td>\n",
       "      <td>NaN</td>\n",
       "      <td>NaN</td>\n",
       "      <td>NaN</td>\n",
       "    </tr>\n",
       "    <tr>\n",
       "      <th>1</th>\n",
       "      <td>aachen</td>\n",
       "      <td>11.0</td>\n",
       "      <td>NaN</td>\n",
       "      <td>12.0</td>\n",
       "      <td>7.0</td>\n",
       "      <td>2.0</td>\n",
       "      <td>5.0</td>\n",
       "      <td>10.0</td>\n",
       "      <td>1</td>\n",
       "      <td>2.0</td>\n",
       "      <td>...</td>\n",
       "      <td>NaN</td>\n",
       "      <td>NaN</td>\n",
       "      <td>NaN</td>\n",
       "      <td>NaN</td>\n",
       "      <td>NaN</td>\n",
       "      <td>NaN</td>\n",
       "      <td>NaN</td>\n",
       "      <td>NaN</td>\n",
       "      <td>NaN</td>\n",
       "      <td>NaN</td>\n",
       "    </tr>\n",
       "    <tr>\n",
       "      <th>2</th>\n",
       "      <td>aachen</td>\n",
       "      <td>3.0</td>\n",
       "      <td>NaN</td>\n",
       "      <td>23.0</td>\n",
       "      <td>4.0</td>\n",
       "      <td>1.0</td>\n",
       "      <td>2.0</td>\n",
       "      <td>1.0</td>\n",
       "      <td>1</td>\n",
       "      <td>3.0</td>\n",
       "      <td>...</td>\n",
       "      <td>NaN</td>\n",
       "      <td>NaN</td>\n",
       "      <td>NaN</td>\n",
       "      <td>NaN</td>\n",
       "      <td>NaN</td>\n",
       "      <td>NaN</td>\n",
       "      <td>NaN</td>\n",
       "      <td>NaN</td>\n",
       "      <td>NaN</td>\n",
       "      <td>NaN</td>\n",
       "    </tr>\n",
       "    <tr>\n",
       "      <th>3</th>\n",
       "      <td>aachen</td>\n",
       "      <td>2.0</td>\n",
       "      <td>NaN</td>\n",
       "      <td>8.0</td>\n",
       "      <td>5.0</td>\n",
       "      <td>1.0</td>\n",
       "      <td>3.0</td>\n",
       "      <td>NaN</td>\n",
       "      <td>1</td>\n",
       "      <td>2.0</td>\n",
       "      <td>...</td>\n",
       "      <td>NaN</td>\n",
       "      <td>NaN</td>\n",
       "      <td>NaN</td>\n",
       "      <td>NaN</td>\n",
       "      <td>NaN</td>\n",
       "      <td>NaN</td>\n",
       "      <td>NaN</td>\n",
       "      <td>NaN</td>\n",
       "      <td>NaN</td>\n",
       "      <td>NaN</td>\n",
       "    </tr>\n",
       "    <tr>\n",
       "      <th>4</th>\n",
       "      <td>aachen</td>\n",
       "      <td>1.0</td>\n",
       "      <td>NaN</td>\n",
       "      <td>17.0</td>\n",
       "      <td>12.0</td>\n",
       "      <td>1.0</td>\n",
       "      <td>5.0</td>\n",
       "      <td>2.0</td>\n",
       "      <td>1</td>\n",
       "      <td>2.0</td>\n",
       "      <td>...</td>\n",
       "      <td>NaN</td>\n",
       "      <td>NaN</td>\n",
       "      <td>NaN</td>\n",
       "      <td>NaN</td>\n",
       "      <td>NaN</td>\n",
       "      <td>NaN</td>\n",
       "      <td>NaN</td>\n",
       "      <td>NaN</td>\n",
       "      <td>NaN</td>\n",
       "      <td>NaN</td>\n",
       "    </tr>\n",
       "    <tr>\n",
       "      <th>...</th>\n",
       "      <td>...</td>\n",
       "      <td>...</td>\n",
       "      <td>...</td>\n",
       "      <td>...</td>\n",
       "      <td>...</td>\n",
       "      <td>...</td>\n",
       "      <td>...</td>\n",
       "      <td>...</td>\n",
       "      <td>...</td>\n",
       "      <td>...</td>\n",
       "      <td>...</td>\n",
       "      <td>...</td>\n",
       "      <td>...</td>\n",
       "      <td>...</td>\n",
       "      <td>...</td>\n",
       "      <td>...</td>\n",
       "      <td>...</td>\n",
       "      <td>...</td>\n",
       "      <td>...</td>\n",
       "      <td>...</td>\n",
       "      <td>...</td>\n",
       "    </tr>\n",
       "    <tr>\n",
       "      <th>3470</th>\n",
       "      <td>munster</td>\n",
       "      <td>NaN</td>\n",
       "      <td>2.0</td>\n",
       "      <td>13.0</td>\n",
       "      <td>2.0</td>\n",
       "      <td>1.0</td>\n",
       "      <td>4.0</td>\n",
       "      <td>12.0</td>\n",
       "      <td>1</td>\n",
       "      <td>3.0</td>\n",
       "      <td>...</td>\n",
       "      <td>NaN</td>\n",
       "      <td>NaN</td>\n",
       "      <td>1.0</td>\n",
       "      <td>NaN</td>\n",
       "      <td>NaN</td>\n",
       "      <td>NaN</td>\n",
       "      <td>NaN</td>\n",
       "      <td>NaN</td>\n",
       "      <td>NaN</td>\n",
       "      <td>NaN</td>\n",
       "    </tr>\n",
       "    <tr>\n",
       "      <th>3471</th>\n",
       "      <td>munster</td>\n",
       "      <td>NaN</td>\n",
       "      <td>2.0</td>\n",
       "      <td>13.0</td>\n",
       "      <td>NaN</td>\n",
       "      <td>1.0</td>\n",
       "      <td>NaN</td>\n",
       "      <td>10.0</td>\n",
       "      <td>1</td>\n",
       "      <td>1.0</td>\n",
       "      <td>...</td>\n",
       "      <td>NaN</td>\n",
       "      <td>NaN</td>\n",
       "      <td>NaN</td>\n",
       "      <td>NaN</td>\n",
       "      <td>NaN</td>\n",
       "      <td>NaN</td>\n",
       "      <td>NaN</td>\n",
       "      <td>NaN</td>\n",
       "      <td>NaN</td>\n",
       "      <td>NaN</td>\n",
       "    </tr>\n",
       "    <tr>\n",
       "      <th>3472</th>\n",
       "      <td>munster</td>\n",
       "      <td>2.0</td>\n",
       "      <td>2.0</td>\n",
       "      <td>3.0</td>\n",
       "      <td>NaN</td>\n",
       "      <td>1.0</td>\n",
       "      <td>2.0</td>\n",
       "      <td>6.0</td>\n",
       "      <td>1</td>\n",
       "      <td>1.0</td>\n",
       "      <td>...</td>\n",
       "      <td>NaN</td>\n",
       "      <td>1.0</td>\n",
       "      <td>1.0</td>\n",
       "      <td>NaN</td>\n",
       "      <td>NaN</td>\n",
       "      <td>NaN</td>\n",
       "      <td>NaN</td>\n",
       "      <td>NaN</td>\n",
       "      <td>NaN</td>\n",
       "      <td>NaN</td>\n",
       "    </tr>\n",
       "    <tr>\n",
       "      <th>3473</th>\n",
       "      <td>munster</td>\n",
       "      <td>3.0</td>\n",
       "      <td>NaN</td>\n",
       "      <td>4.0</td>\n",
       "      <td>3.0</td>\n",
       "      <td>1.0</td>\n",
       "      <td>2.0</td>\n",
       "      <td>7.0</td>\n",
       "      <td>1</td>\n",
       "      <td>3.0</td>\n",
       "      <td>...</td>\n",
       "      <td>NaN</td>\n",
       "      <td>NaN</td>\n",
       "      <td>NaN</td>\n",
       "      <td>NaN</td>\n",
       "      <td>NaN</td>\n",
       "      <td>NaN</td>\n",
       "      <td>NaN</td>\n",
       "      <td>NaN</td>\n",
       "      <td>NaN</td>\n",
       "      <td>NaN</td>\n",
       "    </tr>\n",
       "    <tr>\n",
       "      <th>3474</th>\n",
       "      <td>munster</td>\n",
       "      <td>NaN</td>\n",
       "      <td>NaN</td>\n",
       "      <td>1.0</td>\n",
       "      <td>1.0</td>\n",
       "      <td>1.0</td>\n",
       "      <td>NaN</td>\n",
       "      <td>6.0</td>\n",
       "      <td>1</td>\n",
       "      <td>4.0</td>\n",
       "      <td>...</td>\n",
       "      <td>NaN</td>\n",
       "      <td>NaN</td>\n",
       "      <td>NaN</td>\n",
       "      <td>NaN</td>\n",
       "      <td>NaN</td>\n",
       "      <td>NaN</td>\n",
       "      <td>NaN</td>\n",
       "      <td>NaN</td>\n",
       "      <td>NaN</td>\n",
       "      <td>NaN</td>\n",
       "    </tr>\n",
       "  </tbody>\n",
       "</table>\n",
       "<p>3475 rows × 41 columns</p>\n",
       "</div>"
      ],
      "text/plain": [
       "         city  terrain  rider  traffic sign  license plate  road  sidewalk  \\\n",
       "0      aachen      4.0    1.0          11.0            3.0   1.0       2.0   \n",
       "1      aachen     11.0    NaN          12.0            7.0   2.0       5.0   \n",
       "2      aachen      3.0    NaN          23.0            4.0   1.0       2.0   \n",
       "3      aachen      2.0    NaN           8.0            5.0   1.0       3.0   \n",
       "4      aachen      1.0    NaN          17.0           12.0   1.0       5.0   \n",
       "...       ...      ...    ...           ...            ...   ...       ...   \n",
       "3470  munster      NaN    2.0          13.0            2.0   1.0       4.0   \n",
       "3471  munster      NaN    2.0          13.0            NaN   1.0       NaN   \n",
       "3472  munster      2.0    2.0           3.0            NaN   1.0       2.0   \n",
       "3473  munster      3.0    NaN           4.0            3.0   1.0       2.0   \n",
       "3474  munster      NaN    NaN           1.0            1.0   1.0       NaN   \n",
       "\n",
       "      vegetation  out of roi  building  ...  tunnel  caravan  truck  \\\n",
       "0            5.0           1       2.0  ...     NaN      NaN    NaN   \n",
       "1           10.0           1       2.0  ...     NaN      NaN    NaN   \n",
       "2            1.0           1       3.0  ...     NaN      NaN    NaN   \n",
       "3            NaN           1       2.0  ...     NaN      NaN    NaN   \n",
       "4            2.0           1       2.0  ...     NaN      NaN    NaN   \n",
       "...          ...         ...       ...  ...     ...      ...    ...   \n",
       "3470        12.0           1       3.0  ...     NaN      NaN    1.0   \n",
       "3471        10.0           1       1.0  ...     NaN      NaN    NaN   \n",
       "3472         6.0           1       1.0  ...     NaN      1.0    1.0   \n",
       "3473         7.0           1       3.0  ...     NaN      NaN    NaN   \n",
       "3474         6.0           1       4.0  ...     NaN      NaN    NaN   \n",
       "\n",
       "      guard rail  rectification border  rail track  train  motorcyclegroup  \\\n",
       "0            NaN                   NaN         NaN    NaN              NaN   \n",
       "1            NaN                   NaN         NaN    NaN              NaN   \n",
       "2            NaN                   NaN         NaN    NaN              NaN   \n",
       "3            NaN                   NaN         NaN    NaN              NaN   \n",
       "4            NaN                   NaN         NaN    NaN              NaN   \n",
       "...          ...                   ...         ...    ...              ...   \n",
       "3470         NaN                   NaN         NaN    NaN              NaN   \n",
       "3471         NaN                   NaN         NaN    NaN              NaN   \n",
       "3472         NaN                   NaN         NaN    NaN              NaN   \n",
       "3473         NaN                   NaN         NaN    NaN              NaN   \n",
       "3474         NaN                   NaN         NaN    NaN              NaN   \n",
       "\n",
       "      ridergroup  truckgroup  \n",
       "0            NaN         NaN  \n",
       "1            NaN         NaN  \n",
       "2            NaN         NaN  \n",
       "3            NaN         NaN  \n",
       "4            NaN         NaN  \n",
       "...          ...         ...  \n",
       "3470         NaN         NaN  \n",
       "3471         NaN         NaN  \n",
       "3472         NaN         NaN  \n",
       "3473         NaN         NaN  \n",
       "3474         NaN         NaN  \n",
       "\n",
       "[3475 rows x 41 columns]"
      ]
     },
     "execution_count": 2,
     "metadata": {},
     "output_type": "execute_result"
    }
   ],
   "source": [
    "df_count = pd.read_csv('output/labels_count.csv')\n",
    "df_count"
   ]
  },
  {
   "attachments": {},
   "cell_type": "markdown",
   "metadata": {},
   "source": [
    "There are 41 columns, including the first one that represents the city. So in total there are 40 labels in the cityscapes dataset. There are 3475 rows which is the correct number of images when counting both the train and val set. We did not include the test set because the json files for every images all contains the two same labels."
   ]
  },
  {
   "attachments": {},
   "cell_type": "markdown",
   "metadata": {},
   "source": [
    "We load the result of the script file that generates the dictionary of polygons for each city. The polygons variable contains for keys each city, and for value a dictionary with the pair : (label : list[polygon])."
   ]
  },
  {
   "cell_type": "code",
   "execution_count": 3,
   "metadata": {},
   "outputs": [
    {
     "name": "stdout",
     "output_type": "stream",
     "text": [
      "21\n"
     ]
    }
   ],
   "source": [
    "with open('output/polygons.json', 'r') as f:\n",
    "        polygons = json.load(f)\n",
    "print(len(polygons))"
   ]
  },
  {
   "attachments": {},
   "cell_type": "markdown",
   "metadata": {},
   "source": [
    "Finally, we load the the result of the fractal dimension computed on every image in a pandas dataframe."
   ]
  },
  {
   "cell_type": "code",
   "execution_count": 4,
   "metadata": {},
   "outputs": [
    {
     "data": {
      "text/html": [
       "<div>\n",
       "<style scoped>\n",
       "    .dataframe tbody tr th:only-of-type {\n",
       "        vertical-align: middle;\n",
       "    }\n",
       "\n",
       "    .dataframe tbody tr th {\n",
       "        vertical-align: top;\n",
       "    }\n",
       "\n",
       "    .dataframe thead th {\n",
       "        text-align: right;\n",
       "    }\n",
       "</style>\n",
       "<table border=\"1\" class=\"dataframe\">\n",
       "  <thead>\n",
       "    <tr style=\"text-align: right;\">\n",
       "      <th></th>\n",
       "      <th>aachen</th>\n",
       "      <th>bochum</th>\n",
       "      <th>bremen</th>\n",
       "      <th>cologne</th>\n",
       "      <th>darmstadt</th>\n",
       "      <th>dusseldorf</th>\n",
       "      <th>erfurt</th>\n",
       "      <th>hamburg</th>\n",
       "      <th>hanover</th>\n",
       "      <th>jena</th>\n",
       "      <th>...</th>\n",
       "      <th>monchengladbach</th>\n",
       "      <th>strasbourg</th>\n",
       "      <th>stuttgart</th>\n",
       "      <th>tubingen</th>\n",
       "      <th>ulm</th>\n",
       "      <th>weimar</th>\n",
       "      <th>zurich</th>\n",
       "      <th>frankfurt</th>\n",
       "      <th>lindau</th>\n",
       "      <th>munster</th>\n",
       "    </tr>\n",
       "  </thead>\n",
       "  <tbody>\n",
       "    <tr>\n",
       "      <th>0</th>\n",
       "      <td>1.503190</td>\n",
       "      <td>1.439892</td>\n",
       "      <td>1.425333</td>\n",
       "      <td>1.468033</td>\n",
       "      <td>1.456130</td>\n",
       "      <td>1.482640</td>\n",
       "      <td>1.521018</td>\n",
       "      <td>1.476419</td>\n",
       "      <td>1.485502</td>\n",
       "      <td>1.440682</td>\n",
       "      <td>...</td>\n",
       "      <td>1.434097</td>\n",
       "      <td>1.386579</td>\n",
       "      <td>1.341539</td>\n",
       "      <td>1.431206</td>\n",
       "      <td>1.426222</td>\n",
       "      <td>1.451299</td>\n",
       "      <td>1.440883</td>\n",
       "      <td>1.427549</td>\n",
       "      <td>1.441166</td>\n",
       "      <td>1.505937</td>\n",
       "    </tr>\n",
       "    <tr>\n",
       "      <th>1</th>\n",
       "      <td>1.553607</td>\n",
       "      <td>1.504202</td>\n",
       "      <td>1.430865</td>\n",
       "      <td>1.483367</td>\n",
       "      <td>1.471420</td>\n",
       "      <td>1.440586</td>\n",
       "      <td>1.465619</td>\n",
       "      <td>1.438964</td>\n",
       "      <td>1.416276</td>\n",
       "      <td>1.395833</td>\n",
       "      <td>...</td>\n",
       "      <td>1.463940</td>\n",
       "      <td>1.426501</td>\n",
       "      <td>1.440909</td>\n",
       "      <td>1.463861</td>\n",
       "      <td>1.467051</td>\n",
       "      <td>1.428250</td>\n",
       "      <td>1.490816</td>\n",
       "      <td>1.428088</td>\n",
       "      <td>1.302303</td>\n",
       "      <td>1.340061</td>\n",
       "    </tr>\n",
       "    <tr>\n",
       "      <th>2</th>\n",
       "      <td>1.420985</td>\n",
       "      <td>1.529835</td>\n",
       "      <td>1.411693</td>\n",
       "      <td>1.534521</td>\n",
       "      <td>1.455243</td>\n",
       "      <td>1.464034</td>\n",
       "      <td>1.450505</td>\n",
       "      <td>1.445989</td>\n",
       "      <td>1.426790</td>\n",
       "      <td>1.381436</td>\n",
       "      <td>...</td>\n",
       "      <td>1.408100</td>\n",
       "      <td>1.535084</td>\n",
       "      <td>1.486054</td>\n",
       "      <td>1.456409</td>\n",
       "      <td>1.403988</td>\n",
       "      <td>1.517585</td>\n",
       "      <td>1.492964</td>\n",
       "      <td>1.385860</td>\n",
       "      <td>1.356119</td>\n",
       "      <td>1.431308</td>\n",
       "    </tr>\n",
       "    <tr>\n",
       "      <th>3</th>\n",
       "      <td>1.362957</td>\n",
       "      <td>1.474775</td>\n",
       "      <td>1.392128</td>\n",
       "      <td>1.452649</td>\n",
       "      <td>1.516335</td>\n",
       "      <td>1.421237</td>\n",
       "      <td>1.391246</td>\n",
       "      <td>1.438967</td>\n",
       "      <td>1.409663</td>\n",
       "      <td>1.455051</td>\n",
       "      <td>...</td>\n",
       "      <td>1.460127</td>\n",
       "      <td>1.452942</td>\n",
       "      <td>1.445386</td>\n",
       "      <td>1.435384</td>\n",
       "      <td>1.399792</td>\n",
       "      <td>1.400279</td>\n",
       "      <td>1.496337</td>\n",
       "      <td>1.438129</td>\n",
       "      <td>1.455777</td>\n",
       "      <td>1.443150</td>\n",
       "    </tr>\n",
       "    <tr>\n",
       "      <th>4</th>\n",
       "      <td>1.473698</td>\n",
       "      <td>1.492498</td>\n",
       "      <td>1.429864</td>\n",
       "      <td>1.383958</td>\n",
       "      <td>1.430695</td>\n",
       "      <td>1.482503</td>\n",
       "      <td>1.380910</td>\n",
       "      <td>1.507570</td>\n",
       "      <td>1.423982</td>\n",
       "      <td>1.454675</td>\n",
       "      <td>...</td>\n",
       "      <td>1.445340</td>\n",
       "      <td>1.543118</td>\n",
       "      <td>1.482302</td>\n",
       "      <td>1.498715</td>\n",
       "      <td>1.372406</td>\n",
       "      <td>1.443019</td>\n",
       "      <td>1.389052</td>\n",
       "      <td>1.434703</td>\n",
       "      <td>1.464303</td>\n",
       "      <td>1.462725</td>\n",
       "    </tr>\n",
       "    <tr>\n",
       "      <th>...</th>\n",
       "      <td>...</td>\n",
       "      <td>...</td>\n",
       "      <td>...</td>\n",
       "      <td>...</td>\n",
       "      <td>...</td>\n",
       "      <td>...</td>\n",
       "      <td>...</td>\n",
       "      <td>...</td>\n",
       "      <td>...</td>\n",
       "      <td>...</td>\n",
       "      <td>...</td>\n",
       "      <td>...</td>\n",
       "      <td>...</td>\n",
       "      <td>...</td>\n",
       "      <td>...</td>\n",
       "      <td>...</td>\n",
       "      <td>...</td>\n",
       "      <td>...</td>\n",
       "      <td>...</td>\n",
       "      <td>...</td>\n",
       "      <td>...</td>\n",
       "    </tr>\n",
       "    <tr>\n",
       "      <th>360</th>\n",
       "      <td>NaN</td>\n",
       "      <td>NaN</td>\n",
       "      <td>NaN</td>\n",
       "      <td>NaN</td>\n",
       "      <td>NaN</td>\n",
       "      <td>NaN</td>\n",
       "      <td>NaN</td>\n",
       "      <td>NaN</td>\n",
       "      <td>NaN</td>\n",
       "      <td>NaN</td>\n",
       "      <td>...</td>\n",
       "      <td>NaN</td>\n",
       "      <td>1.498522</td>\n",
       "      <td>NaN</td>\n",
       "      <td>NaN</td>\n",
       "      <td>NaN</td>\n",
       "      <td>NaN</td>\n",
       "      <td>NaN</td>\n",
       "      <td>NaN</td>\n",
       "      <td>NaN</td>\n",
       "      <td>NaN</td>\n",
       "    </tr>\n",
       "    <tr>\n",
       "      <th>361</th>\n",
       "      <td>NaN</td>\n",
       "      <td>NaN</td>\n",
       "      <td>NaN</td>\n",
       "      <td>NaN</td>\n",
       "      <td>NaN</td>\n",
       "      <td>NaN</td>\n",
       "      <td>NaN</td>\n",
       "      <td>NaN</td>\n",
       "      <td>NaN</td>\n",
       "      <td>NaN</td>\n",
       "      <td>...</td>\n",
       "      <td>NaN</td>\n",
       "      <td>1.517367</td>\n",
       "      <td>NaN</td>\n",
       "      <td>NaN</td>\n",
       "      <td>NaN</td>\n",
       "      <td>NaN</td>\n",
       "      <td>NaN</td>\n",
       "      <td>NaN</td>\n",
       "      <td>NaN</td>\n",
       "      <td>NaN</td>\n",
       "    </tr>\n",
       "    <tr>\n",
       "      <th>362</th>\n",
       "      <td>NaN</td>\n",
       "      <td>NaN</td>\n",
       "      <td>NaN</td>\n",
       "      <td>NaN</td>\n",
       "      <td>NaN</td>\n",
       "      <td>NaN</td>\n",
       "      <td>NaN</td>\n",
       "      <td>NaN</td>\n",
       "      <td>NaN</td>\n",
       "      <td>NaN</td>\n",
       "      <td>...</td>\n",
       "      <td>NaN</td>\n",
       "      <td>1.478750</td>\n",
       "      <td>NaN</td>\n",
       "      <td>NaN</td>\n",
       "      <td>NaN</td>\n",
       "      <td>NaN</td>\n",
       "      <td>NaN</td>\n",
       "      <td>NaN</td>\n",
       "      <td>NaN</td>\n",
       "      <td>NaN</td>\n",
       "    </tr>\n",
       "    <tr>\n",
       "      <th>363</th>\n",
       "      <td>NaN</td>\n",
       "      <td>NaN</td>\n",
       "      <td>NaN</td>\n",
       "      <td>NaN</td>\n",
       "      <td>NaN</td>\n",
       "      <td>NaN</td>\n",
       "      <td>NaN</td>\n",
       "      <td>NaN</td>\n",
       "      <td>NaN</td>\n",
       "      <td>NaN</td>\n",
       "      <td>...</td>\n",
       "      <td>NaN</td>\n",
       "      <td>1.423125</td>\n",
       "      <td>NaN</td>\n",
       "      <td>NaN</td>\n",
       "      <td>NaN</td>\n",
       "      <td>NaN</td>\n",
       "      <td>NaN</td>\n",
       "      <td>NaN</td>\n",
       "      <td>NaN</td>\n",
       "      <td>NaN</td>\n",
       "    </tr>\n",
       "    <tr>\n",
       "      <th>364</th>\n",
       "      <td>NaN</td>\n",
       "      <td>NaN</td>\n",
       "      <td>NaN</td>\n",
       "      <td>NaN</td>\n",
       "      <td>NaN</td>\n",
       "      <td>NaN</td>\n",
       "      <td>NaN</td>\n",
       "      <td>NaN</td>\n",
       "      <td>NaN</td>\n",
       "      <td>NaN</td>\n",
       "      <td>...</td>\n",
       "      <td>NaN</td>\n",
       "      <td>1.404361</td>\n",
       "      <td>NaN</td>\n",
       "      <td>NaN</td>\n",
       "      <td>NaN</td>\n",
       "      <td>NaN</td>\n",
       "      <td>NaN</td>\n",
       "      <td>NaN</td>\n",
       "      <td>NaN</td>\n",
       "      <td>NaN</td>\n",
       "    </tr>\n",
       "  </tbody>\n",
       "</table>\n",
       "<p>365 rows × 21 columns</p>\n",
       "</div>"
      ],
      "text/plain": [
       "       aachen    bochum    bremen   cologne  darmstadt  dusseldorf    erfurt  \\\n",
       "0    1.503190  1.439892  1.425333  1.468033   1.456130    1.482640  1.521018   \n",
       "1    1.553607  1.504202  1.430865  1.483367   1.471420    1.440586  1.465619   \n",
       "2    1.420985  1.529835  1.411693  1.534521   1.455243    1.464034  1.450505   \n",
       "3    1.362957  1.474775  1.392128  1.452649   1.516335    1.421237  1.391246   \n",
       "4    1.473698  1.492498  1.429864  1.383958   1.430695    1.482503  1.380910   \n",
       "..        ...       ...       ...       ...        ...         ...       ...   \n",
       "360       NaN       NaN       NaN       NaN        NaN         NaN       NaN   \n",
       "361       NaN       NaN       NaN       NaN        NaN         NaN       NaN   \n",
       "362       NaN       NaN       NaN       NaN        NaN         NaN       NaN   \n",
       "363       NaN       NaN       NaN       NaN        NaN         NaN       NaN   \n",
       "364       NaN       NaN       NaN       NaN        NaN         NaN       NaN   \n",
       "\n",
       "      hamburg   hanover      jena  ...  monchengladbach  strasbourg  \\\n",
       "0    1.476419  1.485502  1.440682  ...         1.434097    1.386579   \n",
       "1    1.438964  1.416276  1.395833  ...         1.463940    1.426501   \n",
       "2    1.445989  1.426790  1.381436  ...         1.408100    1.535084   \n",
       "3    1.438967  1.409663  1.455051  ...         1.460127    1.452942   \n",
       "4    1.507570  1.423982  1.454675  ...         1.445340    1.543118   \n",
       "..        ...       ...       ...  ...              ...         ...   \n",
       "360       NaN       NaN       NaN  ...              NaN    1.498522   \n",
       "361       NaN       NaN       NaN  ...              NaN    1.517367   \n",
       "362       NaN       NaN       NaN  ...              NaN    1.478750   \n",
       "363       NaN       NaN       NaN  ...              NaN    1.423125   \n",
       "364       NaN       NaN       NaN  ...              NaN    1.404361   \n",
       "\n",
       "     stuttgart  tubingen       ulm    weimar    zurich  frankfurt    lindau  \\\n",
       "0     1.341539  1.431206  1.426222  1.451299  1.440883   1.427549  1.441166   \n",
       "1     1.440909  1.463861  1.467051  1.428250  1.490816   1.428088  1.302303   \n",
       "2     1.486054  1.456409  1.403988  1.517585  1.492964   1.385860  1.356119   \n",
       "3     1.445386  1.435384  1.399792  1.400279  1.496337   1.438129  1.455777   \n",
       "4     1.482302  1.498715  1.372406  1.443019  1.389052   1.434703  1.464303   \n",
       "..         ...       ...       ...       ...       ...        ...       ...   \n",
       "360        NaN       NaN       NaN       NaN       NaN        NaN       NaN   \n",
       "361        NaN       NaN       NaN       NaN       NaN        NaN       NaN   \n",
       "362        NaN       NaN       NaN       NaN       NaN        NaN       NaN   \n",
       "363        NaN       NaN       NaN       NaN       NaN        NaN       NaN   \n",
       "364        NaN       NaN       NaN       NaN       NaN        NaN       NaN   \n",
       "\n",
       "      munster  \n",
       "0    1.505937  \n",
       "1    1.340061  \n",
       "2    1.431308  \n",
       "3    1.443150  \n",
       "4    1.462725  \n",
       "..        ...  \n",
       "360       NaN  \n",
       "361       NaN  \n",
       "362       NaN  \n",
       "363       NaN  \n",
       "364       NaN  \n",
       "\n",
       "[365 rows x 21 columns]"
      ]
     },
     "execution_count": 4,
     "metadata": {},
     "output_type": "execute_result"
    }
   ],
   "source": [
    "df_fractal = pd.read_csv('output/fractal_dimension.csv')\n",
    "df_fractal"
   ]
  },
  {
   "attachments": {},
   "cell_type": "markdown",
   "metadata": {},
   "source": [
    "## Labels Distribution"
   ]
  },
  {
   "cell_type": "code",
   "execution_count": 4,
   "metadata": {},
   "outputs": [
    {
     "data": {
      "application/vnd.plotly.v1+json": {
       "config": {
        "plotlyServerURL": "https://plot.ly"
       },
       "data": [
        {
         "alignmentgroup": "True",
         "hovertemplate": "variable=0<br>Label=%{x}<br>Count=%{y}<extra></extra>",
         "legendgroup": "0",
         "marker": {
          "color": "#636efa",
          "pattern": {
           "shape": ""
          }
         },
         "name": "0",
         "offsetgroup": "0",
         "orientation": "v",
         "showlegend": true,
         "textposition": "auto",
         "texttemplate": "%{y}",
         "type": "bar",
         "x": [
          "bicycle",
          "bicyclegroup",
          "bridge",
          "building",
          "bus",
          "car",
          "caravan",
          "cargroup",
          "dynamic",
          "ego vehicle",
          "fence",
          "ground",
          "guard rail",
          "license plate",
          "motorcycle",
          "motorcyclegroup",
          "out of roi",
          "parking",
          "person",
          "persongroup",
          "pole",
          "polegroup",
          "rail track",
          "rectification border",
          "rider",
          "ridergroup",
          "road",
          "sidewalk",
          "sky",
          "static",
          "terrain",
          "traffic light",
          "traffic sign",
          "trailer",
          "train",
          "truck",
          "truckgroup",
          "tunnel",
          "vegetation",
          "wall"
         ],
         "xaxis": "x",
         "y": [
          4904,
          1049,
          414,
          8301,
          483,
          31822,
          69,
          2055,
          4253,
          3475,
          2839,
          2151,
          80,
          6289,
          888,
          9,
          3475,
          1216,
          21413,
          1069,
          52748,
          364,
          131,
          5460,
          2363,
          13,
          3616,
          8349,
          3421,
          47217,
          5070,
          11898,
          24976,
          89,
          194,
          582,
          1,
          29,
          17745,
          1979
         ],
         "yaxis": "y"
        }
       ],
       "layout": {
        "barmode": "relative",
        "legend": {
         "title": {
          "text": "variable"
         },
         "tracegroupgap": 0
        },
        "showlegend": false,
        "template": {
         "data": {
          "bar": [
           {
            "error_x": {
             "color": "#2a3f5f"
            },
            "error_y": {
             "color": "#2a3f5f"
            },
            "marker": {
             "line": {
              "color": "#E5ECF6",
              "width": 0.5
             },
             "pattern": {
              "fillmode": "overlay",
              "size": 10,
              "solidity": 0.2
             }
            },
            "type": "bar"
           }
          ],
          "barpolar": [
           {
            "marker": {
             "line": {
              "color": "#E5ECF6",
              "width": 0.5
             },
             "pattern": {
              "fillmode": "overlay",
              "size": 10,
              "solidity": 0.2
             }
            },
            "type": "barpolar"
           }
          ],
          "carpet": [
           {
            "aaxis": {
             "endlinecolor": "#2a3f5f",
             "gridcolor": "white",
             "linecolor": "white",
             "minorgridcolor": "white",
             "startlinecolor": "#2a3f5f"
            },
            "baxis": {
             "endlinecolor": "#2a3f5f",
             "gridcolor": "white",
             "linecolor": "white",
             "minorgridcolor": "white",
             "startlinecolor": "#2a3f5f"
            },
            "type": "carpet"
           }
          ],
          "choropleth": [
           {
            "colorbar": {
             "outlinewidth": 0,
             "ticks": ""
            },
            "type": "choropleth"
           }
          ],
          "contour": [
           {
            "colorbar": {
             "outlinewidth": 0,
             "ticks": ""
            },
            "colorscale": [
             [
              0,
              "#0d0887"
             ],
             [
              0.1111111111111111,
              "#46039f"
             ],
             [
              0.2222222222222222,
              "#7201a8"
             ],
             [
              0.3333333333333333,
              "#9c179e"
             ],
             [
              0.4444444444444444,
              "#bd3786"
             ],
             [
              0.5555555555555556,
              "#d8576b"
             ],
             [
              0.6666666666666666,
              "#ed7953"
             ],
             [
              0.7777777777777778,
              "#fb9f3a"
             ],
             [
              0.8888888888888888,
              "#fdca26"
             ],
             [
              1,
              "#f0f921"
             ]
            ],
            "type": "contour"
           }
          ],
          "contourcarpet": [
           {
            "colorbar": {
             "outlinewidth": 0,
             "ticks": ""
            },
            "type": "contourcarpet"
           }
          ],
          "heatmap": [
           {
            "colorbar": {
             "outlinewidth": 0,
             "ticks": ""
            },
            "colorscale": [
             [
              0,
              "#0d0887"
             ],
             [
              0.1111111111111111,
              "#46039f"
             ],
             [
              0.2222222222222222,
              "#7201a8"
             ],
             [
              0.3333333333333333,
              "#9c179e"
             ],
             [
              0.4444444444444444,
              "#bd3786"
             ],
             [
              0.5555555555555556,
              "#d8576b"
             ],
             [
              0.6666666666666666,
              "#ed7953"
             ],
             [
              0.7777777777777778,
              "#fb9f3a"
             ],
             [
              0.8888888888888888,
              "#fdca26"
             ],
             [
              1,
              "#f0f921"
             ]
            ],
            "type": "heatmap"
           }
          ],
          "heatmapgl": [
           {
            "colorbar": {
             "outlinewidth": 0,
             "ticks": ""
            },
            "colorscale": [
             [
              0,
              "#0d0887"
             ],
             [
              0.1111111111111111,
              "#46039f"
             ],
             [
              0.2222222222222222,
              "#7201a8"
             ],
             [
              0.3333333333333333,
              "#9c179e"
             ],
             [
              0.4444444444444444,
              "#bd3786"
             ],
             [
              0.5555555555555556,
              "#d8576b"
             ],
             [
              0.6666666666666666,
              "#ed7953"
             ],
             [
              0.7777777777777778,
              "#fb9f3a"
             ],
             [
              0.8888888888888888,
              "#fdca26"
             ],
             [
              1,
              "#f0f921"
             ]
            ],
            "type": "heatmapgl"
           }
          ],
          "histogram": [
           {
            "marker": {
             "pattern": {
              "fillmode": "overlay",
              "size": 10,
              "solidity": 0.2
             }
            },
            "type": "histogram"
           }
          ],
          "histogram2d": [
           {
            "colorbar": {
             "outlinewidth": 0,
             "ticks": ""
            },
            "colorscale": [
             [
              0,
              "#0d0887"
             ],
             [
              0.1111111111111111,
              "#46039f"
             ],
             [
              0.2222222222222222,
              "#7201a8"
             ],
             [
              0.3333333333333333,
              "#9c179e"
             ],
             [
              0.4444444444444444,
              "#bd3786"
             ],
             [
              0.5555555555555556,
              "#d8576b"
             ],
             [
              0.6666666666666666,
              "#ed7953"
             ],
             [
              0.7777777777777778,
              "#fb9f3a"
             ],
             [
              0.8888888888888888,
              "#fdca26"
             ],
             [
              1,
              "#f0f921"
             ]
            ],
            "type": "histogram2d"
           }
          ],
          "histogram2dcontour": [
           {
            "colorbar": {
             "outlinewidth": 0,
             "ticks": ""
            },
            "colorscale": [
             [
              0,
              "#0d0887"
             ],
             [
              0.1111111111111111,
              "#46039f"
             ],
             [
              0.2222222222222222,
              "#7201a8"
             ],
             [
              0.3333333333333333,
              "#9c179e"
             ],
             [
              0.4444444444444444,
              "#bd3786"
             ],
             [
              0.5555555555555556,
              "#d8576b"
             ],
             [
              0.6666666666666666,
              "#ed7953"
             ],
             [
              0.7777777777777778,
              "#fb9f3a"
             ],
             [
              0.8888888888888888,
              "#fdca26"
             ],
             [
              1,
              "#f0f921"
             ]
            ],
            "type": "histogram2dcontour"
           }
          ],
          "mesh3d": [
           {
            "colorbar": {
             "outlinewidth": 0,
             "ticks": ""
            },
            "type": "mesh3d"
           }
          ],
          "parcoords": [
           {
            "line": {
             "colorbar": {
              "outlinewidth": 0,
              "ticks": ""
             }
            },
            "type": "parcoords"
           }
          ],
          "pie": [
           {
            "automargin": true,
            "type": "pie"
           }
          ],
          "scatter": [
           {
            "fillpattern": {
             "fillmode": "overlay",
             "size": 10,
             "solidity": 0.2
            },
            "type": "scatter"
           }
          ],
          "scatter3d": [
           {
            "line": {
             "colorbar": {
              "outlinewidth": 0,
              "ticks": ""
             }
            },
            "marker": {
             "colorbar": {
              "outlinewidth": 0,
              "ticks": ""
             }
            },
            "type": "scatter3d"
           }
          ],
          "scattercarpet": [
           {
            "marker": {
             "colorbar": {
              "outlinewidth": 0,
              "ticks": ""
             }
            },
            "type": "scattercarpet"
           }
          ],
          "scattergeo": [
           {
            "marker": {
             "colorbar": {
              "outlinewidth": 0,
              "ticks": ""
             }
            },
            "type": "scattergeo"
           }
          ],
          "scattergl": [
           {
            "marker": {
             "colorbar": {
              "outlinewidth": 0,
              "ticks": ""
             }
            },
            "type": "scattergl"
           }
          ],
          "scattermapbox": [
           {
            "marker": {
             "colorbar": {
              "outlinewidth": 0,
              "ticks": ""
             }
            },
            "type": "scattermapbox"
           }
          ],
          "scatterpolar": [
           {
            "marker": {
             "colorbar": {
              "outlinewidth": 0,
              "ticks": ""
             }
            },
            "type": "scatterpolar"
           }
          ],
          "scatterpolargl": [
           {
            "marker": {
             "colorbar": {
              "outlinewidth": 0,
              "ticks": ""
             }
            },
            "type": "scatterpolargl"
           }
          ],
          "scatterternary": [
           {
            "marker": {
             "colorbar": {
              "outlinewidth": 0,
              "ticks": ""
             }
            },
            "type": "scatterternary"
           }
          ],
          "surface": [
           {
            "colorbar": {
             "outlinewidth": 0,
             "ticks": ""
            },
            "colorscale": [
             [
              0,
              "#0d0887"
             ],
             [
              0.1111111111111111,
              "#46039f"
             ],
             [
              0.2222222222222222,
              "#7201a8"
             ],
             [
              0.3333333333333333,
              "#9c179e"
             ],
             [
              0.4444444444444444,
              "#bd3786"
             ],
             [
              0.5555555555555556,
              "#d8576b"
             ],
             [
              0.6666666666666666,
              "#ed7953"
             ],
             [
              0.7777777777777778,
              "#fb9f3a"
             ],
             [
              0.8888888888888888,
              "#fdca26"
             ],
             [
              1,
              "#f0f921"
             ]
            ],
            "type": "surface"
           }
          ],
          "table": [
           {
            "cells": {
             "fill": {
              "color": "#EBF0F8"
             },
             "line": {
              "color": "white"
             }
            },
            "header": {
             "fill": {
              "color": "#C8D4E3"
             },
             "line": {
              "color": "white"
             }
            },
            "type": "table"
           }
          ]
         },
         "layout": {
          "annotationdefaults": {
           "arrowcolor": "#2a3f5f",
           "arrowhead": 0,
           "arrowwidth": 1
          },
          "autotypenumbers": "strict",
          "coloraxis": {
           "colorbar": {
            "outlinewidth": 0,
            "ticks": ""
           }
          },
          "colorscale": {
           "diverging": [
            [
             0,
             "#8e0152"
            ],
            [
             0.1,
             "#c51b7d"
            ],
            [
             0.2,
             "#de77ae"
            ],
            [
             0.3,
             "#f1b6da"
            ],
            [
             0.4,
             "#fde0ef"
            ],
            [
             0.5,
             "#f7f7f7"
            ],
            [
             0.6,
             "#e6f5d0"
            ],
            [
             0.7,
             "#b8e186"
            ],
            [
             0.8,
             "#7fbc41"
            ],
            [
             0.9,
             "#4d9221"
            ],
            [
             1,
             "#276419"
            ]
           ],
           "sequential": [
            [
             0,
             "#0d0887"
            ],
            [
             0.1111111111111111,
             "#46039f"
            ],
            [
             0.2222222222222222,
             "#7201a8"
            ],
            [
             0.3333333333333333,
             "#9c179e"
            ],
            [
             0.4444444444444444,
             "#bd3786"
            ],
            [
             0.5555555555555556,
             "#d8576b"
            ],
            [
             0.6666666666666666,
             "#ed7953"
            ],
            [
             0.7777777777777778,
             "#fb9f3a"
            ],
            [
             0.8888888888888888,
             "#fdca26"
            ],
            [
             1,
             "#f0f921"
            ]
           ],
           "sequentialminus": [
            [
             0,
             "#0d0887"
            ],
            [
             0.1111111111111111,
             "#46039f"
            ],
            [
             0.2222222222222222,
             "#7201a8"
            ],
            [
             0.3333333333333333,
             "#9c179e"
            ],
            [
             0.4444444444444444,
             "#bd3786"
            ],
            [
             0.5555555555555556,
             "#d8576b"
            ],
            [
             0.6666666666666666,
             "#ed7953"
            ],
            [
             0.7777777777777778,
             "#fb9f3a"
            ],
            [
             0.8888888888888888,
             "#fdca26"
            ],
            [
             1,
             "#f0f921"
            ]
           ]
          },
          "colorway": [
           "#636efa",
           "#EF553B",
           "#00cc96",
           "#ab63fa",
           "#FFA15A",
           "#19d3f3",
           "#FF6692",
           "#B6E880",
           "#FF97FF",
           "#FECB52"
          ],
          "font": {
           "color": "#2a3f5f"
          },
          "geo": {
           "bgcolor": "white",
           "lakecolor": "white",
           "landcolor": "#E5ECF6",
           "showlakes": true,
           "showland": true,
           "subunitcolor": "white"
          },
          "hoverlabel": {
           "align": "left"
          },
          "hovermode": "closest",
          "mapbox": {
           "style": "light"
          },
          "paper_bgcolor": "white",
          "plot_bgcolor": "#E5ECF6",
          "polar": {
           "angularaxis": {
            "gridcolor": "white",
            "linecolor": "white",
            "ticks": ""
           },
           "bgcolor": "#E5ECF6",
           "radialaxis": {
            "gridcolor": "white",
            "linecolor": "white",
            "ticks": ""
           }
          },
          "scene": {
           "xaxis": {
            "backgroundcolor": "#E5ECF6",
            "gridcolor": "white",
            "gridwidth": 2,
            "linecolor": "white",
            "showbackground": true,
            "ticks": "",
            "zerolinecolor": "white"
           },
           "yaxis": {
            "backgroundcolor": "#E5ECF6",
            "gridcolor": "white",
            "gridwidth": 2,
            "linecolor": "white",
            "showbackground": true,
            "ticks": "",
            "zerolinecolor": "white"
           },
           "zaxis": {
            "backgroundcolor": "#E5ECF6",
            "gridcolor": "white",
            "gridwidth": 2,
            "linecolor": "white",
            "showbackground": true,
            "ticks": "",
            "zerolinecolor": "white"
           }
          },
          "shapedefaults": {
           "line": {
            "color": "#2a3f5f"
           }
          },
          "ternary": {
           "aaxis": {
            "gridcolor": "white",
            "linecolor": "white",
            "ticks": ""
           },
           "baxis": {
            "gridcolor": "white",
            "linecolor": "white",
            "ticks": ""
           },
           "bgcolor": "#E5ECF6",
           "caxis": {
            "gridcolor": "white",
            "linecolor": "white",
            "ticks": ""
           }
          },
          "title": {
           "x": 0.05
          },
          "xaxis": {
           "automargin": true,
           "gridcolor": "white",
           "linecolor": "white",
           "ticks": "",
           "title": {
            "standoff": 15
           },
           "zerolinecolor": "white",
           "zerolinewidth": 2
          },
          "yaxis": {
           "automargin": true,
           "gridcolor": "white",
           "linecolor": "white",
           "ticks": "",
           "title": {
            "standoff": 15
           },
           "zerolinecolor": "white",
           "zerolinewidth": 2
          }
         }
        },
        "title": {
         "text": "Labels Distribution"
        },
        "xaxis": {
         "anchor": "y",
         "domain": [
          0,
          1
         ],
         "tickangle": -60,
         "title": {
          "text": "Label"
         }
        },
        "yaxis": {
         "anchor": "x",
         "domain": [
          0,
          1
         ],
         "title": {
          "text": "Count"
         }
        }
       }
      }
     },
     "metadata": {},
     "output_type": "display_data"
    }
   ],
   "source": [
    "all_labels_count = df_count.drop('city', axis=1).sort_index(axis=1).sum(axis=0)\n",
    "all_labels_count.plot(\n",
    "    kind='bar', \n",
    "    title='Labels Distribution', \n",
    "    text_auto=True, \n",
    "    labels={'index' : 'Label', 'value' : 'Count'}\n",
    "    ).update_layout(showlegend=False).update_xaxes(tickangle=-60)"
   ]
  },
  {
   "attachments": {},
   "cell_type": "markdown",
   "metadata": {},
   "source": [
    "In this graph we can see that there are a few over-represented labels like pole, car, static, etc. Consequently, the labels distribution in the dataset is unbalanced. It is a bias in the data, that could disturb the model when training it."
   ]
  },
  {
   "attachments": {},
   "cell_type": "markdown",
   "metadata": {},
   "source": [
    "## Traffic ways and vehicles distribution"
   ]
  },
  {
   "cell_type": "code",
   "execution_count": 5,
   "metadata": {},
   "outputs": [
    {
     "data": {
      "application/vnd.plotly.v1+json": {
       "config": {
        "plotlyServerURL": "https://plot.ly"
       },
       "data": [
        {
         "alignmentgroup": "True",
         "hovertemplate": "variable=0<br>Label=%{x}<br>Count=%{y}<extra></extra>",
         "legendgroup": "0",
         "marker": {
          "color": "#636efa",
          "pattern": {
           "shape": ""
          }
         },
         "name": "0",
         "offsetgroup": "0",
         "orientation": "v",
         "showlegend": true,
         "textposition": "auto",
         "texttemplate": "%{y}",
         "type": "bar",
         "x": [
          "parking",
          "rail track",
          "road",
          "sidewalk"
         ],
         "xaxis": "x",
         "y": [
          1216,
          131,
          3616,
          8349
         ],
         "yaxis": "y"
        }
       ],
       "layout": {
        "barmode": "relative",
        "legend": {
         "title": {
          "text": "variable"
         },
         "tracegroupgap": 0
        },
        "showlegend": false,
        "template": {
         "data": {
          "bar": [
           {
            "error_x": {
             "color": "#2a3f5f"
            },
            "error_y": {
             "color": "#2a3f5f"
            },
            "marker": {
             "line": {
              "color": "#E5ECF6",
              "width": 0.5
             },
             "pattern": {
              "fillmode": "overlay",
              "size": 10,
              "solidity": 0.2
             }
            },
            "type": "bar"
           }
          ],
          "barpolar": [
           {
            "marker": {
             "line": {
              "color": "#E5ECF6",
              "width": 0.5
             },
             "pattern": {
              "fillmode": "overlay",
              "size": 10,
              "solidity": 0.2
             }
            },
            "type": "barpolar"
           }
          ],
          "carpet": [
           {
            "aaxis": {
             "endlinecolor": "#2a3f5f",
             "gridcolor": "white",
             "linecolor": "white",
             "minorgridcolor": "white",
             "startlinecolor": "#2a3f5f"
            },
            "baxis": {
             "endlinecolor": "#2a3f5f",
             "gridcolor": "white",
             "linecolor": "white",
             "minorgridcolor": "white",
             "startlinecolor": "#2a3f5f"
            },
            "type": "carpet"
           }
          ],
          "choropleth": [
           {
            "colorbar": {
             "outlinewidth": 0,
             "ticks": ""
            },
            "type": "choropleth"
           }
          ],
          "contour": [
           {
            "colorbar": {
             "outlinewidth": 0,
             "ticks": ""
            },
            "colorscale": [
             [
              0,
              "#0d0887"
             ],
             [
              0.1111111111111111,
              "#46039f"
             ],
             [
              0.2222222222222222,
              "#7201a8"
             ],
             [
              0.3333333333333333,
              "#9c179e"
             ],
             [
              0.4444444444444444,
              "#bd3786"
             ],
             [
              0.5555555555555556,
              "#d8576b"
             ],
             [
              0.6666666666666666,
              "#ed7953"
             ],
             [
              0.7777777777777778,
              "#fb9f3a"
             ],
             [
              0.8888888888888888,
              "#fdca26"
             ],
             [
              1,
              "#f0f921"
             ]
            ],
            "type": "contour"
           }
          ],
          "contourcarpet": [
           {
            "colorbar": {
             "outlinewidth": 0,
             "ticks": ""
            },
            "type": "contourcarpet"
           }
          ],
          "heatmap": [
           {
            "colorbar": {
             "outlinewidth": 0,
             "ticks": ""
            },
            "colorscale": [
             [
              0,
              "#0d0887"
             ],
             [
              0.1111111111111111,
              "#46039f"
             ],
             [
              0.2222222222222222,
              "#7201a8"
             ],
             [
              0.3333333333333333,
              "#9c179e"
             ],
             [
              0.4444444444444444,
              "#bd3786"
             ],
             [
              0.5555555555555556,
              "#d8576b"
             ],
             [
              0.6666666666666666,
              "#ed7953"
             ],
             [
              0.7777777777777778,
              "#fb9f3a"
             ],
             [
              0.8888888888888888,
              "#fdca26"
             ],
             [
              1,
              "#f0f921"
             ]
            ],
            "type": "heatmap"
           }
          ],
          "heatmapgl": [
           {
            "colorbar": {
             "outlinewidth": 0,
             "ticks": ""
            },
            "colorscale": [
             [
              0,
              "#0d0887"
             ],
             [
              0.1111111111111111,
              "#46039f"
             ],
             [
              0.2222222222222222,
              "#7201a8"
             ],
             [
              0.3333333333333333,
              "#9c179e"
             ],
             [
              0.4444444444444444,
              "#bd3786"
             ],
             [
              0.5555555555555556,
              "#d8576b"
             ],
             [
              0.6666666666666666,
              "#ed7953"
             ],
             [
              0.7777777777777778,
              "#fb9f3a"
             ],
             [
              0.8888888888888888,
              "#fdca26"
             ],
             [
              1,
              "#f0f921"
             ]
            ],
            "type": "heatmapgl"
           }
          ],
          "histogram": [
           {
            "marker": {
             "pattern": {
              "fillmode": "overlay",
              "size": 10,
              "solidity": 0.2
             }
            },
            "type": "histogram"
           }
          ],
          "histogram2d": [
           {
            "colorbar": {
             "outlinewidth": 0,
             "ticks": ""
            },
            "colorscale": [
             [
              0,
              "#0d0887"
             ],
             [
              0.1111111111111111,
              "#46039f"
             ],
             [
              0.2222222222222222,
              "#7201a8"
             ],
             [
              0.3333333333333333,
              "#9c179e"
             ],
             [
              0.4444444444444444,
              "#bd3786"
             ],
             [
              0.5555555555555556,
              "#d8576b"
             ],
             [
              0.6666666666666666,
              "#ed7953"
             ],
             [
              0.7777777777777778,
              "#fb9f3a"
             ],
             [
              0.8888888888888888,
              "#fdca26"
             ],
             [
              1,
              "#f0f921"
             ]
            ],
            "type": "histogram2d"
           }
          ],
          "histogram2dcontour": [
           {
            "colorbar": {
             "outlinewidth": 0,
             "ticks": ""
            },
            "colorscale": [
             [
              0,
              "#0d0887"
             ],
             [
              0.1111111111111111,
              "#46039f"
             ],
             [
              0.2222222222222222,
              "#7201a8"
             ],
             [
              0.3333333333333333,
              "#9c179e"
             ],
             [
              0.4444444444444444,
              "#bd3786"
             ],
             [
              0.5555555555555556,
              "#d8576b"
             ],
             [
              0.6666666666666666,
              "#ed7953"
             ],
             [
              0.7777777777777778,
              "#fb9f3a"
             ],
             [
              0.8888888888888888,
              "#fdca26"
             ],
             [
              1,
              "#f0f921"
             ]
            ],
            "type": "histogram2dcontour"
           }
          ],
          "mesh3d": [
           {
            "colorbar": {
             "outlinewidth": 0,
             "ticks": ""
            },
            "type": "mesh3d"
           }
          ],
          "parcoords": [
           {
            "line": {
             "colorbar": {
              "outlinewidth": 0,
              "ticks": ""
             }
            },
            "type": "parcoords"
           }
          ],
          "pie": [
           {
            "automargin": true,
            "type": "pie"
           }
          ],
          "scatter": [
           {
            "fillpattern": {
             "fillmode": "overlay",
             "size": 10,
             "solidity": 0.2
            },
            "type": "scatter"
           }
          ],
          "scatter3d": [
           {
            "line": {
             "colorbar": {
              "outlinewidth": 0,
              "ticks": ""
             }
            },
            "marker": {
             "colorbar": {
              "outlinewidth": 0,
              "ticks": ""
             }
            },
            "type": "scatter3d"
           }
          ],
          "scattercarpet": [
           {
            "marker": {
             "colorbar": {
              "outlinewidth": 0,
              "ticks": ""
             }
            },
            "type": "scattercarpet"
           }
          ],
          "scattergeo": [
           {
            "marker": {
             "colorbar": {
              "outlinewidth": 0,
              "ticks": ""
             }
            },
            "type": "scattergeo"
           }
          ],
          "scattergl": [
           {
            "marker": {
             "colorbar": {
              "outlinewidth": 0,
              "ticks": ""
             }
            },
            "type": "scattergl"
           }
          ],
          "scattermapbox": [
           {
            "marker": {
             "colorbar": {
              "outlinewidth": 0,
              "ticks": ""
             }
            },
            "type": "scattermapbox"
           }
          ],
          "scatterpolar": [
           {
            "marker": {
             "colorbar": {
              "outlinewidth": 0,
              "ticks": ""
             }
            },
            "type": "scatterpolar"
           }
          ],
          "scatterpolargl": [
           {
            "marker": {
             "colorbar": {
              "outlinewidth": 0,
              "ticks": ""
             }
            },
            "type": "scatterpolargl"
           }
          ],
          "scatterternary": [
           {
            "marker": {
             "colorbar": {
              "outlinewidth": 0,
              "ticks": ""
             }
            },
            "type": "scatterternary"
           }
          ],
          "surface": [
           {
            "colorbar": {
             "outlinewidth": 0,
             "ticks": ""
            },
            "colorscale": [
             [
              0,
              "#0d0887"
             ],
             [
              0.1111111111111111,
              "#46039f"
             ],
             [
              0.2222222222222222,
              "#7201a8"
             ],
             [
              0.3333333333333333,
              "#9c179e"
             ],
             [
              0.4444444444444444,
              "#bd3786"
             ],
             [
              0.5555555555555556,
              "#d8576b"
             ],
             [
              0.6666666666666666,
              "#ed7953"
             ],
             [
              0.7777777777777778,
              "#fb9f3a"
             ],
             [
              0.8888888888888888,
              "#fdca26"
             ],
             [
              1,
              "#f0f921"
             ]
            ],
            "type": "surface"
           }
          ],
          "table": [
           {
            "cells": {
             "fill": {
              "color": "#EBF0F8"
             },
             "line": {
              "color": "white"
             }
            },
            "header": {
             "fill": {
              "color": "#C8D4E3"
             },
             "line": {
              "color": "white"
             }
            },
            "type": "table"
           }
          ]
         },
         "layout": {
          "annotationdefaults": {
           "arrowcolor": "#2a3f5f",
           "arrowhead": 0,
           "arrowwidth": 1
          },
          "autotypenumbers": "strict",
          "coloraxis": {
           "colorbar": {
            "outlinewidth": 0,
            "ticks": ""
           }
          },
          "colorscale": {
           "diverging": [
            [
             0,
             "#8e0152"
            ],
            [
             0.1,
             "#c51b7d"
            ],
            [
             0.2,
             "#de77ae"
            ],
            [
             0.3,
             "#f1b6da"
            ],
            [
             0.4,
             "#fde0ef"
            ],
            [
             0.5,
             "#f7f7f7"
            ],
            [
             0.6,
             "#e6f5d0"
            ],
            [
             0.7,
             "#b8e186"
            ],
            [
             0.8,
             "#7fbc41"
            ],
            [
             0.9,
             "#4d9221"
            ],
            [
             1,
             "#276419"
            ]
           ],
           "sequential": [
            [
             0,
             "#0d0887"
            ],
            [
             0.1111111111111111,
             "#46039f"
            ],
            [
             0.2222222222222222,
             "#7201a8"
            ],
            [
             0.3333333333333333,
             "#9c179e"
            ],
            [
             0.4444444444444444,
             "#bd3786"
            ],
            [
             0.5555555555555556,
             "#d8576b"
            ],
            [
             0.6666666666666666,
             "#ed7953"
            ],
            [
             0.7777777777777778,
             "#fb9f3a"
            ],
            [
             0.8888888888888888,
             "#fdca26"
            ],
            [
             1,
             "#f0f921"
            ]
           ],
           "sequentialminus": [
            [
             0,
             "#0d0887"
            ],
            [
             0.1111111111111111,
             "#46039f"
            ],
            [
             0.2222222222222222,
             "#7201a8"
            ],
            [
             0.3333333333333333,
             "#9c179e"
            ],
            [
             0.4444444444444444,
             "#bd3786"
            ],
            [
             0.5555555555555556,
             "#d8576b"
            ],
            [
             0.6666666666666666,
             "#ed7953"
            ],
            [
             0.7777777777777778,
             "#fb9f3a"
            ],
            [
             0.8888888888888888,
             "#fdca26"
            ],
            [
             1,
             "#f0f921"
            ]
           ]
          },
          "colorway": [
           "#636efa",
           "#EF553B",
           "#00cc96",
           "#ab63fa",
           "#FFA15A",
           "#19d3f3",
           "#FF6692",
           "#B6E880",
           "#FF97FF",
           "#FECB52"
          ],
          "font": {
           "color": "#2a3f5f"
          },
          "geo": {
           "bgcolor": "white",
           "lakecolor": "white",
           "landcolor": "#E5ECF6",
           "showlakes": true,
           "showland": true,
           "subunitcolor": "white"
          },
          "hoverlabel": {
           "align": "left"
          },
          "hovermode": "closest",
          "mapbox": {
           "style": "light"
          },
          "paper_bgcolor": "white",
          "plot_bgcolor": "#E5ECF6",
          "polar": {
           "angularaxis": {
            "gridcolor": "white",
            "linecolor": "white",
            "ticks": ""
           },
           "bgcolor": "#E5ECF6",
           "radialaxis": {
            "gridcolor": "white",
            "linecolor": "white",
            "ticks": ""
           }
          },
          "scene": {
           "xaxis": {
            "backgroundcolor": "#E5ECF6",
            "gridcolor": "white",
            "gridwidth": 2,
            "linecolor": "white",
            "showbackground": true,
            "ticks": "",
            "zerolinecolor": "white"
           },
           "yaxis": {
            "backgroundcolor": "#E5ECF6",
            "gridcolor": "white",
            "gridwidth": 2,
            "linecolor": "white",
            "showbackground": true,
            "ticks": "",
            "zerolinecolor": "white"
           },
           "zaxis": {
            "backgroundcolor": "#E5ECF6",
            "gridcolor": "white",
            "gridwidth": 2,
            "linecolor": "white",
            "showbackground": true,
            "ticks": "",
            "zerolinecolor": "white"
           }
          },
          "shapedefaults": {
           "line": {
            "color": "#2a3f5f"
           }
          },
          "ternary": {
           "aaxis": {
            "gridcolor": "white",
            "linecolor": "white",
            "ticks": ""
           },
           "baxis": {
            "gridcolor": "white",
            "linecolor": "white",
            "ticks": ""
           },
           "bgcolor": "#E5ECF6",
           "caxis": {
            "gridcolor": "white",
            "linecolor": "white",
            "ticks": ""
           }
          },
          "title": {
           "x": 0.05
          },
          "xaxis": {
           "automargin": true,
           "gridcolor": "white",
           "linecolor": "white",
           "ticks": "",
           "title": {
            "standoff": 15
           },
           "zerolinecolor": "white",
           "zerolinewidth": 2
          },
          "yaxis": {
           "automargin": true,
           "gridcolor": "white",
           "linecolor": "white",
           "ticks": "",
           "title": {
            "standoff": 15
           },
           "zerolinecolor": "white",
           "zerolinewidth": 2
          }
         }
        },
        "title": {
         "text": "Traffic ways Distribution"
        },
        "xaxis": {
         "anchor": "y",
         "domain": [
          0,
          1
         ],
         "tickangle": -60,
         "title": {
          "text": "Label"
         }
        },
        "yaxis": {
         "anchor": "x",
         "domain": [
          0,
          1
         ],
         "title": {
          "text": "Count"
         }
        }
       }
      }
     },
     "metadata": {},
     "output_type": "display_data"
    }
   ],
   "source": [
    "ways = ['road', 'sidewalk', 'parking', 'rail track']\n",
    "ways_count = df_count[ways].sort_index(axis=1).sum(axis=0)\n",
    "ways_count.plot(\n",
    "    kind='bar', \n",
    "    title='Traffic ways Distribution', \n",
    "    text_auto=True, \n",
    "    labels={'index' : 'Label', 'value' : 'Count'}\n",
    "    ).update_layout(showlegend=False).update_xaxes(tickangle=-60)"
   ]
  },
  {
   "attachments": {},
   "cell_type": "markdown",
   "metadata": {},
   "source": [
    "When focusing on the traffic ways, we can again see the same phenomenon, there are labels that represented more than the others. It is in fact logic, because we rarely see rail tracks on roads, compared to sidewalk. So we can conclude the same as before, it can bias the model that will be more trained on the sidewalks on road than on parkings and rail tracks."
   ]
  },
  {
   "cell_type": "code",
   "execution_count": 6,
   "metadata": {},
   "outputs": [
    {
     "data": {
      "application/vnd.plotly.v1+json": {
       "config": {
        "plotlyServerURL": "https://plot.ly"
       },
       "data": [
        {
         "alignmentgroup": "True",
         "hovertemplate": "variable=0<br>Label=%{x}<br>Count=%{y}<extra></extra>",
         "legendgroup": "0",
         "marker": {
          "color": "#636efa",
          "pattern": {
           "shape": ""
          }
         },
         "name": "0",
         "offsetgroup": "0",
         "orientation": "v",
         "showlegend": true,
         "textposition": "auto",
         "texttemplate": "%{y}",
         "type": "bar",
         "x": [
          "bicycle",
          "bicyclegroup",
          "bus",
          "car",
          "caravan",
          "cargroup",
          "motorcycle",
          "motorcyclegroup",
          "trailer",
          "train",
          "truck",
          "truckgroup"
         ],
         "xaxis": "x",
         "y": [
          4904,
          1049,
          483,
          31822,
          69,
          2055,
          888,
          9,
          89,
          194,
          582,
          1
         ],
         "yaxis": "y"
        }
       ],
       "layout": {
        "barmode": "relative",
        "legend": {
         "title": {
          "text": "variable"
         },
         "tracegroupgap": 0
        },
        "showlegend": false,
        "template": {
         "data": {
          "bar": [
           {
            "error_x": {
             "color": "#2a3f5f"
            },
            "error_y": {
             "color": "#2a3f5f"
            },
            "marker": {
             "line": {
              "color": "#E5ECF6",
              "width": 0.5
             },
             "pattern": {
              "fillmode": "overlay",
              "size": 10,
              "solidity": 0.2
             }
            },
            "type": "bar"
           }
          ],
          "barpolar": [
           {
            "marker": {
             "line": {
              "color": "#E5ECF6",
              "width": 0.5
             },
             "pattern": {
              "fillmode": "overlay",
              "size": 10,
              "solidity": 0.2
             }
            },
            "type": "barpolar"
           }
          ],
          "carpet": [
           {
            "aaxis": {
             "endlinecolor": "#2a3f5f",
             "gridcolor": "white",
             "linecolor": "white",
             "minorgridcolor": "white",
             "startlinecolor": "#2a3f5f"
            },
            "baxis": {
             "endlinecolor": "#2a3f5f",
             "gridcolor": "white",
             "linecolor": "white",
             "minorgridcolor": "white",
             "startlinecolor": "#2a3f5f"
            },
            "type": "carpet"
           }
          ],
          "choropleth": [
           {
            "colorbar": {
             "outlinewidth": 0,
             "ticks": ""
            },
            "type": "choropleth"
           }
          ],
          "contour": [
           {
            "colorbar": {
             "outlinewidth": 0,
             "ticks": ""
            },
            "colorscale": [
             [
              0,
              "#0d0887"
             ],
             [
              0.1111111111111111,
              "#46039f"
             ],
             [
              0.2222222222222222,
              "#7201a8"
             ],
             [
              0.3333333333333333,
              "#9c179e"
             ],
             [
              0.4444444444444444,
              "#bd3786"
             ],
             [
              0.5555555555555556,
              "#d8576b"
             ],
             [
              0.6666666666666666,
              "#ed7953"
             ],
             [
              0.7777777777777778,
              "#fb9f3a"
             ],
             [
              0.8888888888888888,
              "#fdca26"
             ],
             [
              1,
              "#f0f921"
             ]
            ],
            "type": "contour"
           }
          ],
          "contourcarpet": [
           {
            "colorbar": {
             "outlinewidth": 0,
             "ticks": ""
            },
            "type": "contourcarpet"
           }
          ],
          "heatmap": [
           {
            "colorbar": {
             "outlinewidth": 0,
             "ticks": ""
            },
            "colorscale": [
             [
              0,
              "#0d0887"
             ],
             [
              0.1111111111111111,
              "#46039f"
             ],
             [
              0.2222222222222222,
              "#7201a8"
             ],
             [
              0.3333333333333333,
              "#9c179e"
             ],
             [
              0.4444444444444444,
              "#bd3786"
             ],
             [
              0.5555555555555556,
              "#d8576b"
             ],
             [
              0.6666666666666666,
              "#ed7953"
             ],
             [
              0.7777777777777778,
              "#fb9f3a"
             ],
             [
              0.8888888888888888,
              "#fdca26"
             ],
             [
              1,
              "#f0f921"
             ]
            ],
            "type": "heatmap"
           }
          ],
          "heatmapgl": [
           {
            "colorbar": {
             "outlinewidth": 0,
             "ticks": ""
            },
            "colorscale": [
             [
              0,
              "#0d0887"
             ],
             [
              0.1111111111111111,
              "#46039f"
             ],
             [
              0.2222222222222222,
              "#7201a8"
             ],
             [
              0.3333333333333333,
              "#9c179e"
             ],
             [
              0.4444444444444444,
              "#bd3786"
             ],
             [
              0.5555555555555556,
              "#d8576b"
             ],
             [
              0.6666666666666666,
              "#ed7953"
             ],
             [
              0.7777777777777778,
              "#fb9f3a"
             ],
             [
              0.8888888888888888,
              "#fdca26"
             ],
             [
              1,
              "#f0f921"
             ]
            ],
            "type": "heatmapgl"
           }
          ],
          "histogram": [
           {
            "marker": {
             "pattern": {
              "fillmode": "overlay",
              "size": 10,
              "solidity": 0.2
             }
            },
            "type": "histogram"
           }
          ],
          "histogram2d": [
           {
            "colorbar": {
             "outlinewidth": 0,
             "ticks": ""
            },
            "colorscale": [
             [
              0,
              "#0d0887"
             ],
             [
              0.1111111111111111,
              "#46039f"
             ],
             [
              0.2222222222222222,
              "#7201a8"
             ],
             [
              0.3333333333333333,
              "#9c179e"
             ],
             [
              0.4444444444444444,
              "#bd3786"
             ],
             [
              0.5555555555555556,
              "#d8576b"
             ],
             [
              0.6666666666666666,
              "#ed7953"
             ],
             [
              0.7777777777777778,
              "#fb9f3a"
             ],
             [
              0.8888888888888888,
              "#fdca26"
             ],
             [
              1,
              "#f0f921"
             ]
            ],
            "type": "histogram2d"
           }
          ],
          "histogram2dcontour": [
           {
            "colorbar": {
             "outlinewidth": 0,
             "ticks": ""
            },
            "colorscale": [
             [
              0,
              "#0d0887"
             ],
             [
              0.1111111111111111,
              "#46039f"
             ],
             [
              0.2222222222222222,
              "#7201a8"
             ],
             [
              0.3333333333333333,
              "#9c179e"
             ],
             [
              0.4444444444444444,
              "#bd3786"
             ],
             [
              0.5555555555555556,
              "#d8576b"
             ],
             [
              0.6666666666666666,
              "#ed7953"
             ],
             [
              0.7777777777777778,
              "#fb9f3a"
             ],
             [
              0.8888888888888888,
              "#fdca26"
             ],
             [
              1,
              "#f0f921"
             ]
            ],
            "type": "histogram2dcontour"
           }
          ],
          "mesh3d": [
           {
            "colorbar": {
             "outlinewidth": 0,
             "ticks": ""
            },
            "type": "mesh3d"
           }
          ],
          "parcoords": [
           {
            "line": {
             "colorbar": {
              "outlinewidth": 0,
              "ticks": ""
             }
            },
            "type": "parcoords"
           }
          ],
          "pie": [
           {
            "automargin": true,
            "type": "pie"
           }
          ],
          "scatter": [
           {
            "fillpattern": {
             "fillmode": "overlay",
             "size": 10,
             "solidity": 0.2
            },
            "type": "scatter"
           }
          ],
          "scatter3d": [
           {
            "line": {
             "colorbar": {
              "outlinewidth": 0,
              "ticks": ""
             }
            },
            "marker": {
             "colorbar": {
              "outlinewidth": 0,
              "ticks": ""
             }
            },
            "type": "scatter3d"
           }
          ],
          "scattercarpet": [
           {
            "marker": {
             "colorbar": {
              "outlinewidth": 0,
              "ticks": ""
             }
            },
            "type": "scattercarpet"
           }
          ],
          "scattergeo": [
           {
            "marker": {
             "colorbar": {
              "outlinewidth": 0,
              "ticks": ""
             }
            },
            "type": "scattergeo"
           }
          ],
          "scattergl": [
           {
            "marker": {
             "colorbar": {
              "outlinewidth": 0,
              "ticks": ""
             }
            },
            "type": "scattergl"
           }
          ],
          "scattermapbox": [
           {
            "marker": {
             "colorbar": {
              "outlinewidth": 0,
              "ticks": ""
             }
            },
            "type": "scattermapbox"
           }
          ],
          "scatterpolar": [
           {
            "marker": {
             "colorbar": {
              "outlinewidth": 0,
              "ticks": ""
             }
            },
            "type": "scatterpolar"
           }
          ],
          "scatterpolargl": [
           {
            "marker": {
             "colorbar": {
              "outlinewidth": 0,
              "ticks": ""
             }
            },
            "type": "scatterpolargl"
           }
          ],
          "scatterternary": [
           {
            "marker": {
             "colorbar": {
              "outlinewidth": 0,
              "ticks": ""
             }
            },
            "type": "scatterternary"
           }
          ],
          "surface": [
           {
            "colorbar": {
             "outlinewidth": 0,
             "ticks": ""
            },
            "colorscale": [
             [
              0,
              "#0d0887"
             ],
             [
              0.1111111111111111,
              "#46039f"
             ],
             [
              0.2222222222222222,
              "#7201a8"
             ],
             [
              0.3333333333333333,
              "#9c179e"
             ],
             [
              0.4444444444444444,
              "#bd3786"
             ],
             [
              0.5555555555555556,
              "#d8576b"
             ],
             [
              0.6666666666666666,
              "#ed7953"
             ],
             [
              0.7777777777777778,
              "#fb9f3a"
             ],
             [
              0.8888888888888888,
              "#fdca26"
             ],
             [
              1,
              "#f0f921"
             ]
            ],
            "type": "surface"
           }
          ],
          "table": [
           {
            "cells": {
             "fill": {
              "color": "#EBF0F8"
             },
             "line": {
              "color": "white"
             }
            },
            "header": {
             "fill": {
              "color": "#C8D4E3"
             },
             "line": {
              "color": "white"
             }
            },
            "type": "table"
           }
          ]
         },
         "layout": {
          "annotationdefaults": {
           "arrowcolor": "#2a3f5f",
           "arrowhead": 0,
           "arrowwidth": 1
          },
          "autotypenumbers": "strict",
          "coloraxis": {
           "colorbar": {
            "outlinewidth": 0,
            "ticks": ""
           }
          },
          "colorscale": {
           "diverging": [
            [
             0,
             "#8e0152"
            ],
            [
             0.1,
             "#c51b7d"
            ],
            [
             0.2,
             "#de77ae"
            ],
            [
             0.3,
             "#f1b6da"
            ],
            [
             0.4,
             "#fde0ef"
            ],
            [
             0.5,
             "#f7f7f7"
            ],
            [
             0.6,
             "#e6f5d0"
            ],
            [
             0.7,
             "#b8e186"
            ],
            [
             0.8,
             "#7fbc41"
            ],
            [
             0.9,
             "#4d9221"
            ],
            [
             1,
             "#276419"
            ]
           ],
           "sequential": [
            [
             0,
             "#0d0887"
            ],
            [
             0.1111111111111111,
             "#46039f"
            ],
            [
             0.2222222222222222,
             "#7201a8"
            ],
            [
             0.3333333333333333,
             "#9c179e"
            ],
            [
             0.4444444444444444,
             "#bd3786"
            ],
            [
             0.5555555555555556,
             "#d8576b"
            ],
            [
             0.6666666666666666,
             "#ed7953"
            ],
            [
             0.7777777777777778,
             "#fb9f3a"
            ],
            [
             0.8888888888888888,
             "#fdca26"
            ],
            [
             1,
             "#f0f921"
            ]
           ],
           "sequentialminus": [
            [
             0,
             "#0d0887"
            ],
            [
             0.1111111111111111,
             "#46039f"
            ],
            [
             0.2222222222222222,
             "#7201a8"
            ],
            [
             0.3333333333333333,
             "#9c179e"
            ],
            [
             0.4444444444444444,
             "#bd3786"
            ],
            [
             0.5555555555555556,
             "#d8576b"
            ],
            [
             0.6666666666666666,
             "#ed7953"
            ],
            [
             0.7777777777777778,
             "#fb9f3a"
            ],
            [
             0.8888888888888888,
             "#fdca26"
            ],
            [
             1,
             "#f0f921"
            ]
           ]
          },
          "colorway": [
           "#636efa",
           "#EF553B",
           "#00cc96",
           "#ab63fa",
           "#FFA15A",
           "#19d3f3",
           "#FF6692",
           "#B6E880",
           "#FF97FF",
           "#FECB52"
          ],
          "font": {
           "color": "#2a3f5f"
          },
          "geo": {
           "bgcolor": "white",
           "lakecolor": "white",
           "landcolor": "#E5ECF6",
           "showlakes": true,
           "showland": true,
           "subunitcolor": "white"
          },
          "hoverlabel": {
           "align": "left"
          },
          "hovermode": "closest",
          "mapbox": {
           "style": "light"
          },
          "paper_bgcolor": "white",
          "plot_bgcolor": "#E5ECF6",
          "polar": {
           "angularaxis": {
            "gridcolor": "white",
            "linecolor": "white",
            "ticks": ""
           },
           "bgcolor": "#E5ECF6",
           "radialaxis": {
            "gridcolor": "white",
            "linecolor": "white",
            "ticks": ""
           }
          },
          "scene": {
           "xaxis": {
            "backgroundcolor": "#E5ECF6",
            "gridcolor": "white",
            "gridwidth": 2,
            "linecolor": "white",
            "showbackground": true,
            "ticks": "",
            "zerolinecolor": "white"
           },
           "yaxis": {
            "backgroundcolor": "#E5ECF6",
            "gridcolor": "white",
            "gridwidth": 2,
            "linecolor": "white",
            "showbackground": true,
            "ticks": "",
            "zerolinecolor": "white"
           },
           "zaxis": {
            "backgroundcolor": "#E5ECF6",
            "gridcolor": "white",
            "gridwidth": 2,
            "linecolor": "white",
            "showbackground": true,
            "ticks": "",
            "zerolinecolor": "white"
           }
          },
          "shapedefaults": {
           "line": {
            "color": "#2a3f5f"
           }
          },
          "ternary": {
           "aaxis": {
            "gridcolor": "white",
            "linecolor": "white",
            "ticks": ""
           },
           "baxis": {
            "gridcolor": "white",
            "linecolor": "white",
            "ticks": ""
           },
           "bgcolor": "#E5ECF6",
           "caxis": {
            "gridcolor": "white",
            "linecolor": "white",
            "ticks": ""
           }
          },
          "title": {
           "x": 0.05
          },
          "xaxis": {
           "automargin": true,
           "gridcolor": "white",
           "linecolor": "white",
           "ticks": "",
           "title": {
            "standoff": 15
           },
           "zerolinecolor": "white",
           "zerolinewidth": 2
          },
          "yaxis": {
           "automargin": true,
           "gridcolor": "white",
           "linecolor": "white",
           "ticks": "",
           "title": {
            "standoff": 15
           },
           "zerolinecolor": "white",
           "zerolinewidth": 2
          }
         }
        },
        "title": {
         "text": "Vehicles Distribution"
        },
        "xaxis": {
         "anchor": "y",
         "domain": [
          0,
          1
         ],
         "tickangle": -60,
         "title": {
          "text": "Label"
         }
        },
        "yaxis": {
         "anchor": "x",
         "domain": [
          0,
          1
         ],
         "title": {
          "text": "Count"
         }
        }
       }
      }
     },
     "metadata": {},
     "output_type": "display_data"
    }
   ],
   "source": [
    "vehicles = ['car', 'cargroup', 'truck', 'truckgroup', 'bus', 'train', 'motorcycle', 'motorcyclegroup', 'bicycle', 'bicyclegroup', 'caravan', 'trailer']\n",
    "vehicles_count = df_count[vehicles].sort_index(axis=1).sum(axis=0)\n",
    "vehicles_count.plot(\n",
    "    kind='bar', \n",
    "    title='Vehicles Distribution', \n",
    "    text_auto=True, \n",
    "    labels={'index' : 'Label', 'value' : 'Count'}\n",
    "    ).update_layout(showlegend=False).update_xaxes(tickangle=-60)"
   ]
  },
  {
   "attachments": {},
   "cell_type": "markdown",
   "metadata": {},
   "source": [
    "Once more, the car label is over-represented compare to all the other vehicle labels. There are classes that present less than 100 times in the dataset. Consequently, we may need to remove these labels, like truckgroup, because it is not accurate to train the model on only one polygon for a class."
   ]
  },
  {
   "attachments": {},
   "cell_type": "markdown",
   "metadata": {},
   "source": [
    "## Cities labels distribution\n",
    "\n",
    "We now make an interactive plot where it is possible to choose the city and see the distribution for every label."
   ]
  },
  {
   "cell_type": "code",
   "execution_count": null,
   "metadata": {},
   "outputs": [
    {
     "data": {
      "application/vnd.plotly.v1+json": {
       "config": {
        "plotlyServerURL": "https://plot.ly"
       },
       "data": [
        {
         "showlegend": false,
         "text": [
          238,
          28,
          7,
          385,
          30,
          1984,
          1,
          74,
          102,
          174,
          67,
          78,
          4,
          628,
          61,
          0,
          174,
          100,
          1197,
          38,
          2624,
          14,
          0,
          0,
          52,
          0,
          200,
          440,
          170,
          1904,
          354,
          604,
          1264,
          7,
          0,
          5,
          0,
          1,
          740,
          71
         ],
         "type": "bar",
         "visible": true,
         "x": [
          "bicycle",
          "bicyclegroup",
          "bridge",
          "building",
          "bus",
          "car",
          "caravan",
          "cargroup",
          "dynamic",
          "ego vehicle",
          "fence",
          "ground",
          "guard rail",
          "license plate",
          "motorcycle",
          "motorcyclegroup",
          "out of roi",
          "parking",
          "person",
          "persongroup",
          "pole",
          "polegroup",
          "rail track",
          "rectification border",
          "rider",
          "ridergroup",
          "road",
          "sidewalk",
          "sky",
          "static",
          "terrain",
          "traffic light",
          "traffic sign",
          "trailer",
          "train",
          "truck",
          "truckgroup",
          "tunnel",
          "vegetation",
          "wall"
         ],
         "y": [
          238,
          28,
          7,
          385,
          30,
          1984,
          1,
          74,
          102,
          174,
          67,
          78,
          4,
          628,
          61,
          0,
          174,
          100,
          1197,
          38,
          2624,
          14,
          0,
          0,
          52,
          0,
          200,
          440,
          170,
          1904,
          354,
          604,
          1264,
          7,
          0,
          5,
          0,
          1,
          740,
          71
         ]
        },
        {
         "showlegend": false,
         "text": [
          26,
          2,
          19,
          213,
          2,
          1084,
          2,
          40,
          67,
          96,
          75,
          70,
          0,
          287,
          9,
          1,
          96,
          66,
          187,
          1,
          1669,
          7,
          9,
          384,
          10,
          0,
          101,
          268,
          120,
          1408,
          315,
          548,
          687,
          2,
          2,
          4,
          0,
          2,
          519,
          83
         ],
         "type": "bar",
         "visible": false,
         "x": [
          "bicycle",
          "bicyclegroup",
          "bridge",
          "building",
          "bus",
          "car",
          "caravan",
          "cargroup",
          "dynamic",
          "ego vehicle",
          "fence",
          "ground",
          "guard rail",
          "license plate",
          "motorcycle",
          "motorcyclegroup",
          "out of roi",
          "parking",
          "person",
          "persongroup",
          "pole",
          "polegroup",
          "rail track",
          "rectification border",
          "rider",
          "ridergroup",
          "road",
          "sidewalk",
          "sky",
          "static",
          "terrain",
          "traffic light",
          "traffic sign",
          "trailer",
          "train",
          "truck",
          "truckgroup",
          "tunnel",
          "vegetation",
          "wall"
         ],
         "y": [
          26,
          2,
          19,
          213,
          2,
          1084,
          2,
          40,
          67,
          96,
          75,
          70,
          0,
          287,
          9,
          1,
          96,
          66,
          187,
          1,
          1669,
          7,
          9,
          384,
          10,
          0,
          101,
          268,
          120,
          1408,
          315,
          548,
          687,
          2,
          2,
          4,
          0,
          2,
          519,
          83
         ]
        },
        {
         "showlegend": false,
         "text": [
          508,
          107,
          59,
          905,
          37,
          2738,
          15,
          276,
          361,
          316,
          272,
          212,
          2,
          468,
          53,
          0,
          316,
          119,
          1072,
          101,
          4578,
          69,
          11,
          0,
          248,
          2,
          324,
          822,
          295,
          3583,
          575,
          1225,
          1888,
          17,
          35,
          54,
          0,
          1,
          1758,
          139
         ],
         "type": "bar",
         "visible": false,
         "x": [
          "bicycle",
          "bicyclegroup",
          "bridge",
          "building",
          "bus",
          "car",
          "caravan",
          "cargroup",
          "dynamic",
          "ego vehicle",
          "fence",
          "ground",
          "guard rail",
          "license plate",
          "motorcycle",
          "motorcyclegroup",
          "out of roi",
          "parking",
          "person",
          "persongroup",
          "pole",
          "polegroup",
          "rail track",
          "rectification border",
          "rider",
          "ridergroup",
          "road",
          "sidewalk",
          "sky",
          "static",
          "terrain",
          "traffic light",
          "traffic sign",
          "trailer",
          "train",
          "truck",
          "truckgroup",
          "tunnel",
          "vegetation",
          "wall"
         ],
         "y": [
          508,
          107,
          59,
          905,
          37,
          2738,
          15,
          276,
          361,
          316,
          272,
          212,
          2,
          468,
          53,
          0,
          316,
          119,
          1072,
          101,
          4578,
          69,
          11,
          0,
          248,
          2,
          324,
          822,
          295,
          3583,
          575,
          1225,
          1888,
          17,
          35,
          54,
          0,
          1,
          1758,
          139
         ]
        },
        {
         "showlegend": false,
         "text": [
          271,
          80,
          22,
          363,
          22,
          1862,
          2,
          137,
          94,
          154,
          111,
          138,
          1,
          231,
          24,
          0,
          154,
          34,
          972,
          72,
          2728,
          13,
          1,
          0,
          131,
          7,
          167,
          314,
          164,
          2753,
          210,
          742,
          848,
          2,
          15,
          17,
          0,
          2,
          689,
          23
         ],
         "type": "bar",
         "visible": false,
         "x": [
          "bicycle",
          "bicyclegroup",
          "bridge",
          "building",
          "bus",
          "car",
          "caravan",
          "cargroup",
          "dynamic",
          "ego vehicle",
          "fence",
          "ground",
          "guard rail",
          "license plate",
          "motorcycle",
          "motorcyclegroup",
          "out of roi",
          "parking",
          "person",
          "persongroup",
          "pole",
          "polegroup",
          "rail track",
          "rectification border",
          "rider",
          "ridergroup",
          "road",
          "sidewalk",
          "sky",
          "static",
          "terrain",
          "traffic light",
          "traffic sign",
          "trailer",
          "train",
          "truck",
          "truckgroup",
          "tunnel",
          "vegetation",
          "wall"
         ],
         "y": [
          271,
          80,
          22,
          363,
          22,
          1862,
          2,
          137,
          94,
          154,
          111,
          138,
          1,
          231,
          24,
          0,
          154,
          34,
          972,
          72,
          2728,
          13,
          1,
          0,
          131,
          7,
          167,
          314,
          164,
          2753,
          210,
          742,
          848,
          2,
          15,
          17,
          0,
          2,
          689,
          23
         ]
        },
        {
         "showlegend": false,
         "text": [
          95,
          1,
          3,
          220,
          12,
          926,
          0,
          48,
          87,
          85,
          68,
          87,
          3,
          314,
          25,
          0,
          85,
          15,
          424,
          11,
          1492,
          6,
          14,
          0,
          40,
          0,
          85,
          194,
          101,
          1229,
          111,
          397,
          825,
          1,
          9,
          78,
          0,
          5,
          345,
          61
         ],
         "type": "bar",
         "visible": false,
         "x": [
          "bicycle",
          "bicyclegroup",
          "bridge",
          "building",
          "bus",
          "car",
          "caravan",
          "cargroup",
          "dynamic",
          "ego vehicle",
          "fence",
          "ground",
          "guard rail",
          "license plate",
          "motorcycle",
          "motorcyclegroup",
          "out of roi",
          "parking",
          "person",
          "persongroup",
          "pole",
          "polegroup",
          "rail track",
          "rectification border",
          "rider",
          "ridergroup",
          "road",
          "sidewalk",
          "sky",
          "static",
          "terrain",
          "traffic light",
          "traffic sign",
          "trailer",
          "train",
          "truck",
          "truckgroup",
          "tunnel",
          "vegetation",
          "wall"
         ],
         "y": [
          95,
          1,
          3,
          220,
          12,
          926,
          0,
          48,
          87,
          85,
          68,
          87,
          3,
          314,
          25,
          0,
          85,
          15,
          424,
          11,
          1492,
          6,
          14,
          0,
          40,
          0,
          85,
          194,
          101,
          1229,
          111,
          397,
          825,
          1,
          9,
          78,
          0,
          5,
          345,
          61
         ]
        },
        {
         "showlegend": false,
         "text": [
          206,
          45,
          14,
          441,
          16,
          2417,
          1,
          182,
          225,
          221,
          131,
          140,
          1,
          208,
          40,
          0,
          221,
          116,
          505,
          50,
          3824,
          50,
          1,
          0,
          32,
          0,
          224,
          586,
          216,
          2890,
          349,
          1289,
          1913,
          3,
          16,
          8,
          0,
          1,
          1287,
          55
         ],
         "type": "bar",
         "visible": false,
         "x": [
          "bicycle",
          "bicyclegroup",
          "bridge",
          "building",
          "bus",
          "car",
          "caravan",
          "cargroup",
          "dynamic",
          "ego vehicle",
          "fence",
          "ground",
          "guard rail",
          "license plate",
          "motorcycle",
          "motorcyclegroup",
          "out of roi",
          "parking",
          "person",
          "persongroup",
          "pole",
          "polegroup",
          "rail track",
          "rectification border",
          "rider",
          "ridergroup",
          "road",
          "sidewalk",
          "sky",
          "static",
          "terrain",
          "traffic light",
          "traffic sign",
          "trailer",
          "train",
          "truck",
          "truckgroup",
          "tunnel",
          "vegetation",
          "wall"
         ],
         "y": [
          206,
          45,
          14,
          441,
          16,
          2417,
          1,
          182,
          225,
          221,
          131,
          140,
          1,
          208,
          40,
          0,
          221,
          116,
          505,
          50,
          3824,
          50,
          1,
          0,
          32,
          0,
          224,
          586,
          216,
          2890,
          349,
          1289,
          1913,
          3,
          16,
          8,
          0,
          1,
          1287,
          55
         ]
        },
        {
         "showlegend": false,
         "text": [
          71,
          3,
          2,
          288,
          7,
          912,
          0,
          38,
          105,
          109,
          99,
          32,
          0,
          96,
          9,
          0,
          109,
          38,
          422,
          22,
          1233,
          6,
          1,
          0,
          48,
          0,
          109,
          258,
          104,
          1204,
          145,
          185,
          633,
          2,
          12,
          3,
          0,
          0,
          592,
          91
         ],
         "type": "bar",
         "visible": false,
         "x": [
          "bicycle",
          "bicyclegroup",
          "bridge",
          "building",
          "bus",
          "car",
          "caravan",
          "cargroup",
          "dynamic",
          "ego vehicle",
          "fence",
          "ground",
          "guard rail",
          "license plate",
          "motorcycle",
          "motorcyclegroup",
          "out of roi",
          "parking",
          "person",
          "persongroup",
          "pole",
          "polegroup",
          "rail track",
          "rectification border",
          "rider",
          "ridergroup",
          "road",
          "sidewalk",
          "sky",
          "static",
          "terrain",
          "traffic light",
          "traffic sign",
          "trailer",
          "train",
          "truck",
          "truckgroup",
          "tunnel",
          "vegetation",
          "wall"
         ],
         "y": [
          71,
          3,
          2,
          288,
          7,
          912,
          0,
          38,
          105,
          109,
          99,
          32,
          0,
          96,
          9,
          0,
          109,
          38,
          422,
          22,
          1233,
          6,
          1,
          0,
          48,
          0,
          109,
          258,
          104,
          1204,
          145,
          185,
          633,
          2,
          12,
          3,
          0,
          0,
          592,
          91
         ]
        },
        {
         "showlegend": false,
         "text": [
          523,
          112,
          150,
          539,
          116,
          2848,
          13,
          171,
          617,
          248,
          256,
          200,
          1,
          830,
          90,
          2,
          248,
          156,
          4412,
          230,
          4579,
          21,
          0,
          992,
          270,
          0,
          258,
          557,
          255,
          3853,
          451,
          1080,
          2628,
          7,
          5,
          55,
          0,
          1,
          1573,
          99
         ],
         "type": "bar",
         "visible": false,
         "x": [
          "bicycle",
          "bicyclegroup",
          "bridge",
          "building",
          "bus",
          "car",
          "caravan",
          "cargroup",
          "dynamic",
          "ego vehicle",
          "fence",
          "ground",
          "guard rail",
          "license plate",
          "motorcycle",
          "motorcyclegroup",
          "out of roi",
          "parking",
          "person",
          "persongroup",
          "pole",
          "polegroup",
          "rail track",
          "rectification border",
          "rider",
          "ridergroup",
          "road",
          "sidewalk",
          "sky",
          "static",
          "terrain",
          "traffic light",
          "traffic sign",
          "trailer",
          "train",
          "truck",
          "truckgroup",
          "tunnel",
          "vegetation",
          "wall"
         ],
         "y": [
          523,
          112,
          150,
          539,
          116,
          2848,
          13,
          171,
          617,
          248,
          256,
          200,
          1,
          830,
          90,
          2,
          248,
          156,
          4412,
          230,
          4579,
          21,
          0,
          992,
          270,
          0,
          258,
          557,
          255,
          3853,
          451,
          1080,
          2628,
          7,
          5,
          55,
          0,
          1,
          1573,
          99
         ]
        },
        {
         "showlegend": false,
         "text": [
          422,
          155,
          32,
          411,
          29,
          2094,
          7,
          120,
          329,
          196,
          90,
          116,
          0,
          597,
          60,
          0,
          196,
          83,
          1630,
          71,
          3747,
          11,
          19,
          784,
          244,
          0,
          212,
          435,
          210,
          3182,
          294,
          739,
          1787,
          11,
          6,
          55,
          0,
          3,
          906,
          98
         ],
         "type": "bar",
         "visible": false,
         "x": [
          "bicycle",
          "bicyclegroup",
          "bridge",
          "building",
          "bus",
          "car",
          "caravan",
          "cargroup",
          "dynamic",
          "ego vehicle",
          "fence",
          "ground",
          "guard rail",
          "license plate",
          "motorcycle",
          "motorcyclegroup",
          "out of roi",
          "parking",
          "person",
          "persongroup",
          "pole",
          "polegroup",
          "rail track",
          "rectification border",
          "rider",
          "ridergroup",
          "road",
          "sidewalk",
          "sky",
          "static",
          "terrain",
          "traffic light",
          "traffic sign",
          "trailer",
          "train",
          "truck",
          "truckgroup",
          "tunnel",
          "vegetation",
          "wall"
         ],
         "y": [
          422,
          155,
          32,
          411,
          29,
          2094,
          7,
          120,
          329,
          196,
          90,
          116,
          0,
          597,
          60,
          0,
          196,
          83,
          1630,
          71,
          3747,
          11,
          19,
          784,
          244,
          0,
          212,
          435,
          210,
          3182,
          294,
          739,
          1787,
          11,
          6,
          55,
          0,
          3,
          906,
          98
         ]
        },
        {
         "showlegend": false,
         "text": [
          133,
          26,
          3,
          367,
          8,
          769,
          1,
          56,
          168,
          119,
          138,
          45,
          0,
          109,
          18,
          0,
          119,
          22,
          626,
          47,
          1156,
          7,
          0,
          0,
          62,
          0,
          115,
          285,
          110,
          1202,
          139,
          201,
          563,
          3,
          6,
          10,
          0,
          0,
          666,
          114
         ],
         "type": "bar",
         "visible": false,
         "x": [
          "bicycle",
          "bicyclegroup",
          "bridge",
          "building",
          "bus",
          "car",
          "caravan",
          "cargroup",
          "dynamic",
          "ego vehicle",
          "fence",
          "ground",
          "guard rail",
          "license plate",
          "motorcycle",
          "motorcyclegroup",
          "out of roi",
          "parking",
          "person",
          "persongroup",
          "pole",
          "polegroup",
          "rail track",
          "rectification border",
          "rider",
          "ridergroup",
          "road",
          "sidewalk",
          "sky",
          "static",
          "terrain",
          "traffic light",
          "traffic sign",
          "trailer",
          "train",
          "truck",
          "truckgroup",
          "tunnel",
          "vegetation",
          "wall"
         ],
         "y": [
          133,
          26,
          3,
          367,
          8,
          769,
          1,
          56,
          168,
          119,
          138,
          45,
          0,
          109,
          18,
          0,
          119,
          22,
          626,
          47,
          1156,
          7,
          0,
          0,
          62,
          0,
          115,
          285,
          110,
          1202,
          139,
          201,
          563,
          3,
          6,
          10,
          0,
          0,
          666,
          114
         ]
        },
        {
         "showlegend": false,
         "text": [
          65,
          4,
          8,
          239,
          7,
          758,
          0,
          123,
          163,
          99,
          79,
          37,
          0,
          74,
          18,
          0,
          99,
          32,
          255,
          31,
          1317,
          13,
          0,
          396,
          38,
          1,
          101,
          238,
          97,
          1245,
          133,
          292,
          751,
          1,
          2,
          9,
          0,
          0,
          614,
          20
         ],
         "type": "bar",
         "visible": false,
         "x": [
          "bicycle",
          "bicyclegroup",
          "bridge",
          "building",
          "bus",
          "car",
          "caravan",
          "cargroup",
          "dynamic",
          "ego vehicle",
          "fence",
          "ground",
          "guard rail",
          "license plate",
          "motorcycle",
          "motorcyclegroup",
          "out of roi",
          "parking",
          "person",
          "persongroup",
          "pole",
          "polegroup",
          "rail track",
          "rectification border",
          "rider",
          "ridergroup",
          "road",
          "sidewalk",
          "sky",
          "static",
          "terrain",
          "traffic light",
          "traffic sign",
          "trailer",
          "train",
          "truck",
          "truckgroup",
          "tunnel",
          "vegetation",
          "wall"
         ],
         "y": [
          65,
          4,
          8,
          239,
          7,
          758,
          0,
          123,
          163,
          99,
          79,
          37,
          0,
          74,
          18,
          0,
          99,
          32,
          255,
          31,
          1317,
          13,
          0,
          396,
          38,
          1,
          101,
          238,
          97,
          1245,
          133,
          292,
          751,
          1,
          2,
          9,
          0,
          0,
          614,
          20
         ]
        },
        {
         "showlegend": false,
         "text": [
          51,
          4,
          12,
          213,
          4,
          691,
          1,
          88,
          72,
          94,
          75,
          35,
          0,
          54,
          16,
          0,
          94,
          42,
          221,
          21,
          1567,
          11,
          0,
          376,
          45,
          1,
          93,
          264,
          94,
          1033,
          171,
          327,
          522,
          2,
          0,
          11,
          0,
          0,
          452,
          74
         ],
         "type": "bar",
         "visible": false,
         "x": [
          "bicycle",
          "bicyclegroup",
          "bridge",
          "building",
          "bus",
          "car",
          "caravan",
          "cargroup",
          "dynamic",
          "ego vehicle",
          "fence",
          "ground",
          "guard rail",
          "license plate",
          "motorcycle",
          "motorcyclegroup",
          "out of roi",
          "parking",
          "person",
          "persongroup",
          "pole",
          "polegroup",
          "rail track",
          "rectification border",
          "rider",
          "ridergroup",
          "road",
          "sidewalk",
          "sky",
          "static",
          "terrain",
          "traffic light",
          "traffic sign",
          "trailer",
          "train",
          "truck",
          "truckgroup",
          "tunnel",
          "vegetation",
          "wall"
         ],
         "y": [
          51,
          4,
          12,
          213,
          4,
          691,
          1,
          88,
          72,
          94,
          75,
          35,
          0,
          54,
          16,
          0,
          94,
          42,
          221,
          21,
          1567,
          11,
          0,
          376,
          45,
          1,
          93,
          264,
          94,
          1033,
          171,
          327,
          522,
          2,
          0,
          11,
          0,
          0,
          452,
          74
         ]
        },
        {
         "showlegend": false,
         "text": [
          597,
          190,
          33,
          671,
          24,
          2552,
          12,
          127,
          353,
          365,
          437,
          215,
          0,
          706,
          89,
          1,
          365,
          114,
          3006,
          131,
          4677,
          21,
          56,
          1460,
          222,
          0,
          419,
          963,
          348,
          5043,
          282,
          780,
          2652,
          6,
          21,
          5,
          0,
          9,
          1337,
          208
         ],
         "type": "bar",
         "visible": false,
         "x": [
          "bicycle",
          "bicyclegroup",
          "bridge",
          "building",
          "bus",
          "car",
          "caravan",
          "cargroup",
          "dynamic",
          "ego vehicle",
          "fence",
          "ground",
          "guard rail",
          "license plate",
          "motorcycle",
          "motorcyclegroup",
          "out of roi",
          "parking",
          "person",
          "persongroup",
          "pole",
          "polegroup",
          "rail track",
          "rectification border",
          "rider",
          "ridergroup",
          "road",
          "sidewalk",
          "sky",
          "static",
          "terrain",
          "traffic light",
          "traffic sign",
          "trailer",
          "train",
          "truck",
          "truckgroup",
          "tunnel",
          "vegetation",
          "wall"
         ],
         "y": [
          597,
          190,
          33,
          671,
          24,
          2552,
          12,
          127,
          353,
          365,
          437,
          215,
          0,
          706,
          89,
          1,
          365,
          114,
          3006,
          131,
          4677,
          21,
          56,
          1460,
          222,
          0,
          419,
          963,
          348,
          5043,
          282,
          780,
          2652,
          6,
          21,
          5,
          0,
          9,
          1337,
          208
         ]
        },
        {
         "showlegend": false,
         "text": [
          58,
          7,
          18,
          532,
          15,
          1988,
          1,
          256,
          126,
          196,
          121,
          114,
          5,
          344,
          71,
          5,
          196,
          18,
          878,
          30,
          2203,
          35,
          0,
          0,
          42,
          0,
          210,
          382,
          178,
          2456,
          240,
          619,
          1267,
          3,
          4,
          115,
          0,
          2,
          919,
          82
         ],
         "type": "bar",
         "visible": false,
         "x": [
          "bicycle",
          "bicyclegroup",
          "bridge",
          "building",
          "bus",
          "car",
          "caravan",
          "cargroup",
          "dynamic",
          "ego vehicle",
          "fence",
          "ground",
          "guard rail",
          "license plate",
          "motorcycle",
          "motorcyclegroup",
          "out of roi",
          "parking",
          "person",
          "persongroup",
          "pole",
          "polegroup",
          "rail track",
          "rectification border",
          "rider",
          "ridergroup",
          "road",
          "sidewalk",
          "sky",
          "static",
          "terrain",
          "traffic light",
          "traffic sign",
          "trailer",
          "train",
          "truck",
          "truckgroup",
          "tunnel",
          "vegetation",
          "wall"
         ],
         "y": [
          58,
          7,
          18,
          532,
          15,
          1988,
          1,
          256,
          126,
          196,
          121,
          114,
          5,
          344,
          71,
          5,
          196,
          18,
          878,
          30,
          2203,
          35,
          0,
          0,
          42,
          0,
          210,
          382,
          178,
          2456,
          240,
          619,
          1267,
          3,
          4,
          115,
          0,
          2,
          919,
          82
         ]
        },
        {
         "showlegend": false,
         "text": [
          143,
          14,
          4,
          426,
          10,
          861,
          3,
          21,
          111,
          144,
          144,
          86,
          7,
          132,
          42,
          0,
          144,
          44,
          494,
          3,
          1205,
          1,
          0,
          0,
          80,
          0,
          143,
          300,
          131,
          1458,
          199,
          240,
          678,
          4,
          0,
          7,
          0,
          0,
          884,
          134
         ],
         "type": "bar",
         "visible": false,
         "x": [
          "bicycle",
          "bicyclegroup",
          "bridge",
          "building",
          "bus",
          "car",
          "caravan",
          "cargroup",
          "dynamic",
          "ego vehicle",
          "fence",
          "ground",
          "guard rail",
          "license plate",
          "motorcycle",
          "motorcyclegroup",
          "out of roi",
          "parking",
          "person",
          "persongroup",
          "pole",
          "polegroup",
          "rail track",
          "rectification border",
          "rider",
          "ridergroup",
          "road",
          "sidewalk",
          "sky",
          "static",
          "terrain",
          "traffic light",
          "traffic sign",
          "trailer",
          "train",
          "truck",
          "truckgroup",
          "tunnel",
          "vegetation",
          "wall"
         ],
         "y": [
          143,
          14,
          4,
          426,
          10,
          861,
          3,
          21,
          111,
          144,
          144,
          86,
          7,
          132,
          42,
          0,
          144,
          44,
          494,
          3,
          1205,
          1,
          0,
          0,
          80,
          0,
          143,
          300,
          131,
          1458,
          199,
          240,
          678,
          4,
          0,
          7,
          0,
          0,
          884,
          134
         ]
        },
        {
         "showlegend": false,
         "text": [
          63,
          6,
          5,
          217,
          19,
          704,
          0,
          57,
          102,
          95,
          78,
          109,
          53,
          143,
          36,
          0,
          95,
          41,
          228,
          4,
          1318,
          5,
          0,
          0,
          63,
          0,
          91,
          191,
          87,
          1151,
          207,
          267,
          562,
          0,
          6,
          25,
          1,
          2,
          468,
          49
         ],
         "type": "bar",
         "visible": false,
         "x": [
          "bicycle",
          "bicyclegroup",
          "bridge",
          "building",
          "bus",
          "car",
          "caravan",
          "cargroup",
          "dynamic",
          "ego vehicle",
          "fence",
          "ground",
          "guard rail",
          "license plate",
          "motorcycle",
          "motorcyclegroup",
          "out of roi",
          "parking",
          "person",
          "persongroup",
          "pole",
          "polegroup",
          "rail track",
          "rectification border",
          "rider",
          "ridergroup",
          "road",
          "sidewalk",
          "sky",
          "static",
          "terrain",
          "traffic light",
          "traffic sign",
          "trailer",
          "train",
          "truck",
          "truckgroup",
          "tunnel",
          "vegetation",
          "wall"
         ],
         "y": [
          63,
          6,
          5,
          217,
          19,
          704,
          0,
          57,
          102,
          95,
          78,
          109,
          53,
          143,
          36,
          0,
          95,
          41,
          228,
          4,
          1318,
          5,
          0,
          0,
          63,
          0,
          91,
          191,
          87,
          1151,
          207,
          267,
          562,
          0,
          6,
          25,
          1,
          2,
          468,
          49
         ]
        },
        {
         "showlegend": false,
         "text": [
          122,
          11,
          0,
          313,
          16,
          951,
          2,
          62,
          153,
          142,
          129,
          13,
          0,
          105,
          14,
          0,
          142,
          6,
          566,
          41,
          1422,
          14,
          0,
          0,
          73,
          0,
          141,
          332,
          141,
          1187,
          121,
          155,
          694,
          2,
          0,
          9,
          0,
          0,
          579,
          126
         ],
         "type": "bar",
         "visible": false,
         "x": [
          "bicycle",
          "bicyclegroup",
          "bridge",
          "building",
          "bus",
          "car",
          "caravan",
          "cargroup",
          "dynamic",
          "ego vehicle",
          "fence",
          "ground",
          "guard rail",
          "license plate",
          "motorcycle",
          "motorcyclegroup",
          "out of roi",
          "parking",
          "person",
          "persongroup",
          "pole",
          "polegroup",
          "rail track",
          "rectification border",
          "rider",
          "ridergroup",
          "road",
          "sidewalk",
          "sky",
          "static",
          "terrain",
          "traffic light",
          "traffic sign",
          "trailer",
          "train",
          "truck",
          "truckgroup",
          "tunnel",
          "vegetation",
          "wall"
         ],
         "y": [
          122,
          11,
          0,
          313,
          16,
          951,
          2,
          62,
          153,
          142,
          129,
          13,
          0,
          105,
          14,
          0,
          142,
          6,
          566,
          41,
          1422,
          14,
          0,
          0,
          73,
          0,
          141,
          332,
          141,
          1187,
          121,
          155,
          694,
          2,
          0,
          9,
          0,
          0,
          579,
          126
         ]
        },
        {
         "showlegend": false,
         "text": [
          137,
          21,
          1,
          398,
          11,
          1016,
          0,
          19,
          256,
          122,
          97,
          112,
          1,
          98,
          64,
          0,
          122,
          18,
          899,
          23,
          1565,
          5,
          0,
          0,
          107,
          0,
          125,
          303,
          122,
          1649,
          161,
          547,
          706,
          3,
          32,
          19,
          0,
          0,
          694,
          99
         ],
         "type": "bar",
         "visible": false,
         "x": [
          "bicycle",
          "bicyclegroup",
          "bridge",
          "building",
          "bus",
          "car",
          "caravan",
          "cargroup",
          "dynamic",
          "ego vehicle",
          "fence",
          "ground",
          "guard rail",
          "license plate",
          "motorcycle",
          "motorcyclegroup",
          "out of roi",
          "parking",
          "person",
          "persongroup",
          "pole",
          "polegroup",
          "rail track",
          "rectification border",
          "rider",
          "ridergroup",
          "road",
          "sidewalk",
          "sky",
          "static",
          "terrain",
          "traffic light",
          "traffic sign",
          "trailer",
          "train",
          "truck",
          "truckgroup",
          "tunnel",
          "vegetation",
          "wall"
         ],
         "y": [
          137,
          21,
          1,
          398,
          11,
          1016,
          0,
          19,
          256,
          122,
          97,
          112,
          1,
          98,
          64,
          0,
          122,
          18,
          899,
          23,
          1565,
          5,
          0,
          0,
          107,
          0,
          125,
          303,
          122,
          1649,
          161,
          547,
          706,
          3,
          32,
          19,
          0,
          0,
          694,
          99
         ]
        },
        {
         "showlegend": false,
         "text": [
          443,
          82,
          13,
          535,
          58,
          2599,
          2,
          131,
          444,
          267,
          242,
          172,
          0,
          600,
          109,
          0,
          267,
          69,
          2309,
          124,
          6786,
          44,
          19,
          1068,
          271,
          2,
          277,
          712,
          254,
          4881,
          231,
          1138,
          2636,
          1,
          23,
          36,
          0,
          0,
          1266,
          228
         ],
         "type": "bar",
         "visible": false,
         "x": [
          "bicycle",
          "bicyclegroup",
          "bridge",
          "building",
          "bus",
          "car",
          "caravan",
          "cargroup",
          "dynamic",
          "ego vehicle",
          "fence",
          "ground",
          "guard rail",
          "license plate",
          "motorcycle",
          "motorcyclegroup",
          "out of roi",
          "parking",
          "person",
          "persongroup",
          "pole",
          "polegroup",
          "rail track",
          "rectification border",
          "rider",
          "ridergroup",
          "road",
          "sidewalk",
          "sky",
          "static",
          "terrain",
          "traffic light",
          "traffic sign",
          "trailer",
          "train",
          "truck",
          "truckgroup",
          "tunnel",
          "vegetation",
          "wall"
         ],
         "y": [
          443,
          82,
          13,
          535,
          58,
          2599,
          2,
          131,
          444,
          267,
          242,
          172,
          0,
          600,
          109,
          0,
          267,
          69,
          2309,
          124,
          6786,
          44,
          19,
          1068,
          271,
          2,
          277,
          712,
          254,
          4881,
          231,
          1138,
          2636,
          1,
          23,
          36,
          0,
          0,
          1266,
          228
         ]
        },
        {
         "showlegend": false,
         "text": [
          11,
          2,
          0,
          143,
          1,
          273,
          0,
          13,
          45,
          59,
          26,
          40,
          2,
          41,
          1,
          0,
          59,
          13,
          53,
          3,
          317,
          5,
          0,
          0,
          7,
          0,
          46,
          62,
          47,
          361,
          62,
          18,
          154,
          1,
          0,
          25,
          0,
          0,
          304,
          26
         ],
         "type": "bar",
         "visible": false,
         "x": [
          "bicycle",
          "bicyclegroup",
          "bridge",
          "building",
          "bus",
          "car",
          "caravan",
          "cargroup",
          "dynamic",
          "ego vehicle",
          "fence",
          "ground",
          "guard rail",
          "license plate",
          "motorcycle",
          "motorcyclegroup",
          "out of roi",
          "parking",
          "person",
          "persongroup",
          "pole",
          "polegroup",
          "rail track",
          "rectification border",
          "rider",
          "ridergroup",
          "road",
          "sidewalk",
          "sky",
          "static",
          "terrain",
          "traffic light",
          "traffic sign",
          "trailer",
          "train",
          "truck",
          "truckgroup",
          "tunnel",
          "vegetation",
          "wall"
         ],
         "y": [
          11,
          2,
          0,
          143,
          1,
          273,
          0,
          13,
          45,
          59,
          26,
          40,
          2,
          41,
          1,
          0,
          59,
          13,
          53,
          3,
          317,
          5,
          0,
          0,
          7,
          0,
          46,
          62,
          47,
          361,
          62,
          18,
          154,
          1,
          0,
          25,
          0,
          0,
          304,
          26
         ]
        },
        {
         "showlegend": false,
         "text": [
          721,
          149,
          9,
          482,
          39,
          1795,
          6,
          16,
          273,
          174,
          104,
          100,
          0,
          224,
          39,
          0,
          174,
          70,
          1057,
          15,
          2741,
          6,
          0,
          0,
          278,
          0,
          175,
          443,
          177,
          3545,
          320,
          505,
          1318,
          11,
          0,
          32,
          0,
          0,
          1153,
          99
         ],
         "type": "bar",
         "visible": false,
         "x": [
          "bicycle",
          "bicyclegroup",
          "bridge",
          "building",
          "bus",
          "car",
          "caravan",
          "cargroup",
          "dynamic",
          "ego vehicle",
          "fence",
          "ground",
          "guard rail",
          "license plate",
          "motorcycle",
          "motorcyclegroup",
          "out of roi",
          "parking",
          "person",
          "persongroup",
          "pole",
          "polegroup",
          "rail track",
          "rectification border",
          "rider",
          "ridergroup",
          "road",
          "sidewalk",
          "sky",
          "static",
          "terrain",
          "traffic light",
          "traffic sign",
          "trailer",
          "train",
          "truck",
          "truckgroup",
          "tunnel",
          "vegetation",
          "wall"
         ],
         "y": [
          721,
          149,
          9,
          482,
          39,
          1795,
          6,
          16,
          273,
          174,
          104,
          100,
          0,
          224,
          39,
          0,
          174,
          70,
          1057,
          15,
          2741,
          6,
          0,
          0,
          278,
          0,
          175,
          443,
          177,
          3545,
          320,
          505,
          1318,
          11,
          0,
          32,
          0,
          0,
          1153,
          99
         ]
        }
       ],
       "layout": {
        "template": {
         "data": {
          "bar": [
           {
            "error_x": {
             "color": "#2a3f5f"
            },
            "error_y": {
             "color": "#2a3f5f"
            },
            "marker": {
             "line": {
              "color": "#E5ECF6",
              "width": 0.5
             },
             "pattern": {
              "fillmode": "overlay",
              "size": 10,
              "solidity": 0.2
             }
            },
            "type": "bar"
           }
          ],
          "barpolar": [
           {
            "marker": {
             "line": {
              "color": "#E5ECF6",
              "width": 0.5
             },
             "pattern": {
              "fillmode": "overlay",
              "size": 10,
              "solidity": 0.2
             }
            },
            "type": "barpolar"
           }
          ],
          "carpet": [
           {
            "aaxis": {
             "endlinecolor": "#2a3f5f",
             "gridcolor": "white",
             "linecolor": "white",
             "minorgridcolor": "white",
             "startlinecolor": "#2a3f5f"
            },
            "baxis": {
             "endlinecolor": "#2a3f5f",
             "gridcolor": "white",
             "linecolor": "white",
             "minorgridcolor": "white",
             "startlinecolor": "#2a3f5f"
            },
            "type": "carpet"
           }
          ],
          "choropleth": [
           {
            "colorbar": {
             "outlinewidth": 0,
             "ticks": ""
            },
            "type": "choropleth"
           }
          ],
          "contour": [
           {
            "colorbar": {
             "outlinewidth": 0,
             "ticks": ""
            },
            "colorscale": [
             [
              0,
              "#0d0887"
             ],
             [
              0.1111111111111111,
              "#46039f"
             ],
             [
              0.2222222222222222,
              "#7201a8"
             ],
             [
              0.3333333333333333,
              "#9c179e"
             ],
             [
              0.4444444444444444,
              "#bd3786"
             ],
             [
              0.5555555555555556,
              "#d8576b"
             ],
             [
              0.6666666666666666,
              "#ed7953"
             ],
             [
              0.7777777777777778,
              "#fb9f3a"
             ],
             [
              0.8888888888888888,
              "#fdca26"
             ],
             [
              1,
              "#f0f921"
             ]
            ],
            "type": "contour"
           }
          ],
          "contourcarpet": [
           {
            "colorbar": {
             "outlinewidth": 0,
             "ticks": ""
            },
            "type": "contourcarpet"
           }
          ],
          "heatmap": [
           {
            "colorbar": {
             "outlinewidth": 0,
             "ticks": ""
            },
            "colorscale": [
             [
              0,
              "#0d0887"
             ],
             [
              0.1111111111111111,
              "#46039f"
             ],
             [
              0.2222222222222222,
              "#7201a8"
             ],
             [
              0.3333333333333333,
              "#9c179e"
             ],
             [
              0.4444444444444444,
              "#bd3786"
             ],
             [
              0.5555555555555556,
              "#d8576b"
             ],
             [
              0.6666666666666666,
              "#ed7953"
             ],
             [
              0.7777777777777778,
              "#fb9f3a"
             ],
             [
              0.8888888888888888,
              "#fdca26"
             ],
             [
              1,
              "#f0f921"
             ]
            ],
            "type": "heatmap"
           }
          ],
          "heatmapgl": [
           {
            "colorbar": {
             "outlinewidth": 0,
             "ticks": ""
            },
            "colorscale": [
             [
              0,
              "#0d0887"
             ],
             [
              0.1111111111111111,
              "#46039f"
             ],
             [
              0.2222222222222222,
              "#7201a8"
             ],
             [
              0.3333333333333333,
              "#9c179e"
             ],
             [
              0.4444444444444444,
              "#bd3786"
             ],
             [
              0.5555555555555556,
              "#d8576b"
             ],
             [
              0.6666666666666666,
              "#ed7953"
             ],
             [
              0.7777777777777778,
              "#fb9f3a"
             ],
             [
              0.8888888888888888,
              "#fdca26"
             ],
             [
              1,
              "#f0f921"
             ]
            ],
            "type": "heatmapgl"
           }
          ],
          "histogram": [
           {
            "marker": {
             "pattern": {
              "fillmode": "overlay",
              "size": 10,
              "solidity": 0.2
             }
            },
            "type": "histogram"
           }
          ],
          "histogram2d": [
           {
            "colorbar": {
             "outlinewidth": 0,
             "ticks": ""
            },
            "colorscale": [
             [
              0,
              "#0d0887"
             ],
             [
              0.1111111111111111,
              "#46039f"
             ],
             [
              0.2222222222222222,
              "#7201a8"
             ],
             [
              0.3333333333333333,
              "#9c179e"
             ],
             [
              0.4444444444444444,
              "#bd3786"
             ],
             [
              0.5555555555555556,
              "#d8576b"
             ],
             [
              0.6666666666666666,
              "#ed7953"
             ],
             [
              0.7777777777777778,
              "#fb9f3a"
             ],
             [
              0.8888888888888888,
              "#fdca26"
             ],
             [
              1,
              "#f0f921"
             ]
            ],
            "type": "histogram2d"
           }
          ],
          "histogram2dcontour": [
           {
            "colorbar": {
             "outlinewidth": 0,
             "ticks": ""
            },
            "colorscale": [
             [
              0,
              "#0d0887"
             ],
             [
              0.1111111111111111,
              "#46039f"
             ],
             [
              0.2222222222222222,
              "#7201a8"
             ],
             [
              0.3333333333333333,
              "#9c179e"
             ],
             [
              0.4444444444444444,
              "#bd3786"
             ],
             [
              0.5555555555555556,
              "#d8576b"
             ],
             [
              0.6666666666666666,
              "#ed7953"
             ],
             [
              0.7777777777777778,
              "#fb9f3a"
             ],
             [
              0.8888888888888888,
              "#fdca26"
             ],
             [
              1,
              "#f0f921"
             ]
            ],
            "type": "histogram2dcontour"
           }
          ],
          "mesh3d": [
           {
            "colorbar": {
             "outlinewidth": 0,
             "ticks": ""
            },
            "type": "mesh3d"
           }
          ],
          "parcoords": [
           {
            "line": {
             "colorbar": {
              "outlinewidth": 0,
              "ticks": ""
             }
            },
            "type": "parcoords"
           }
          ],
          "pie": [
           {
            "automargin": true,
            "type": "pie"
           }
          ],
          "scatter": [
           {
            "fillpattern": {
             "fillmode": "overlay",
             "size": 10,
             "solidity": 0.2
            },
            "type": "scatter"
           }
          ],
          "scatter3d": [
           {
            "line": {
             "colorbar": {
              "outlinewidth": 0,
              "ticks": ""
             }
            },
            "marker": {
             "colorbar": {
              "outlinewidth": 0,
              "ticks": ""
             }
            },
            "type": "scatter3d"
           }
          ],
          "scattercarpet": [
           {
            "marker": {
             "colorbar": {
              "outlinewidth": 0,
              "ticks": ""
             }
            },
            "type": "scattercarpet"
           }
          ],
          "scattergeo": [
           {
            "marker": {
             "colorbar": {
              "outlinewidth": 0,
              "ticks": ""
             }
            },
            "type": "scattergeo"
           }
          ],
          "scattergl": [
           {
            "marker": {
             "colorbar": {
              "outlinewidth": 0,
              "ticks": ""
             }
            },
            "type": "scattergl"
           }
          ],
          "scattermapbox": [
           {
            "marker": {
             "colorbar": {
              "outlinewidth": 0,
              "ticks": ""
             }
            },
            "type": "scattermapbox"
           }
          ],
          "scatterpolar": [
           {
            "marker": {
             "colorbar": {
              "outlinewidth": 0,
              "ticks": ""
             }
            },
            "type": "scatterpolar"
           }
          ],
          "scatterpolargl": [
           {
            "marker": {
             "colorbar": {
              "outlinewidth": 0,
              "ticks": ""
             }
            },
            "type": "scatterpolargl"
           }
          ],
          "scatterternary": [
           {
            "marker": {
             "colorbar": {
              "outlinewidth": 0,
              "ticks": ""
             }
            },
            "type": "scatterternary"
           }
          ],
          "surface": [
           {
            "colorbar": {
             "outlinewidth": 0,
             "ticks": ""
            },
            "colorscale": [
             [
              0,
              "#0d0887"
             ],
             [
              0.1111111111111111,
              "#46039f"
             ],
             [
              0.2222222222222222,
              "#7201a8"
             ],
             [
              0.3333333333333333,
              "#9c179e"
             ],
             [
              0.4444444444444444,
              "#bd3786"
             ],
             [
              0.5555555555555556,
              "#d8576b"
             ],
             [
              0.6666666666666666,
              "#ed7953"
             ],
             [
              0.7777777777777778,
              "#fb9f3a"
             ],
             [
              0.8888888888888888,
              "#fdca26"
             ],
             [
              1,
              "#f0f921"
             ]
            ],
            "type": "surface"
           }
          ],
          "table": [
           {
            "cells": {
             "fill": {
              "color": "#EBF0F8"
             },
             "line": {
              "color": "white"
             }
            },
            "header": {
             "fill": {
              "color": "#C8D4E3"
             },
             "line": {
              "color": "white"
             }
            },
            "type": "table"
           }
          ]
         },
         "layout": {
          "annotationdefaults": {
           "arrowcolor": "#2a3f5f",
           "arrowhead": 0,
           "arrowwidth": 1
          },
          "autotypenumbers": "strict",
          "coloraxis": {
           "colorbar": {
            "outlinewidth": 0,
            "ticks": ""
           }
          },
          "colorscale": {
           "diverging": [
            [
             0,
             "#8e0152"
            ],
            [
             0.1,
             "#c51b7d"
            ],
            [
             0.2,
             "#de77ae"
            ],
            [
             0.3,
             "#f1b6da"
            ],
            [
             0.4,
             "#fde0ef"
            ],
            [
             0.5,
             "#f7f7f7"
            ],
            [
             0.6,
             "#e6f5d0"
            ],
            [
             0.7,
             "#b8e186"
            ],
            [
             0.8,
             "#7fbc41"
            ],
            [
             0.9,
             "#4d9221"
            ],
            [
             1,
             "#276419"
            ]
           ],
           "sequential": [
            [
             0,
             "#0d0887"
            ],
            [
             0.1111111111111111,
             "#46039f"
            ],
            [
             0.2222222222222222,
             "#7201a8"
            ],
            [
             0.3333333333333333,
             "#9c179e"
            ],
            [
             0.4444444444444444,
             "#bd3786"
            ],
            [
             0.5555555555555556,
             "#d8576b"
            ],
            [
             0.6666666666666666,
             "#ed7953"
            ],
            [
             0.7777777777777778,
             "#fb9f3a"
            ],
            [
             0.8888888888888888,
             "#fdca26"
            ],
            [
             1,
             "#f0f921"
            ]
           ],
           "sequentialminus": [
            [
             0,
             "#0d0887"
            ],
            [
             0.1111111111111111,
             "#46039f"
            ],
            [
             0.2222222222222222,
             "#7201a8"
            ],
            [
             0.3333333333333333,
             "#9c179e"
            ],
            [
             0.4444444444444444,
             "#bd3786"
            ],
            [
             0.5555555555555556,
             "#d8576b"
            ],
            [
             0.6666666666666666,
             "#ed7953"
            ],
            [
             0.7777777777777778,
             "#fb9f3a"
            ],
            [
             0.8888888888888888,
             "#fdca26"
            ],
            [
             1,
             "#f0f921"
            ]
           ]
          },
          "colorway": [
           "#636efa",
           "#EF553B",
           "#00cc96",
           "#ab63fa",
           "#FFA15A",
           "#19d3f3",
           "#FF6692",
           "#B6E880",
           "#FF97FF",
           "#FECB52"
          ],
          "font": {
           "color": "#2a3f5f"
          },
          "geo": {
           "bgcolor": "white",
           "lakecolor": "white",
           "landcolor": "#E5ECF6",
           "showlakes": true,
           "showland": true,
           "subunitcolor": "white"
          },
          "hoverlabel": {
           "align": "left"
          },
          "hovermode": "closest",
          "mapbox": {
           "style": "light"
          },
          "paper_bgcolor": "white",
          "plot_bgcolor": "#E5ECF6",
          "polar": {
           "angularaxis": {
            "gridcolor": "white",
            "linecolor": "white",
            "ticks": ""
           },
           "bgcolor": "#E5ECF6",
           "radialaxis": {
            "gridcolor": "white",
            "linecolor": "white",
            "ticks": ""
           }
          },
          "scene": {
           "xaxis": {
            "backgroundcolor": "#E5ECF6",
            "gridcolor": "white",
            "gridwidth": 2,
            "linecolor": "white",
            "showbackground": true,
            "ticks": "",
            "zerolinecolor": "white"
           },
           "yaxis": {
            "backgroundcolor": "#E5ECF6",
            "gridcolor": "white",
            "gridwidth": 2,
            "linecolor": "white",
            "showbackground": true,
            "ticks": "",
            "zerolinecolor": "white"
           },
           "zaxis": {
            "backgroundcolor": "#E5ECF6",
            "gridcolor": "white",
            "gridwidth": 2,
            "linecolor": "white",
            "showbackground": true,
            "ticks": "",
            "zerolinecolor": "white"
           }
          },
          "shapedefaults": {
           "line": {
            "color": "#2a3f5f"
           }
          },
          "ternary": {
           "aaxis": {
            "gridcolor": "white",
            "linecolor": "white",
            "ticks": ""
           },
           "baxis": {
            "gridcolor": "white",
            "linecolor": "white",
            "ticks": ""
           },
           "bgcolor": "#E5ECF6",
           "caxis": {
            "gridcolor": "white",
            "linecolor": "white",
            "ticks": ""
           }
          },
          "title": {
           "x": 0.05
          },
          "xaxis": {
           "automargin": true,
           "gridcolor": "white",
           "linecolor": "white",
           "ticks": "",
           "title": {
            "standoff": 15
           },
           "zerolinecolor": "white",
           "zerolinewidth": 2
          },
          "yaxis": {
           "automargin": true,
           "gridcolor": "white",
           "linecolor": "white",
           "ticks": "",
           "title": {
            "standoff": 15
           },
           "zerolinecolor": "white",
           "zerolinewidth": 2
          }
         }
        },
        "title": {
         "text": "Labels distribution for berlin"
        },
        "updatemenus": [
         {
          "buttons": [
           {
            "args": [
             {
              "visible": [
               true,
               false,
               false,
               false,
               false,
               false,
               false,
               false,
               false,
               false,
               false,
               false,
               false,
               false,
               false,
               false,
               false,
               false,
               false,
               false,
               false
              ]
             },
             {
              "title": "Labels distribution for aachen"
             }
            ],
            "label": "aachen",
            "method": "update"
           },
           {
            "args": [
             {
              "visible": [
               false,
               true,
               false,
               false,
               false,
               false,
               false,
               false,
               false,
               false,
               false,
               false,
               false,
               false,
               false,
               false,
               false,
               false,
               false,
               false,
               false
              ]
             },
             {
              "title": "Labels distribution for bochum"
             }
            ],
            "label": "bochum",
            "method": "update"
           },
           {
            "args": [
             {
              "visible": [
               false,
               false,
               true,
               false,
               false,
               false,
               false,
               false,
               false,
               false,
               false,
               false,
               false,
               false,
               false,
               false,
               false,
               false,
               false,
               false,
               false
              ]
             },
             {
              "title": "Labels distribution for bremen"
             }
            ],
            "label": "bremen",
            "method": "update"
           },
           {
            "args": [
             {
              "visible": [
               false,
               false,
               false,
               true,
               false,
               false,
               false,
               false,
               false,
               false,
               false,
               false,
               false,
               false,
               false,
               false,
               false,
               false,
               false,
               false,
               false
              ]
             },
             {
              "title": "Labels distribution for cologne"
             }
            ],
            "label": "cologne",
            "method": "update"
           },
           {
            "args": [
             {
              "visible": [
               false,
               false,
               false,
               false,
               true,
               false,
               false,
               false,
               false,
               false,
               false,
               false,
               false,
               false,
               false,
               false,
               false,
               false,
               false,
               false,
               false
              ]
             },
             {
              "title": "Labels distribution for darmstadt"
             }
            ],
            "label": "darmstadt",
            "method": "update"
           },
           {
            "args": [
             {
              "visible": [
               false,
               false,
               false,
               false,
               false,
               true,
               false,
               false,
               false,
               false,
               false,
               false,
               false,
               false,
               false,
               false,
               false,
               false,
               false,
               false,
               false
              ]
             },
             {
              "title": "Labels distribution for dusseldorf"
             }
            ],
            "label": "dusseldorf",
            "method": "update"
           },
           {
            "args": [
             {
              "visible": [
               false,
               false,
               false,
               false,
               false,
               false,
               true,
               false,
               false,
               false,
               false,
               false,
               false,
               false,
               false,
               false,
               false,
               false,
               false,
               false,
               false
              ]
             },
             {
              "title": "Labels distribution for erfurt"
             }
            ],
            "label": "erfurt",
            "method": "update"
           },
           {
            "args": [
             {
              "visible": [
               false,
               false,
               false,
               false,
               false,
               false,
               false,
               true,
               false,
               false,
               false,
               false,
               false,
               false,
               false,
               false,
               false,
               false,
               false,
               false,
               false
              ]
             },
             {
              "title": "Labels distribution for hamburg"
             }
            ],
            "label": "hamburg",
            "method": "update"
           },
           {
            "args": [
             {
              "visible": [
               false,
               false,
               false,
               false,
               false,
               false,
               false,
               false,
               true,
               false,
               false,
               false,
               false,
               false,
               false,
               false,
               false,
               false,
               false,
               false,
               false
              ]
             },
             {
              "title": "Labels distribution for hanover"
             }
            ],
            "label": "hanover",
            "method": "update"
           },
           {
            "args": [
             {
              "visible": [
               false,
               false,
               false,
               false,
               false,
               false,
               false,
               false,
               false,
               true,
               false,
               false,
               false,
               false,
               false,
               false,
               false,
               false,
               false,
               false,
               false
              ]
             },
             {
              "title": "Labels distribution for jena"
             }
            ],
            "label": "jena",
            "method": "update"
           },
           {
            "args": [
             {
              "visible": [
               false,
               false,
               false,
               false,
               false,
               false,
               false,
               false,
               false,
               false,
               true,
               false,
               false,
               false,
               false,
               false,
               false,
               false,
               false,
               false,
               false
              ]
             },
             {
              "title": "Labels distribution for krefeld"
             }
            ],
            "label": "krefeld",
            "method": "update"
           },
           {
            "args": [
             {
              "visible": [
               false,
               false,
               false,
               false,
               false,
               false,
               false,
               false,
               false,
               false,
               false,
               true,
               false,
               false,
               false,
               false,
               false,
               false,
               false,
               false,
               false
              ]
             },
             {
              "title": "Labels distribution for monchengladbach"
             }
            ],
            "label": "monchengladbach",
            "method": "update"
           },
           {
            "args": [
             {
              "visible": [
               false,
               false,
               false,
               false,
               false,
               false,
               false,
               false,
               false,
               false,
               false,
               false,
               true,
               false,
               false,
               false,
               false,
               false,
               false,
               false,
               false
              ]
             },
             {
              "title": "Labels distribution for strasbourg"
             }
            ],
            "label": "strasbourg",
            "method": "update"
           },
           {
            "args": [
             {
              "visible": [
               false,
               false,
               false,
               false,
               false,
               false,
               false,
               false,
               false,
               false,
               false,
               false,
               false,
               true,
               false,
               false,
               false,
               false,
               false,
               false,
               false
              ]
             },
             {
              "title": "Labels distribution for stuttgart"
             }
            ],
            "label": "stuttgart",
            "method": "update"
           },
           {
            "args": [
             {
              "visible": [
               false,
               false,
               false,
               false,
               false,
               false,
               false,
               false,
               false,
               false,
               false,
               false,
               false,
               false,
               true,
               false,
               false,
               false,
               false,
               false,
               false
              ]
             },
             {
              "title": "Labels distribution for tubingen"
             }
            ],
            "label": "tubingen",
            "method": "update"
           },
           {
            "args": [
             {
              "visible": [
               false,
               false,
               false,
               false,
               false,
               false,
               false,
               false,
               false,
               false,
               false,
               false,
               false,
               false,
               false,
               true,
               false,
               false,
               false,
               false,
               false
              ]
             },
             {
              "title": "Labels distribution for ulm"
             }
            ],
            "label": "ulm",
            "method": "update"
           },
           {
            "args": [
             {
              "visible": [
               false,
               false,
               false,
               false,
               false,
               false,
               false,
               false,
               false,
               false,
               false,
               false,
               false,
               false,
               false,
               false,
               true,
               false,
               false,
               false,
               false
              ]
             },
             {
              "title": "Labels distribution for weimar"
             }
            ],
            "label": "weimar",
            "method": "update"
           },
           {
            "args": [
             {
              "visible": [
               false,
               false,
               false,
               false,
               false,
               false,
               false,
               false,
               false,
               false,
               false,
               false,
               false,
               false,
               false,
               false,
               false,
               true,
               false,
               false,
               false
              ]
             },
             {
              "title": "Labels distribution for zurich"
             }
            ],
            "label": "zurich",
            "method": "update"
           },
           {
            "args": [
             {
              "visible": [
               false,
               false,
               false,
               false,
               false,
               false,
               false,
               false,
               false,
               false,
               false,
               false,
               false,
               false,
               false,
               false,
               false,
               false,
               true,
               false,
               false
              ]
             },
             {
              "title": "Labels distribution for frankfurt"
             }
            ],
            "label": "frankfurt",
            "method": "update"
           },
           {
            "args": [
             {
              "visible": [
               false,
               false,
               false,
               false,
               false,
               false,
               false,
               false,
               false,
               false,
               false,
               false,
               false,
               false,
               false,
               false,
               false,
               false,
               false,
               true,
               false
              ]
             },
             {
              "title": "Labels distribution for lindau"
             }
            ],
            "label": "lindau",
            "method": "update"
           },
           {
            "args": [
             {
              "visible": [
               false,
               false,
               false,
               false,
               false,
               false,
               false,
               false,
               false,
               false,
               false,
               false,
               false,
               false,
               false,
               false,
               false,
               false,
               false,
               false,
               true
              ]
             },
             {
              "title": "Labels distribution for munster"
             }
            ],
            "label": "munster",
            "method": "update"
           }
          ],
          "direction": "down",
          "showactive": true
         }
        ],
        "xaxis": {
         "anchor": "y",
         "domain": [
          0,
          1
         ],
         "tickangle": -60,
         "title": {
          "text": "Labels"
         }
        },
        "yaxis": {
         "anchor": "x",
         "domain": [
          0,
          1
         ],
         "title": {
          "text": "Count"
         }
        }
       }
      }
     },
     "metadata": {},
     "output_type": "display_data"
    }
   ],
   "source": [
    "# Function to generate bar plot for a given city\n",
    "def generate_bar_plot(city):\n",
    "    city_df = df_count[df_count['city'] == city]\n",
    "    city_df = city_df.sum(axis=0).drop('city').sort_index()\n",
    "    trace = go.Bar(x=city_df.index, y=city_df.values, text=city_df.values)\n",
    "    return trace\n",
    "\n",
    "# Get the list of unique cities\n",
    "cities = df_count['city'].unique()\n",
    "\n",
    "# Create the dropdown menu\n",
    "dropdown_menu = [\n",
    "    {\n",
    "        \"buttons\": [\n",
    "            {\n",
    "                \"label\": city,\n",
    "                \"method\": \"update\",\n",
    "                \"args\": [{\"visible\": [city == c for c in cities]}, {\"title\": f\"Labels distribution for {city}\"}],\n",
    "            }\n",
    "            for city in cities\n",
    "        ],\n",
    "        \"direction\": \"down\",\n",
    "        \"showactive\": True,\n",
    "    }\n",
    "]\n",
    "\n",
    "# Create the layout with the dropdown menu\n",
    "layout = go.Layout(\n",
    "    title=\"Labels Distribution for berlin\",\n",
    "    updatemenus=dropdown_menu,\n",
    "    xaxis=dict(title=\"Labels\", tickangle=-60),\n",
    "    yaxis=dict(title='Count')\n",
    ")\n",
    "\n",
    "# Create the subplots\n",
    "fig = make_subplots(rows=1, cols=1)\n",
    "\n",
    "# Add the bar plots for each city\n",
    "for city in cities:\n",
    "    fig.add_trace(generate_bar_plot(city))\n",
    "\n",
    "# Update the layout and set the initial visibility of the traces\n",
    "fig.update_layout(layout)\n",
    "fig.update_traces(visible=False, showlegend=False)\n",
    "fig.data[0].visible = True\n",
    "\n",
    "# Show the final plot\n",
    "fig.show()"
   ]
  },
  {
   "attachments": {},
   "cell_type": "markdown",
   "metadata": {},
   "source": [
    "# Labels Density\n",
    "\n",
    "In this part, we want to create a heatmap showing the spatial distribution of the labels in the image. For that we initialize a numpy array of shape(1024, 2048) of zeros. And then, for a chosen label, we get all the polygons and increment the array by 1 with its coordiantes. It wille be useful to see how the objects are spatially distributed in all images."
   ]
  },
  {
   "cell_type": "code",
   "execution_count": 7,
   "metadata": {},
   "outputs": [],
   "source": [
    "def compute_polygon(heatmap, label, city):\n",
    "    if label in polygons[city]:\n",
    "            for poly in tqdm(polygons[city][label], desc=city):\n",
    "                try:\n",
    "                    poly = np.array(poly)\n",
    "                    rr, cc = polygon(poly[:, 1], poly[:, 0])\n",
    "                    heatmap[rr, cc] += 1\n",
    "                except:\n",
    "                    pass\n",
    "    return heatmap\n",
    "    \n",
    "def display_heatmap(label, city):\n",
    "    heatmap = np.zeros((1025, 2049))\n",
    "    if city == 'all':\n",
    "        for city in polygons.keys():\n",
    "            heatmap = compute_polygon(heatmap, label, city)\n",
    "    else:\n",
    "        heatmap = compute_polygon(heatmap, label, city)\n",
    "    plt.subplots(figsize=(20, 10))\n",
    "    sns.heatmap(heatmap, xticklabels=False, yticklabels=False).set_title(label, fontdict={'fontsize': 20})"
   ]
  },
  {
   "attachments": {},
   "cell_type": "markdown",
   "metadata": {},
   "source": [
    "We made a try, except statement because we saw that for the road and the sidewalk labels, there are polygon coordinates that are out of the bounds of the images. We verified at the start that all the images have the same size. In consquence, we think that it might be a human error when the polygon were drawn by hand."
   ]
  },
  {
   "cell_type": "code",
   "execution_count": 8,
   "metadata": {},
   "outputs": [
    {
     "data": {
      "application/vnd.jupyter.widget-view+json": {
       "model_id": "d35d6105f7af43f1859f0f805214b530",
       "version_major": 2,
       "version_minor": 0
      },
      "text/plain": [
       "interactive(children=(Dropdown(description='Label:', index=35, options=('terrain', 'rider', 'traffic sign', 'l…"
      ]
     },
     "metadata": {},
     "output_type": "display_data"
    },
    {
     "data": {
      "text/plain": [
       "<function __main__.display_heatmap(label, city)>"
      ]
     },
     "execution_count": 8,
     "metadata": {},
     "output_type": "execute_result"
    }
   ],
   "source": [
    "dd1 = widgets.Dropdown(\n",
    "    options=df_count.drop('city', axis=1).columns.tolist(),\n",
    "    value='rail track',\n",
    "    description='Label:'\n",
    ")\n",
    "\n",
    "dd2 = widgets.Dropdown(\n",
    "    options=['all'] + df_count['city'].sort_index().unique().tolist(),\n",
    "    value='all',\n",
    "    description='City:'\n",
    ")\n",
    "dropdowns = widgets.HBox([dd1, dd2])\n",
    "\n",
    "interact(display_heatmap, label=dd1, city=dd2)"
   ]
  },
  {
   "attachments": {},
   "cell_type": "markdown",
   "metadata": {},
   "source": [
    "We can clearly see the shape of every type of labels being distributed in the image. And we can see that images could be divided into parts where there is a bigger probability of getting a specific label. For example, if we compute it for people, we can assume that it is mostly the horizontal middle part of the image that has people object. For another one like rail tracks, it is mostly on the vertical left and right side of the image that they mostly appear.\n",
    "\n",
    "With this in mind, we could experiment a model that would be trained on certain parts of the images for a chosen label. This specific part could be calculated using a threshold, like 50% of the labels being in it. We also could manage to do a study on spatial bias."
   ]
  },
  {
   "cell_type": "code",
   "execution_count": 10,
   "metadata": {},
   "outputs": [
    {
     "name": "stdout",
     "output_type": "stream",
     "text": [
      "Maximum population density: hamburg 2765.0\n",
      "Minimum population density: monchengladbach 109.0\n"
     ]
    }
   ],
   "source": [
    "df_count['population'] = df_count['person'] + df_count['persongroup'] * 2\n",
    "cities_pop = df_count.groupby('city')['population'].sum()\n",
    "max_city, max_pop = max(cities_pop.items(), key=lambda x: x[1])\n",
    "print('Maximum population density:', max_city, max_pop)\n",
    "\n",
    "min_city, min_pop = min(cities_pop[cities_pop > 100].items(), key=lambda x: x[1])\n",
    "print('Minimum population density:',min_city, min_pop)"
   ]
  },
  {
   "attachments": {},
   "cell_type": "markdown",
   "metadata": {},
   "source": [
    "We can confirm this spatial distribution by computing the heatmap for the label people, on both the maximum and minimum cities in terms of number of people on the image."
   ]
  },
  {
   "cell_type": "code",
   "execution_count": 11,
   "metadata": {},
   "outputs": [
    {
     "name": "stderr",
     "output_type": "stream",
     "text": [
      "hamburg: 100%|██████████| 4412/4412 [00:15<00:00, 282.37it/s]\n"
     ]
    },
    {
     "data": {
      "image/png": "[encoded data removed]",
      "text/plain": [
       "<Figure size 1440x720 with 2 Axes>"
      ]
     },
     "metadata": {
      "needs_background": "light"
     },
     "output_type": "display_data"
    }
   ],
   "source": [
    "display_heatmap('person', max_city)"
   ]
  },
  {
   "cell_type": "code",
   "execution_count": 12,
   "metadata": {},
   "outputs": [
    {
     "name": "stderr",
     "output_type": "stream",
     "text": [
      "monchengladbach: 100%|██████████| 221/221 [00:00<00:00, 274.01it/s]\n"
     ]
    },
    {
     "data": {
      "image/png": "[encoded data removed]",
      "text/plain": [
       "<Figure size 1440x720 with 2 Axes>"
      ]
     },
     "metadata": {
      "needs_background": "light"
     },
     "output_type": "display_data"
    }
   ],
   "source": [
    "display_heatmap('person', min_city)"
   ]
  },
  {
   "attachments": {},
   "cell_type": "markdown",
   "metadata": {},
   "source": [
    "## City Labels Distribution Compared To Mean"
   ]
  },
  {
   "cell_type": "code",
   "execution_count": 53,
   "metadata": {},
   "outputs": [
    {
     "data": {
      "application/vnd.plotly.v1+json": {
       "config": {
        "plotlyServerURL": "https://plot.ly"
       },
       "data": [
        {
         "hovertemplate": "%{x}: %{y:.2f}",
         "marker": {
          "color": [
           "green",
           "red",
           "green",
           "red",
           "green",
           "green",
           "red",
           "green",
           "green",
           "green",
           "green",
           "green",
           "red",
           "green",
           "red",
           "red",
           "green",
           "green",
           "green",
           "green",
           "green",
           "green",
           "green",
           "green",
           "green",
           "green",
           "green",
           "red",
           "red",
           "green",
           "green",
           "green",
           "red",
           "green",
           "green",
           "red",
           "red",
           "green",
           "red",
           "green",
           "red"
          ]
         },
         "text": [
          "84.81",
          "-6.60",
          "50.96",
          "-54.79",
          "26.56",
          "539.97",
          "-0.39",
          "15.94",
          "189.35",
          "0.00",
          "43.31",
          "13.30",
          "-3.00",
          "241.63",
          "-15.85",
          "-0.25",
          "0.00",
          "15.86",
          "2567.41",
          "52.45",
          "777.34",
          "1.70",
          "1081.04",
          "0.00",
          "0.00",
          "29.63",
          "0.00",
          "-2.17",
          "-40.08",
          "11.34",
          "467.63",
          "37.22",
          "-4.96",
          "772.29",
          "0.72",
          "-0.81",
          "-10.69",
          "0.00",
          "-0.16",
          "285.61",
          "-18.70"
         ],
         "type": "bar",
         "x": [
          "bicycle",
          "bicyclegroup",
          "bridge",
          "building",
          "bus",
          "car",
          "caravan",
          "cargroup",
          "dynamic",
          "ego vehicle",
          "fence",
          "ground",
          "guard rail",
          "license plate",
          "motorcycle",
          "motorcyclegroup",
          "out of roi",
          "parking",
          "person",
          "persongroup",
          "pole",
          "polegroup",
          "population",
          "rail track",
          "rectification border",
          "rider",
          "ridergroup",
          "road",
          "sidewalk",
          "sky",
          "static",
          "terrain",
          "traffic light",
          "traffic sign",
          "trailer",
          "train",
          "truck",
          "truckgroup",
          "tunnel",
          "vegetation",
          "wall"
         ],
         "y": [
          84.81487426431246,
          -6.597133757961777,
          50.964705882352945,
          -54.79416058394165,
          26.555555555555554,
          539.967361740707,
          -0.38805970149253843,
          15.939288811795311,
          189.35315757204174,
          0,
          43.3123745819398,
          13.303412462908016,
          -3,
          241.6320166320166,
          -15.854304635761586,
          -0.25,
          0,
          15.86074429771908,
          2567.4050586510266,
          52.44982698961938,
          777.3423423423424,
          1.6969696969696955,
          1081.0430107526884,
          0,
          0,
          29.632237871674505,
          0,
          -2.1743199766013586,
          -40.083079732197156,
          11.342130365659756,
          467.6301886792452,
          37.2241887905605,
          -4.961065573770398,
          772.2923264311816,
          0.7176470588235291,
          -0.8083832335329344,
          -10.688487584650112,
          0,
          -0.15999999999999992,
          285.60734379626865,
          -18.69753610875106
         ]
        }
       ],
       "layout": {
        "template": {
         "data": {
          "bar": [
           {
            "error_x": {
             "color": "#2a3f5f"
            },
            "error_y": {
             "color": "#2a3f5f"
            },
            "marker": {
             "line": {
              "color": "#E5ECF6",
              "width": 0.5
             },
             "pattern": {
              "fillmode": "overlay",
              "size": 10,
              "solidity": 0.2
             }
            },
            "type": "bar"
           }
          ],
          "barpolar": [
           {
            "marker": {
             "line": {
              "color": "#E5ECF6",
              "width": 0.5
             },
             "pattern": {
              "fillmode": "overlay",
              "size": 10,
              "solidity": 0.2
             }
            },
            "type": "barpolar"
           }
          ],
          "carpet": [
           {
            "aaxis": {
             "endlinecolor": "#2a3f5f",
             "gridcolor": "white",
             "linecolor": "white",
             "minorgridcolor": "white",
             "startlinecolor": "#2a3f5f"
            },
            "baxis": {
             "endlinecolor": "#2a3f5f",
             "gridcolor": "white",
             "linecolor": "white",
             "minorgridcolor": "white",
             "startlinecolor": "#2a3f5f"
            },
            "type": "carpet"
           }
          ],
          "choropleth": [
           {
            "colorbar": {
             "outlinewidth": 0,
             "ticks": ""
            },
            "type": "choropleth"
           }
          ],
          "contour": [
           {
            "colorbar": {
             "outlinewidth": 0,
             "ticks": ""
            },
            "colorscale": [
             [
              0,
              "#0d0887"
             ],
             [
              0.1111111111111111,
              "#46039f"
             ],
             [
              0.2222222222222222,
              "#7201a8"
             ],
             [
              0.3333333333333333,
              "#9c179e"
             ],
             [
              0.4444444444444444,
              "#bd3786"
             ],
             [
              0.5555555555555556,
              "#d8576b"
             ],
             [
              0.6666666666666666,
              "#ed7953"
             ],
             [
              0.7777777777777778,
              "#fb9f3a"
             ],
             [
              0.8888888888888888,
              "#fdca26"
             ],
             [
              1,
              "#f0f921"
             ]
            ],
            "type": "contour"
           }
          ],
          "contourcarpet": [
           {
            "colorbar": {
             "outlinewidth": 0,
             "ticks": ""
            },
            "type": "contourcarpet"
           }
          ],
          "heatmap": [
           {
            "colorbar": {
             "outlinewidth": 0,
             "ticks": ""
            },
            "colorscale": [
             [
              0,
              "#0d0887"
             ],
             [
              0.1111111111111111,
              "#46039f"
             ],
             [
              0.2222222222222222,
              "#7201a8"
             ],
             [
              0.3333333333333333,
              "#9c179e"
             ],
             [
              0.4444444444444444,
              "#bd3786"
             ],
             [
              0.5555555555555556,
              "#d8576b"
             ],
             [
              0.6666666666666666,
              "#ed7953"
             ],
             [
              0.7777777777777778,
              "#fb9f3a"
             ],
             [
              0.8888888888888888,
              "#fdca26"
             ],
             [
              1,
              "#f0f921"
             ]
            ],
            "type": "heatmap"
           }
          ],
          "heatmapgl": [
           {
            "colorbar": {
             "outlinewidth": 0,
             "ticks": ""
            },
            "colorscale": [
             [
              0,
              "#0d0887"
             ],
             [
              0.1111111111111111,
              "#46039f"
             ],
             [
              0.2222222222222222,
              "#7201a8"
             ],
             [
              0.3333333333333333,
              "#9c179e"
             ],
             [
              0.4444444444444444,
              "#bd3786"
             ],
             [
              0.5555555555555556,
              "#d8576b"
             ],
             [
              0.6666666666666666,
              "#ed7953"
             ],
             [
              0.7777777777777778,
              "#fb9f3a"
             ],
             [
              0.8888888888888888,
              "#fdca26"
             ],
             [
              1,
              "#f0f921"
             ]
            ],
            "type": "heatmapgl"
           }
          ],
          "histogram": [
           {
            "marker": {
             "pattern": {
              "fillmode": "overlay",
              "size": 10,
              "solidity": 0.2
             }
            },
            "type": "histogram"
           }
          ],
          "histogram2d": [
           {
            "colorbar": {
             "outlinewidth": 0,
             "ticks": ""
            },
            "colorscale": [
             [
              0,
              "#0d0887"
             ],
             [
              0.1111111111111111,
              "#46039f"
             ],
             [
              0.2222222222222222,
              "#7201a8"
             ],
             [
              0.3333333333333333,
              "#9c179e"
             ],
             [
              0.4444444444444444,
              "#bd3786"
             ],
             [
              0.5555555555555556,
              "#d8576b"
             ],
             [
              0.6666666666666666,
              "#ed7953"
             ],
             [
              0.7777777777777778,
              "#fb9f3a"
             ],
             [
              0.8888888888888888,
              "#fdca26"
             ],
             [
              1,
              "#f0f921"
             ]
            ],
            "type": "histogram2d"
           }
          ],
          "histogram2dcontour": [
           {
            "colorbar": {
             "outlinewidth": 0,
             "ticks": ""
            },
            "colorscale": [
             [
              0,
              "#0d0887"
             ],
             [
              0.1111111111111111,
              "#46039f"
             ],
             [
              0.2222222222222222,
              "#7201a8"
             ],
             [
              0.3333333333333333,
              "#9c179e"
             ],
             [
              0.4444444444444444,
              "#bd3786"
             ],
             [
              0.5555555555555556,
              "#d8576b"
             ],
             [
              0.6666666666666666,
              "#ed7953"
             ],
             [
              0.7777777777777778,
              "#fb9f3a"
             ],
             [
              0.8888888888888888,
              "#fdca26"
             ],
             [
              1,
              "#f0f921"
             ]
            ],
            "type": "histogram2dcontour"
           }
          ],
          "mesh3d": [
           {
            "colorbar": {
             "outlinewidth": 0,
             "ticks": ""
            },
            "type": "mesh3d"
           }
          ],
          "parcoords": [
           {
            "line": {
             "colorbar": {
              "outlinewidth": 0,
              "ticks": ""
             }
            },
            "type": "parcoords"
           }
          ],
          "pie": [
           {
            "automargin": true,
            "type": "pie"
           }
          ],
          "scatter": [
           {
            "fillpattern": {
             "fillmode": "overlay",
             "size": 10,
             "solidity": 0.2
            },
            "type": "scatter"
           }
          ],
          "scatter3d": [
           {
            "line": {
             "colorbar": {
              "outlinewidth": 0,
              "ticks": ""
             }
            },
            "marker": {
             "colorbar": {
              "outlinewidth": 0,
              "ticks": ""
             }
            },
            "type": "scatter3d"
           }
          ],
          "scattercarpet": [
           {
            "marker": {
             "colorbar": {
              "outlinewidth": 0,
              "ticks": ""
             }
            },
            "type": "scattercarpet"
           }
          ],
          "scattergeo": [
           {
            "marker": {
             "colorbar": {
              "outlinewidth": 0,
              "ticks": ""
             }
            },
            "type": "scattergeo"
           }
          ],
          "scattergl": [
           {
            "marker": {
             "colorbar": {
              "outlinewidth": 0,
              "ticks": ""
             }
            },
            "type": "scattergl"
           }
          ],
          "scattermapbox": [
           {
            "marker": {
             "colorbar": {
              "outlinewidth": 0,
              "ticks": ""
             }
            },
            "type": "scattermapbox"
           }
          ],
          "scatterpolar": [
           {
            "marker": {
             "colorbar": {
              "outlinewidth": 0,
              "ticks": ""
             }
            },
            "type": "scatterpolar"
           }
          ],
          "scatterpolargl": [
           {
            "marker": {
             "colorbar": {
              "outlinewidth": 0,
              "ticks": ""
             }
            },
            "type": "scatterpolargl"
           }
          ],
          "scatterternary": [
           {
            "marker": {
             "colorbar": {
              "outlinewidth": 0,
              "ticks": ""
             }
            },
            "type": "scatterternary"
           }
          ],
          "surface": [
           {
            "colorbar": {
             "outlinewidth": 0,
             "ticks": ""
            },
            "colorscale": [
             [
              0,
              "#0d0887"
             ],
             [
              0.1111111111111111,
              "#46039f"
             ],
             [
              0.2222222222222222,
              "#7201a8"
             ],
             [
              0.3333333333333333,
              "#9c179e"
             ],
             [
              0.4444444444444444,
              "#bd3786"
             ],
             [
              0.5555555555555556,
              "#d8576b"
             ],
             [
              0.6666666666666666,
              "#ed7953"
             ],
             [
              0.7777777777777778,
              "#fb9f3a"
             ],
             [
              0.8888888888888888,
              "#fdca26"
             ],
             [
              1,
              "#f0f921"
             ]
            ],
            "type": "surface"
           }
          ],
          "table": [
           {
            "cells": {
             "fill": {
              "color": "#EBF0F8"
             },
             "line": {
              "color": "white"
             }
            },
            "header": {
             "fill": {
              "color": "#C8D4E3"
             },
             "line": {
              "color": "white"
             }
            },
            "type": "table"
           }
          ]
         },
         "layout": {
          "annotationdefaults": {
           "arrowcolor": "#2a3f5f",
           "arrowhead": 0,
           "arrowwidth": 1
          },
          "autotypenumbers": "strict",
          "coloraxis": {
           "colorbar": {
            "outlinewidth": 0,
            "ticks": ""
           }
          },
          "colorscale": {
           "diverging": [
            [
             0,
             "#8e0152"
            ],
            [
             0.1,
             "#c51b7d"
            ],
            [
             0.2,
             "#de77ae"
            ],
            [
             0.3,
             "#f1b6da"
            ],
            [
             0.4,
             "#fde0ef"
            ],
            [
             0.5,
             "#f7f7f7"
            ],
            [
             0.6,
             "#e6f5d0"
            ],
            [
             0.7,
             "#b8e186"
            ],
            [
             0.8,
             "#7fbc41"
            ],
            [
             0.9,
             "#4d9221"
            ],
            [
             1,
             "#276419"
            ]
           ],
           "sequential": [
            [
             0,
             "#0d0887"
            ],
            [
             0.1111111111111111,
             "#46039f"
            ],
            [
             0.2222222222222222,
             "#7201a8"
            ],
            [
             0.3333333333333333,
             "#9c179e"
            ],
            [
             0.4444444444444444,
             "#bd3786"
            ],
            [
             0.5555555555555556,
             "#d8576b"
            ],
            [
             0.6666666666666666,
             "#ed7953"
            ],
            [
             0.7777777777777778,
             "#fb9f3a"
            ],
            [
             0.8888888888888888,
             "#fdca26"
            ],
            [
             1,
             "#f0f921"
            ]
           ],
           "sequentialminus": [
            [
             0,
             "#0d0887"
            ],
            [
             0.1111111111111111,
             "#46039f"
            ],
            [
             0.2222222222222222,
             "#7201a8"
            ],
            [
             0.3333333333333333,
             "#9c179e"
            ],
            [
             0.4444444444444444,
             "#bd3786"
            ],
            [
             0.5555555555555556,
             "#d8576b"
            ],
            [
             0.6666666666666666,
             "#ed7953"
            ],
            [
             0.7777777777777778,
             "#fb9f3a"
            ],
            [
             0.8888888888888888,
             "#fdca26"
            ],
            [
             1,
             "#f0f921"
            ]
           ]
          },
          "colorway": [
           "#636efa",
           "#EF553B",
           "#00cc96",
           "#ab63fa",
           "#FFA15A",
           "#19d3f3",
           "#FF6692",
           "#B6E880",
           "#FF97FF",
           "#FECB52"
          ],
          "font": {
           "color": "#2a3f5f"
          },
          "geo": {
           "bgcolor": "white",
           "lakecolor": "white",
           "landcolor": "#E5ECF6",
           "showlakes": true,
           "showland": true,
           "subunitcolor": "white"
          },
          "hoverlabel": {
           "align": "left"
          },
          "hovermode": "closest",
          "mapbox": {
           "style": "light"
          },
          "paper_bgcolor": "white",
          "plot_bgcolor": "#E5ECF6",
          "polar": {
           "angularaxis": {
            "gridcolor": "white",
            "linecolor": "white",
            "ticks": ""
           },
           "bgcolor": "#E5ECF6",
           "radialaxis": {
            "gridcolor": "white",
            "linecolor": "white",
            "ticks": ""
           }
          },
          "scene": {
           "xaxis": {
            "backgroundcolor": "#E5ECF6",
            "gridcolor": "white",
            "gridwidth": 2,
            "linecolor": "white",
            "showbackground": true,
            "ticks": "",
            "zerolinecolor": "white"
           },
           "yaxis": {
            "backgroundcolor": "#E5ECF6",
            "gridcolor": "white",
            "gridwidth": 2,
            "linecolor": "white",
            "showbackground": true,
            "ticks": "",
            "zerolinecolor": "white"
           },
           "zaxis": {
            "backgroundcolor": "#E5ECF6",
            "gridcolor": "white",
            "gridwidth": 2,
            "linecolor": "white",
            "showbackground": true,
            "ticks": "",
            "zerolinecolor": "white"
           }
          },
          "shapedefaults": {
           "line": {
            "color": "#2a3f5f"
           }
          },
          "ternary": {
           "aaxis": {
            "gridcolor": "white",
            "linecolor": "white",
            "ticks": ""
           },
           "baxis": {
            "gridcolor": "white",
            "linecolor": "white",
            "ticks": ""
           },
           "bgcolor": "#E5ECF6",
           "caxis": {
            "gridcolor": "white",
            "linecolor": "white",
            "ticks": ""
           }
          },
          "title": {
           "x": 0.05
          },
          "xaxis": {
           "automargin": true,
           "gridcolor": "white",
           "linecolor": "white",
           "ticks": "",
           "title": {
            "standoff": 15
           },
           "zerolinecolor": "white",
           "zerolinewidth": 2
          },
          "yaxis": {
           "automargin": true,
           "gridcolor": "white",
           "linecolor": "white",
           "ticks": "",
           "title": {
            "standoff": 15
           },
           "zerolinecolor": "white",
           "zerolinewidth": 2
          }
         }
        },
        "title": {
         "text": "Hambourg Labels Compared To The Mean"
        },
        "xaxis": {
         "tickangle": -60,
         "title": {
          "text": "Label"
         }
        },
        "yaxis": {
         "title": {
          "text": "Value"
         }
        }
       }
      }
     },
     "metadata": {},
     "output_type": "display_data"
    }
   ],
   "source": [
    "labels_count_mean = df_count.sort_index(axis=1).mean(numeric_only=True)\n",
    "max_count_minus_mean = (df_count[df_count['city'] == max_city] - labels_count_mean).sum(numeric_only=True)\n",
    "colors = ['red' if x < 0 else 'green' for x in max_count_minus_mean]\n",
    "bar = go.Bar(\n",
    "    x=max_count_minus_mean.index,\n",
    "    y=max_count_minus_mean.values,\n",
    "    text=max_count_minus_mean.apply(lambda x: f'{x:.2f}'),\n",
    "    hovertemplate='%{x}: %{y:.2f}',\n",
    "    marker=dict(color=colors)\n",
    "    ) \n",
    "layout = go.Layout(title='Hambourg Labels Compared To The Mean', xaxis=dict(title='Label', tickangle=-60), yaxis=dict(title='Value'))\n",
    "fig = go.Figure(data=[bar], layout=layout)\n",
    "fig.show()"
   ]
  },
  {
   "attachments": {},
   "cell_type": "markdown",
   "metadata": {},
   "source": [
    "## Images complexity\n",
    "\n",
    "Finally, we want to check the complexity of every images. For that we will calculate the fractal dimension. It is a number that represents the complexity of a geometric object, but can also be used on pictures. There are different mathematical approaches to calculate it, but we will use the easiest one which is box counting. It consists in choosing a number of boxes to surround the image, and at each iteration, the boxes will become smaller. At the end of the algorithm, we can calculate the fractal dimension by taking the coefficient of the slope, of the size of the boxes depending on the count.\n",
    "\n",
    "We will show a short example in this notebook, but the computation for all the images is done by the *generate_fractal.py*."
   ]
  },
  {
   "cell_type": "code",
   "execution_count": 49,
   "metadata": {},
   "outputs": [],
   "source": [
    "def fractal_dimension(path):\n",
    "    city = path.split('/')[3]\n",
    "    img = cv2.imread(path, cv2.IMREAD_GRAYSCALE)\n",
    "    edges = cv2.Canny(img, 100, 200)\n",
    "    box_count = pm.boxcount(edges)\n",
    "    x = np.log(box_count.size)\n",
    "    y = np.log(box_count.count)\n",
    "    slope = linregress(x, y).slope\n",
    "    fd = -slope\n",
    "    return city, fd, edges"
   ]
  },
  {
   "attachments": {},
   "cell_type": "markdown",
   "metadata": {},
   "source": [
    "The function takes for argument a file_path, and then returns the name of the city, the fractal dimension and the edges of the image. At the start it reads the image in grayscale, in order to compute the canny edges on it. Then it passes the result to the box count function of the porespy library. Finally, it computes the fractal dimension by taking the opposite of the slope of the box count in function of their sizes."
   ]
  },
  {
   "cell_type": "code",
   "execution_count": 52,
   "metadata": {},
   "outputs": [
    {
     "data": {
      "application/json": {
       "ascii": false,
       "bar_format": null,
       "colour": null,
       "elapsed": 0.041631221771240234,
       "initial": 0,
       "n": 0,
       "ncols": null,
       "nrows": null,
       "postfix": null,
       "prefix": "",
       "rate": null,
       "total": 10,
       "unit": "it",
       "unit_divisor": 1000,
       "unit_scale": false
      },
      "application/vnd.jupyter.widget-view+json": {
       "model_id": "284f11f11a894b7ea15e1216252c8405",
       "version_major": 2,
       "version_minor": 0
      },
      "text/plain": [
       "  0%|          | 0/10 [00:00<?, ?it/s]"
      ]
     },
     "metadata": {},
     "output_type": "display_data"
    },
    {
     "data": {
      "image/png": "[encoded data removed]",
      "text/plain": [
       "<Figure size 1440x720 with 1 Axes>"
      ]
     },
     "metadata": {
      "needs_background": "light"
     },
     "output_type": "display_data"
    }
   ],
   "source": [
    "path = 'data/gtFine/val/frankfurt/frankfurt_000001_083852_gtFine_color.png'\n",
    "city, fd, img = fractal_dimension(path)\n",
    "\n",
    "fig, ax = plt.subplots(figsize=(20, 10))\n",
    "ax.imshow(img, cmap='gray')\n",
    "ax.set_title(f'Fractal Dimension {city}: {fd:.3f}', fontsize=20)\n",
    "plt.show()"
   ]
  },
  {
   "attachments": {},
   "cell_type": "markdown",
   "metadata": {},
   "source": [
    "We see that for a relatively complex image, the number is equel to 1.495.\n",
    "\n",
    "Finally we can compute the mean of the fractal dimension of every images by city."
   ]
  },
  {
   "cell_type": "code",
   "execution_count": 45,
   "metadata": {},
   "outputs": [
    {
     "data": {
      "application/vnd.plotly.v1+json": {
       "config": {
        "plotlyServerURL": "https://plot.ly"
       },
       "data": [
        {
         "marker": {
          "color": "#FF3D3D"
         },
         "text": [
          "1.453",
          "1.469",
          "1.458",
          "1.479",
          "1.469",
          "1.473",
          "1.436",
          "1.479",
          "1.470",
          "1.438",
          "1.439",
          "1.453",
          "1.450",
          "1.432",
          "1.421",
          "1.438",
          "1.420",
          "1.451",
          "1.485",
          "1.389",
          "1.452"
         ],
         "type": "bar",
         "x": [
          "aachen",
          "bochum",
          "bremen",
          "cologne",
          "darmstadt",
          "dusseldorf",
          "erfurt",
          "hamburg",
          "hanover",
          "jena",
          "krefeld",
          "monchengladbach",
          "strasbourg",
          "stuttgart",
          "tubingen",
          "ulm",
          "weimar",
          "zurich",
          "frankfurt",
          "lindau",
          "munster"
         ],
         "y": [
          1.4534595223222113,
          1.469084891832016,
          1.4577745279147694,
          1.4792137699382937,
          1.4689756273473555,
          1.4732930240518272,
          1.4355623086394433,
          1.4786297297826807,
          1.4696036707971456,
          1.4382801869635367,
          1.4392477821494032,
          1.4526786334830846,
          1.450207657174978,
          1.4323632551600678,
          1.4205024054382818,
          1.4377928633556207,
          1.4197358204117547,
          1.4509335115539068,
          1.4851761703071575,
          1.389389777560245,
          1.4519547907700001
         ]
        }
       ],
       "layout": {
        "template": {
         "data": {
          "bar": [
           {
            "error_x": {
             "color": "#2a3f5f"
            },
            "error_y": {
             "color": "#2a3f5f"
            },
            "marker": {
             "line": {
              "color": "#E5ECF6",
              "width": 0.5
             },
             "pattern": {
              "fillmode": "overlay",
              "size": 10,
              "solidity": 0.2
             }
            },
            "type": "bar"
           }
          ],
          "barpolar": [
           {
            "marker": {
             "line": {
              "color": "#E5ECF6",
              "width": 0.5
             },
             "pattern": {
              "fillmode": "overlay",
              "size": 10,
              "solidity": 0.2
             }
            },
            "type": "barpolar"
           }
          ],
          "carpet": [
           {
            "aaxis": {
             "endlinecolor": "#2a3f5f",
             "gridcolor": "white",
             "linecolor": "white",
             "minorgridcolor": "white",
             "startlinecolor": "#2a3f5f"
            },
            "baxis": {
             "endlinecolor": "#2a3f5f",
             "gridcolor": "white",
             "linecolor": "white",
             "minorgridcolor": "white",
             "startlinecolor": "#2a3f5f"
            },
            "type": "carpet"
           }
          ],
          "choropleth": [
           {
            "colorbar": {
             "outlinewidth": 0,
             "ticks": ""
            },
            "type": "choropleth"
           }
          ],
          "contour": [
           {
            "colorbar": {
             "outlinewidth": 0,
             "ticks": ""
            },
            "colorscale": [
             [
              0,
              "#0d0887"
             ],
             [
              0.1111111111111111,
              "#46039f"
             ],
             [
              0.2222222222222222,
              "#7201a8"
             ],
             [
              0.3333333333333333,
              "#9c179e"
             ],
             [
              0.4444444444444444,
              "#bd3786"
             ],
             [
              0.5555555555555556,
              "#d8576b"
             ],
             [
              0.6666666666666666,
              "#ed7953"
             ],
             [
              0.7777777777777778,
              "#fb9f3a"
             ],
             [
              0.8888888888888888,
              "#fdca26"
             ],
             [
              1,
              "#f0f921"
             ]
            ],
            "type": "contour"
           }
          ],
          "contourcarpet": [
           {
            "colorbar": {
             "outlinewidth": 0,
             "ticks": ""
            },
            "type": "contourcarpet"
           }
          ],
          "heatmap": [
           {
            "colorbar": {
             "outlinewidth": 0,
             "ticks": ""
            },
            "colorscale": [
             [
              0,
              "#0d0887"
             ],
             [
              0.1111111111111111,
              "#46039f"
             ],
             [
              0.2222222222222222,
              "#7201a8"
             ],
             [
              0.3333333333333333,
              "#9c179e"
             ],
             [
              0.4444444444444444,
              "#bd3786"
             ],
             [
              0.5555555555555556,
              "#d8576b"
             ],
             [
              0.6666666666666666,
              "#ed7953"
             ],
             [
              0.7777777777777778,
              "#fb9f3a"
             ],
             [
              0.8888888888888888,
              "#fdca26"
             ],
             [
              1,
              "#f0f921"
             ]
            ],
            "type": "heatmap"
           }
          ],
          "heatmapgl": [
           {
            "colorbar": {
             "outlinewidth": 0,
             "ticks": ""
            },
            "colorscale": [
             [
              0,
              "#0d0887"
             ],
             [
              0.1111111111111111,
              "#46039f"
             ],
             [
              0.2222222222222222,
              "#7201a8"
             ],
             [
              0.3333333333333333,
              "#9c179e"
             ],
             [
              0.4444444444444444,
              "#bd3786"
             ],
             [
              0.5555555555555556,
              "#d8576b"
             ],
             [
              0.6666666666666666,
              "#ed7953"
             ],
             [
              0.7777777777777778,
              "#fb9f3a"
             ],
             [
              0.8888888888888888,
              "#fdca26"
             ],
             [
              1,
              "#f0f921"
             ]
            ],
            "type": "heatmapgl"
           }
          ],
          "histogram": [
           {
            "marker": {
             "pattern": {
              "fillmode": "overlay",
              "size": 10,
              "solidity": 0.2
             }
            },
            "type": "histogram"
           }
          ],
          "histogram2d": [
           {
            "colorbar": {
             "outlinewidth": 0,
             "ticks": ""
            },
            "colorscale": [
             [
              0,
              "#0d0887"
             ],
             [
              0.1111111111111111,
              "#46039f"
             ],
             [
              0.2222222222222222,
              "#7201a8"
             ],
             [
              0.3333333333333333,
              "#9c179e"
             ],
             [
              0.4444444444444444,
              "#bd3786"
             ],
             [
              0.5555555555555556,
              "#d8576b"
             ],
             [
              0.6666666666666666,
              "#ed7953"
             ],
             [
              0.7777777777777778,
              "#fb9f3a"
             ],
             [
              0.8888888888888888,
              "#fdca26"
             ],
             [
              1,
              "#f0f921"
             ]
            ],
            "type": "histogram2d"
           }
          ],
          "histogram2dcontour": [
           {
            "colorbar": {
             "outlinewidth": 0,
             "ticks": ""
            },
            "colorscale": [
             [
              0,
              "#0d0887"
             ],
             [
              0.1111111111111111,
              "#46039f"
             ],
             [
              0.2222222222222222,
              "#7201a8"
             ],
             [
              0.3333333333333333,
              "#9c179e"
             ],
             [
              0.4444444444444444,
              "#bd3786"
             ],
             [
              0.5555555555555556,
              "#d8576b"
             ],
             [
              0.6666666666666666,
              "#ed7953"
             ],
             [
              0.7777777777777778,
              "#fb9f3a"
             ],
             [
              0.8888888888888888,
              "#fdca26"
             ],
             [
              1,
              "#f0f921"
             ]
            ],
            "type": "histogram2dcontour"
           }
          ],
          "mesh3d": [
           {
            "colorbar": {
             "outlinewidth": 0,
             "ticks": ""
            },
            "type": "mesh3d"
           }
          ],
          "parcoords": [
           {
            "line": {
             "colorbar": {
              "outlinewidth": 0,
              "ticks": ""
             }
            },
            "type": "parcoords"
           }
          ],
          "pie": [
           {
            "automargin": true,
            "type": "pie"
           }
          ],
          "scatter": [
           {
            "fillpattern": {
             "fillmode": "overlay",
             "size": 10,
             "solidity": 0.2
            },
            "type": "scatter"
           }
          ],
          "scatter3d": [
           {
            "line": {
             "colorbar": {
              "outlinewidth": 0,
              "ticks": ""
             }
            },
            "marker": {
             "colorbar": {
              "outlinewidth": 0,
              "ticks": ""
             }
            },
            "type": "scatter3d"
           }
          ],
          "scattercarpet": [
           {
            "marker": {
             "colorbar": {
              "outlinewidth": 0,
              "ticks": ""
             }
            },
            "type": "scattercarpet"
           }
          ],
          "scattergeo": [
           {
            "marker": {
             "colorbar": {
              "outlinewidth": 0,
              "ticks": ""
             }
            },
            "type": "scattergeo"
           }
          ],
          "scattergl": [
           {
            "marker": {
             "colorbar": {
              "outlinewidth": 0,
              "ticks": ""
             }
            },
            "type": "scattergl"
           }
          ],
          "scattermapbox": [
           {
            "marker": {
             "colorbar": {
              "outlinewidth": 0,
              "ticks": ""
             }
            },
            "type": "scattermapbox"
           }
          ],
          "scatterpolar": [
           {
            "marker": {
             "colorbar": {
              "outlinewidth": 0,
              "ticks": ""
             }
            },
            "type": "scatterpolar"
           }
          ],
          "scatterpolargl": [
           {
            "marker": {
             "colorbar": {
              "outlinewidth": 0,
              "ticks": ""
             }
            },
            "type": "scatterpolargl"
           }
          ],
          "scatterternary": [
           {
            "marker": {
             "colorbar": {
              "outlinewidth": 0,
              "ticks": ""
             }
            },
            "type": "scatterternary"
           }
          ],
          "surface": [
           {
            "colorbar": {
             "outlinewidth": 0,
             "ticks": ""
            },
            "colorscale": [
             [
              0,
              "#0d0887"
             ],
             [
              0.1111111111111111,
              "#46039f"
             ],
             [
              0.2222222222222222,
              "#7201a8"
             ],
             [
              0.3333333333333333,
              "#9c179e"
             ],
             [
              0.4444444444444444,
              "#bd3786"
             ],
             [
              0.5555555555555556,
              "#d8576b"
             ],
             [
              0.6666666666666666,
              "#ed7953"
             ],
             [
              0.7777777777777778,
              "#fb9f3a"
             ],
             [
              0.8888888888888888,
              "#fdca26"
             ],
             [
              1,
              "#f0f921"
             ]
            ],
            "type": "surface"
           }
          ],
          "table": [
           {
            "cells": {
             "fill": {
              "color": "#EBF0F8"
             },
             "line": {
              "color": "white"
             }
            },
            "header": {
             "fill": {
              "color": "#C8D4E3"
             },
             "line": {
              "color": "white"
             }
            },
            "type": "table"
           }
          ]
         },
         "layout": {
          "annotationdefaults": {
           "arrowcolor": "#2a3f5f",
           "arrowhead": 0,
           "arrowwidth": 1
          },
          "autotypenumbers": "strict",
          "coloraxis": {
           "colorbar": {
            "outlinewidth": 0,
            "ticks": ""
           }
          },
          "colorscale": {
           "diverging": [
            [
             0,
             "#8e0152"
            ],
            [
             0.1,
             "#c51b7d"
            ],
            [
             0.2,
             "#de77ae"
            ],
            [
             0.3,
             "#f1b6da"
            ],
            [
             0.4,
             "#fde0ef"
            ],
            [
             0.5,
             "#f7f7f7"
            ],
            [
             0.6,
             "#e6f5d0"
            ],
            [
             0.7,
             "#b8e186"
            ],
            [
             0.8,
             "#7fbc41"
            ],
            [
             0.9,
             "#4d9221"
            ],
            [
             1,
             "#276419"
            ]
           ],
           "sequential": [
            [
             0,
             "#0d0887"
            ],
            [
             0.1111111111111111,
             "#46039f"
            ],
            [
             0.2222222222222222,
             "#7201a8"
            ],
            [
             0.3333333333333333,
             "#9c179e"
            ],
            [
             0.4444444444444444,
             "#bd3786"
            ],
            [
             0.5555555555555556,
             "#d8576b"
            ],
            [
             0.6666666666666666,
             "#ed7953"
            ],
            [
             0.7777777777777778,
             "#fb9f3a"
            ],
            [
             0.8888888888888888,
             "#fdca26"
            ],
            [
             1,
             "#f0f921"
            ]
           ],
           "sequentialminus": [
            [
             0,
             "#0d0887"
            ],
            [
             0.1111111111111111,
             "#46039f"
            ],
            [
             0.2222222222222222,
             "#7201a8"
            ],
            [
             0.3333333333333333,
             "#9c179e"
            ],
            [
             0.4444444444444444,
             "#bd3786"
            ],
            [
             0.5555555555555556,
             "#d8576b"
            ],
            [
             0.6666666666666666,
             "#ed7953"
            ],
            [
             0.7777777777777778,
             "#fb9f3a"
            ],
            [
             0.8888888888888888,
             "#fdca26"
            ],
            [
             1,
             "#f0f921"
            ]
           ]
          },
          "colorway": [
           "#636efa",
           "#EF553B",
           "#00cc96",
           "#ab63fa",
           "#FFA15A",
           "#19d3f3",
           "#FF6692",
           "#B6E880",
           "#FF97FF",
           "#FECB52"
          ],
          "font": {
           "color": "#2a3f5f"
          },
          "geo": {
           "bgcolor": "white",
           "lakecolor": "white",
           "landcolor": "#E5ECF6",
           "showlakes": true,
           "showland": true,
           "subunitcolor": "white"
          },
          "hoverlabel": {
           "align": "left"
          },
          "hovermode": "closest",
          "mapbox": {
           "style": "light"
          },
          "paper_bgcolor": "white",
          "plot_bgcolor": "#E5ECF6",
          "polar": {
           "angularaxis": {
            "gridcolor": "white",
            "linecolor": "white",
            "ticks": ""
           },
           "bgcolor": "#E5ECF6",
           "radialaxis": {
            "gridcolor": "white",
            "linecolor": "white",
            "ticks": ""
           }
          },
          "scene": {
           "xaxis": {
            "backgroundcolor": "#E5ECF6",
            "gridcolor": "white",
            "gridwidth": 2,
            "linecolor": "white",
            "showbackground": true,
            "ticks": "",
            "zerolinecolor": "white"
           },
           "yaxis": {
            "backgroundcolor": "#E5ECF6",
            "gridcolor": "white",
            "gridwidth": 2,
            "linecolor": "white",
            "showbackground": true,
            "ticks": "",
            "zerolinecolor": "white"
           },
           "zaxis": {
            "backgroundcolor": "#E5ECF6",
            "gridcolor": "white",
            "gridwidth": 2,
            "linecolor": "white",
            "showbackground": true,
            "ticks": "",
            "zerolinecolor": "white"
           }
          },
          "shapedefaults": {
           "line": {
            "color": "#2a3f5f"
           }
          },
          "ternary": {
           "aaxis": {
            "gridcolor": "white",
            "linecolor": "white",
            "ticks": ""
           },
           "baxis": {
            "gridcolor": "white",
            "linecolor": "white",
            "ticks": ""
           },
           "bgcolor": "#E5ECF6",
           "caxis": {
            "gridcolor": "white",
            "linecolor": "white",
            "ticks": ""
           }
          },
          "title": {
           "x": 0.05
          },
          "xaxis": {
           "automargin": true,
           "gridcolor": "white",
           "linecolor": "white",
           "ticks": "",
           "title": {
            "standoff": 15
           },
           "zerolinecolor": "white",
           "zerolinewidth": 2
          },
          "yaxis": {
           "automargin": true,
           "gridcolor": "white",
           "linecolor": "white",
           "ticks": "",
           "title": {
            "standoff": 15
           },
           "zerolinecolor": "white",
           "zerolinewidth": 2
          }
         }
        },
        "title": {
         "text": "Mean Fractal Dimension"
        },
        "xaxis": {
         "tickangle": -60,
         "title": {
          "text": "City"
         }
        },
        "yaxis": {
         "title": {
          "text": "Mean"
         }
        }
       }
      }
     },
     "metadata": {},
     "output_type": "display_data"
    }
   ],
   "source": [
    "df_fractal.mean(axis=0)\n",
    "bar = [go.Bar(x=df_fractal.columns,\n",
    "              y=df_fractal.mean(axis=0),\n",
    "              text=df_fractal.mean(axis=0).apply(lambda x: f'{x:.3f}'),\n",
    "              marker=dict(color='#FF3D3D')\n",
    "              )]\n",
    "fig = go.Figure(data=bar, layout=go.Layout(title='Mean Fractal Dimension', xaxis=dict(title='City', tickangle=-60), yaxis=dict(title='Mean')))\n",
    "fig.show()"
   ]
  },
  {
   "attachments": {},
   "cell_type": "markdown",
   "metadata": {},
   "source": [
    "We see that the numbers are almost all the same, so the standard deviation is relatively low. The city lindau seems to have a less complex image, which can be verified by seeing the plot of the distribution of labels displayed before."
   ]
  }
 ],
 "metadata": {
  "kernelspec": {
   "display_name": "Python 3",
   "language": "python",
   "name": "python3"
  },
  "language_info": {
   "codemirror_mode": {
    "name": "ipython",
    "version": 3
   },
   "file_extension": ".py",
   "mimetype": "text/x-python",
   "name": "python",
   "nbconvert_exporter": "python",
   "pygments_lexer": "ipython3",
   "version": "3.10.3"
  },
  "orig_nbformat": 4
 },
 "nbformat": 4,
 "nbformat_minor": 2
}
